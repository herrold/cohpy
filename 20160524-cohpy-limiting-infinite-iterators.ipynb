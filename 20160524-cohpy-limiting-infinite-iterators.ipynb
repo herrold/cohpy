{
 "cells": [
  {
   "cell_type": "code",
   "execution_count": 1,
   "metadata": {
    "collapsed": true
   },
   "outputs": [],
   "source": [
    "import datetime"
   ]
  },
  {
   "cell_type": "code",
   "execution_count": 2,
   "metadata": {
    "collapsed": true
   },
   "outputs": [],
   "source": [
    "def iter_date(date, increment=datetime.timedelta(days=1)):\n",
    "    while True:\n",
    "        yield date;\n",
    "        date += increment"
   ]
  },
  {
   "cell_type": "code",
   "execution_count": 3,
   "metadata": {
    "collapsed": false
   },
   "outputs": [
    {
     "name": "stdout",
     "output_type": "stream",
     "text": [
      "2016-05-02\n",
      "2016-05-01\n",
      "2016-04-30\n",
      "2016-04-29\n",
      "2016-04-28\n"
     ]
    }
   ],
   "source": [
    "iter_thing = zip(\n",
    "    iter_date(datetime.date(2016, 5, 2), datetime.timedelta(days=-1)),\n",
    "    range(5)\n",
    ")\n",
    "for i, _ in iter_thing:\n",
    "    print(i)"
   ]
  },
  {
   "cell_type": "code",
   "execution_count": 4,
   "metadata": {
    "collapsed": false
   },
   "outputs": [
    {
     "name": "stdout",
     "output_type": "stream",
     "text": [
      "1\n",
      "3\n",
      "5\n",
      "7\n",
      "9\n"
     ]
    }
   ],
   "source": [
    "iter_thing = zip(\n",
    "    iter_date(1, 2),\n",
    "    range(5)\n",
    ")\n",
    "for i, _ in iter_thing:\n",
    "    print(i)"
   ]
  },
  {
   "cell_type": "code",
   "execution_count": 5,
   "metadata": {
    "collapsed": false
   },
   "outputs": [
    {
     "name": "stdout",
     "output_type": "stream",
     "text": [
      "a one\n",
      "a one, anna two\n",
      "a one, anna two, anna two\n",
      "a one, anna two, anna two, anna two\n",
      "a one, anna two, anna two, anna two, anna two\n"
     ]
    }
   ],
   "source": [
    "iter_thing = zip(\n",
    "    iter_date('a one', ', anna two'),\n",
    "    range(5)\n",
    ")\n",
    "for i, _ in iter_thing:\n",
    "    print(i)"
   ]
  },
  {
   "cell_type": "code",
   "execution_count": 6,
   "metadata": {
    "collapsed": false
   },
   "outputs": [
    {
     "name": "stdout",
     "output_type": "stream",
     "text": [
      "a one\n",
      "a one, anna two\n",
      "a one, anna two, anna two\n",
      "a one, anna two, anna two, anna two\n",
      "a one, anna two, anna two, anna two, anna two\n"
     ]
    }
   ],
   "source": [
    "iter_thing = zip(\n",
    "    iter_date('a one', ', anna two'),\n",
    "    5*' '\n",
    ")\n",
    "for i, _ in iter_thing:\n",
    "    print(i)"
   ]
  },
  {
   "cell_type": "code",
   "execution_count": 7,
   "metadata": {
    "collapsed": true
   },
   "outputs": [],
   "source": [
    "from itertools import islice"
   ]
  },
  {
   "cell_type": "code",
   "execution_count": 8,
   "metadata": {
    "collapsed": false
   },
   "outputs": [
    {
     "name": "stdout",
     "output_type": "stream",
     "text": [
      "a one\n",
      "a one, anna two\n",
      "a one, anna two, anna two\n",
      "a one, anna two, anna two, anna two\n",
      "a one, anna two, anna two, anna two, anna two\n"
     ]
    }
   ],
   "source": [
    "for i in islice(iter_date('a one', ', anna two'), 5):\n",
    "    print(i)"
   ]
  },
  {
   "cell_type": "code",
   "execution_count": 9,
   "metadata": {
    "collapsed": false
   },
   "outputs": [
    {
     "name": "stdout",
     "output_type": "stream",
     "text": [
      "a <itertools.islice object at 0xb4b93e8c>\n",
      "a 2016-05-24\n"
     ]
    }
   ],
   "source": [
    "iter_thing = islice(iter_date(datetime.date.today()), 10)\n",
    "print('a', iter_thing)\n",
    "print('a', tuple(iter_thing)[0])\n",
    "for i in iter_thing:\n",
    "    print(i)"
   ]
  }
 ],
 "metadata": {
  "kernelspec": {
   "display_name": "Python 3",
   "language": "python",
   "name": "python3"
  },
  "language_info": {
   "codemirror_mode": {
    "name": "ipython",
    "version": 3
   },
   "file_extension": ".py",
   "mimetype": "text/x-python",
   "name": "python",
   "nbconvert_exporter": "python",
   "pygments_lexer": "ipython3",
   "version": "3.4.3"
  }
 },
 "nbformat": 4,
 "nbformat_minor": 0
}
