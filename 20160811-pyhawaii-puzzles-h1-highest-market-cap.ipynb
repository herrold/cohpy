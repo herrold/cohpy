{
 "cells": [
  {
   "cell_type": "markdown",
   "metadata": {},
   "source": [
    "# [Puzzle H1](https://darkartofcoding.com/pyhawaii-puzzles-20150613/puzzle-h1/)\n",
    "\n",
    "**Question:**\n",
    "\n",
    "Download the following files:\n",
    "    \n",
    "- [AMEX_daily_prices_N.csv](https://drive.google.com/open?id=0B_OKYYQNTKUPWVJSZy1WRzFvalE&authuser=0)\n",
    "- [AMEX_dividends_N.csv](https://drive.google.com/open?id=0B_OKYYQNTKUPcUVQWmROU3h1NHM&authuser=0)\n",
    "\n",
    "The daily_prices file contains stock ticker symbols\n",
    "and opening, high, low and closing prices,\n",
    "as well as sales volumes.\n",
    "The dividends file contains stock ticker symbols\n",
    "and dividend amounts.\n",
    "Only a subset of stocks have dividends,\n",
    "so the stocks in the files do not match one-for-one.\n",
    "Line one of each file is a header row\n",
    "that shows which column is which.\n",
    "For every stock that pays a dividend,\n",
    "calculate the Market Capitalization (volume * closing price)\n",
    "for each day at the stock market’s closing bell.\n",
    "Identify which dividend-paying stock had the\n",
    "highest Market Capitalization of them all.\n",
    "\n",
    "By way of example, based on the samples below,\n",
    "NGI and NAV are dividend-paying stocks, but NEX is not.\n",
    "Calculating the Market Capitalizations (MC) for NGI and NAV,\n",
    "the highest MC is NGI’s with an 200592,\n",
    "thus the answer is NGI\n",
    "\n",
    "    35.05 * 5500 = 192774.9\n",
    "    35.02 * 5400 = 189108.0\n",
    "    41.22 * 3900 = 160758.0\n",
    "    41.64 * 4800 = 199872.0\n",
    "    41.79 * 4800 = 200592.0\n",
    "\n",
    "**SAMPLE prices file:**\n",
    "\n",
    "exchange,symbol,date,opening_price,high_price,low_price,close_price,volume,price_adj_close\n",
    "\n",
    "AMEX,NAV,2010-04-15,35.00,35.01,35.00,35.05,5500,35.00\n",
    " AMEX,NAV,2010-04-16,35.00,35.01,35.00,35.02,5400,35.00\n",
    " AMEX,NEX,2010-03-15,12.00,12.01,12.00,12.00,300,12.00\n",
    " AMEX,NEX,2010-03-16,12.00,12.01,12.00,12.00,310,12.00\n",
    " AMEX,NEX,2010-03-17,12.00,12.01,12.00,12.00,3.11,12.00\n",
    " AMEX,NGI,2011-03-07,41.49,41.49,41.22,41.22,3900,41.22\n",
    " AMEX,NGI,2011-03-04,41.62,41.64,41.00,41.64,4800,41.64\n",
    " AMEX,NGI,2011-03-02,40.96,40.96,41.73,41.79,4800,41.79\n",
    "SAMPLE dividends file:\n",
    " exchange,stock_symbol,date,dividends<br />\n",
    "AMEX,NAV,2011-01-21,0.08\n",
    " AMEX,NGI,2010-12-31,0.06"
   ]
  },
  {
   "cell_type": "code",
   "execution_count": 1,
   "metadata": {
    "collapsed": true
   },
   "outputs": [],
   "source": [
    "import csv"
   ]
  },
  {
   "cell_type": "code",
   "execution_count": 2,
   "metadata": {
    "collapsed": true
   },
   "outputs": [],
   "source": [
    "from itertools import islice"
   ]
  },
  {
   "cell_type": "code",
   "execution_count": 3,
   "metadata": {
    "collapsed": true
   },
   "outputs": [],
   "source": [
    "from collections import defaultdict"
   ]
  },
  {
   "cell_type": "code",
   "execution_count": 4,
   "metadata": {
    "collapsed": false
   },
   "outputs": [
    {
     "name": "stdout",
     "output_type": "stream",
     "text": [
      "NGS 87652530.0\n",
      "NG 263577500.0\n",
      "NVR 308978000.0\n",
      "308978000.0\n"
     ]
    }
   ],
   "source": [
    "# Works, but if/else stuff is ugly.\n",
    "\n",
    "filename = 'AMEX_daily_prices_N.csv'\n",
    "max_market_caps = {}\n",
    "\n",
    "with open(filename) as f:\n",
    "    reader = csv.DictReader(f)\n",
    "    for row in reader:\n",
    "        # print(row)\n",
    "        company = row['stock_symbol']\n",
    "        volume = float(row['stock_volume'])\n",
    "        price = float(row['stock_price_close'])\n",
    "        today_market_cap = volume * price\n",
    "        # print(company, volume, price, today_market_cap)\n",
    "        if company in max_market_caps:\n",
    "            if today_market_cap > max_market_caps[company]:\n",
    "                max_market_caps[company] = today_market_cap\n",
    "        else:\n",
    "            max_market_caps[company] = today_market_cap\n",
    "\n",
    "# print(max_market_caps)\n",
    "for company, max_market_cap in sorted(\n",
    "        max_market_caps.items(),\n",
    "        key=lambda item: item[1])[-3:]:\n",
    "    print(company, max_market_cap)\n",
    "print(max(max_market_caps.values()))"
   ]
  },
  {
   "cell_type": "code",
   "execution_count": 5,
   "metadata": {
    "collapsed": false
   },
   "outputs": [
    {
     "name": "stdout",
     "output_type": "stream",
     "text": [
      "NGS 87652530.0\n",
      "NG 263577500.0\n",
      "NVR 308978000.0\n",
      "308978000.0\n"
     ]
    }
   ],
   "source": [
    "# Used .get() method of dictionary to avoid if/else\n",
    "# and make code more readable.\n",
    "\n",
    "filename = 'AMEX_daily_prices_N.csv'\n",
    "max_market_caps = {}\n",
    "\n",
    "with open(filename) as f:\n",
    "    reader = csv.DictReader(f)\n",
    "    for row in reader:\n",
    "        # print(row)\n",
    "        company = row['stock_symbol']\n",
    "        volume = float(row['stock_volume'])\n",
    "        price = float(row['stock_price_close'])\n",
    "        today_market_cap = volume * price\n",
    "        # print(company, volume, price, today_market_cap)\n",
    "        if today_market_cap > max_market_caps.get(company, 0.):\n",
    "            max_market_caps[company] = today_market_cap\n",
    "\n",
    "# print(max_market_caps)\n",
    "for company, max_market_cap in sorted(\n",
    "        max_market_caps.items(),\n",
    "        key=lambda item: item[1])[-3:]:\n",
    "    print(company, max_market_cap)\n",
    "print(max(max_market_caps.values()))"
   ]
  },
  {
   "cell_type": "code",
   "execution_count": 6,
   "metadata": {
    "collapsed": false
   },
   "outputs": [
    {
     "name": "stdout",
     "output_type": "stream",
     "text": [
      "NGS 87652530.0\n",
      "NG 263577500.0\n",
      "NVR 308978000.0\n",
      "308978000.0\n"
     ]
    }
   ],
   "source": [
    "# Used max() to get rid of the if statement altogether.\n",
    "# Now the ugliest thing is the .get() method call.\n",
    "\n",
    "filename = 'AMEX_daily_prices_N.csv'\n",
    "max_market_caps = {}\n",
    "\n",
    "with open(filename) as f:\n",
    "    reader = csv.DictReader(f)\n",
    "    for row in reader:\n",
    "        # print(row)\n",
    "        company = row['stock_symbol']\n",
    "        volume = float(row['stock_volume'])\n",
    "        price = float(row['stock_price_close'])\n",
    "        today_market_cap = volume * price\n",
    "        # print(company, volume, price, today_market_cap)\n",
    "        max_market_caps[company] = max(\n",
    "            max_market_caps.get(company, 0.), today_market_cap)\n",
    "# print(max_market_caps)\n",
    "for company, max_market_cap in sorted(\n",
    "        max_market_caps.items(),\n",
    "        key=lambda item: item[1])[-3:]:\n",
    "    print(company, max_market_cap)\n",
    "print(max(max_market_caps.values()))"
   ]
  },
  {
   "cell_type": "code",
   "execution_count": 7,
   "metadata": {
    "collapsed": false
   },
   "outputs": [
    {
     "name": "stdout",
     "output_type": "stream",
     "text": [
      "NGS 87652530.0\n",
      "NG 263577500.0\n",
      "NVR 308978000.0\n",
      "308978000.0\n"
     ]
    }
   ],
   "source": [
    "# Used defaultdict to avoid need for .get() method call.\n",
    "# That's as readable as I know how to make that part of the code.\n",
    "\n",
    "filename = 'AMEX_daily_prices_N.csv'\n",
    "max_market_caps = defaultdict(float)\n",
    "\n",
    "with open(filename) as f:\n",
    "    reader = csv.DictReader(f)\n",
    "    for row in reader:\n",
    "        # print(row)\n",
    "        company = row['stock_symbol']\n",
    "        volume = float(row['stock_volume'])\n",
    "        price = float(row['stock_price_close'])\n",
    "        today_market_cap = volume * price\n",
    "        # print(company, volume, price, today_market_cap)\n",
    "        max_market_caps[company] = max(\n",
    "            max_market_caps[company], today_market_cap)\n",
    "# print(max_market_caps)\n",
    "for company, max_market_cap in sorted(\n",
    "        max_market_caps.items(),\n",
    "        key=lambda item: item[1])[-3:]:\n",
    "    print(company, max_market_cap)\n",
    "print(max(max_market_caps.values()))"
   ]
  },
  {
   "cell_type": "code",
   "execution_count": 8,
   "metadata": {
    "collapsed": false
   },
   "outputs": [
    {
     "name": "stdout",
     "output_type": "stream",
     "text": [
      "dividend companies: {'NLR', 'NZF', 'NWF', 'NPN', 'NVJ', 'NEN', 'NWI', 'NFC', 'NCB', 'NVX', 'NHC', 'NMB', 'NRB', 'NXE', 'NZX', 'NGK', 'NXK', 'NXI', 'NKG', 'NKR', 'NOX', 'NGO', 'NYF', 'NPG', 'NDD', 'NKL', 'NBO', 'NKX', 'NBJ', 'NFM', 'NLP', 'NXJ', 'NZW', 'NGX', 'NVY', 'NUJ', 'NPS', 'NCU', 'NNB', 'NEA', 'NFZ', 'NYH', 'NBH', 'NBW', 'NZH', 'NMZ', 'NOM', 'NXM', 'NZR', 'NNO', 'NVG', 'NXZ', 'NII', 'NFO', 'NRO', 'NJV', 'NKO', 'NYV', 'NGB', 'NRK', 'NVR'}\n",
      "dividend companies without market cap: set()\n",
      "non-dividend companies: {'NEP', 'NBS', 'NGD', 'NSU', 'NWD', 'NOG', 'NTN', 'NIV', 'NG', 'NGS', 'NXG', 'NAK', 'NBY', 'NHR', 'NOW', 'NVD'}\n"
     ]
    }
   ],
   "source": [
    "filename = 'AMEX_dividends_N.csv'\n",
    "\n",
    "earning_companies = set()\n",
    "\n",
    "with open(filename) as f:\n",
    "    reader = csv.DictReader(f)\n",
    "    for row in reader:\n",
    "        # print(row)\n",
    "        company = row['stock_symbol']\n",
    "        dividends = float(row['dividends'])\n",
    "        if dividends > 0:\n",
    "            earning_companies |= {company}\n",
    "    \n",
    "print('dividend companies:', earning_companies)\n",
    "print(\n",
    "    'dividend companies without market cap:',\n",
    "    earning_companies - set(max_market_caps))\n",
    "print(\n",
    "    'non-dividend companies:',\n",
    "    set(max_market_caps) - earning_companies)"
   ]
  },
  {
   "cell_type": "code",
   "execution_count": 9,
   "metadata": {
    "collapsed": false
   },
   "outputs": [
    {
     "data": {
      "text/plain": [
       "308978000.0"
      ]
     },
     "execution_count": 9,
     "metadata": {},
     "output_type": "execute_result"
    }
   ],
   "source": [
    "max(\n",
    "    max_market_caps[company]\n",
    "    for company in earning_companies & set(max_market_caps))"
   ]
  },
  {
   "cell_type": "code",
   "execution_count": 10,
   "metadata": {
    "collapsed": false
   },
   "outputs": [
    {
     "name": "stdout",
     "output_type": "stream",
     "text": [
      "['NVR'] 308978000.0\n"
     ]
    }
   ],
   "source": [
    "best_companies = []\n",
    "highest_market_cap = 0.\n",
    "for company, market_cap in max_market_caps.items():\n",
    "    if company not in earning_companies:\n",
    "        continue\n",
    "    if market_cap > highest_market_cap:\n",
    "        highest_market_cap = market_cap\n",
    "        best_companies = [company]\n",
    "    elif market_cap == highest_market_cap:\n",
    "        best_companies.append(company)\n",
    "\n",
    "print(best_companies, highest_market_cap)"
   ]
  },
  {
   "cell_type": "markdown",
   "metadata": {
    "collapsed": true
   },
   "source": [
    "This would have been a more interesting problem if one of the non-earning companies had the highest market cap.\n",
    "\n",
    "If I cared more about really close ties, I would use decimal.Decimal instead of floats.\n",
    "Another approach, would have been to scale prices to integer pennies."
   ]
  }
 ],
 "metadata": {
  "kernelspec": {
   "display_name": "Python 3",
   "language": "python",
   "name": "python3"
  },
  "language_info": {
   "codemirror_mode": {
    "name": "ipython",
    "version": 3
   },
   "file_extension": ".py",
   "mimetype": "text/x-python",
   "name": "python",
   "nbconvert_exporter": "python",
   "pygments_lexer": "ipython3",
   "version": "3.4.3"
  }
 },
 "nbformat": 4,
 "nbformat_minor": 0
}
