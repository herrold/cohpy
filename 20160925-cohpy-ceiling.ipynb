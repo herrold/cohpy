{
 "cells": [
  {
   "cell_type": "code",
   "execution_count": 1,
   "metadata": {
    "collapsed": true
   },
   "outputs": [],
   "source": [
    "import math"
   ]
  },
  {
   "cell_type": "code",
   "execution_count": 2,
   "metadata": {
    "collapsed": false
   },
   "outputs": [],
   "source": [
    "a = (-2.1, -2., -1.9, -1.1, -1., -.9, -.1, 0, .1, .9, 1., 1.1, 1.9, 2., 2.1,)"
   ]
  },
  {
   "cell_type": "code",
   "execution_count": 3,
   "metadata": {
    "collapsed": false
   },
   "outputs": [
    {
     "name": "stdout",
     "output_type": "stream",
     "text": [
      "-2.1 -2\n",
      "-2.0 -2\n",
      "-1.9 -1\n",
      "-1.1 -1\n",
      "-1.0 -1\n",
      "-0.9 0\n",
      "-0.1 0\n",
      "0 0\n",
      "0.1 1\n",
      "0.9 1\n",
      "1.0 1\n",
      "1.1 2\n",
      "1.9 2\n",
      "2.0 2\n",
      "2.1 3\n"
     ]
    }
   ],
   "source": [
    "for x in a:\n",
    "    print(x, math.ceil(x))"
   ]
  }
 ],
 "metadata": {
  "kernelspec": {
   "display_name": "Python 3",
   "language": "python",
   "name": "python3"
  },
  "language_info": {
   "codemirror_mode": {
    "name": "ipython",
    "version": 3
   },
   "file_extension": ".py",
   "mimetype": "text/x-python",
   "name": "python",
   "nbconvert_exporter": "python",
   "pygments_lexer": "ipython3",
   "version": "3.4.3"
  }
 },
 "nbformat": 4,
 "nbformat_minor": 0
}
