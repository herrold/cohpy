{
 "cells": [
  {
   "cell_type": "markdown",
   "metadata": {},
   "source": [
    "Trying to figure out the nominal sizes of\n",
    "some cheap unlabeled mystery combo wrenches.\n",
    "\n",
    "Maybe they came as part of installation kits for housewares."
   ]
  },
  {
   "cell_type": "code",
   "execution_count": 1,
   "metadata": {
    "collapsed": false,
    "deletable": true,
    "editable": true
   },
   "outputs": [],
   "source": [
    "widths = ( # These are measurements. Unit is 1 mm.\n",
    "    13.31,\n",
    "    15.56,\n",
    "    7.05,\n",
    "    12.97,\n",
    "    15.18,\n",
    "    16.22,\n",
    "    17.74,\n",
    "    14.85,\n",
    "    0,\n",
    "    15.08,\n",
    "    6.99,\n",
    "    10.13,\n",
    "    8.26,\n",
    "    0,\n",
    "    11.41,\n",
    "    9.76,\n",
    ")"
   ]
  },
  {
   "cell_type": "code",
   "execution_count": 2,
   "metadata": {
    "collapsed": false,
    "deletable": true,
    "editable": true
   },
   "outputs": [
    {
     "name": "stdout",
     "output_type": "stream",
     "text": [
      "13.31 1.0480314960629922 2.0960629921259843 4.192125984251969 8.384251968503937\n",
      "15.56 1.225196850393701 2.450393700787402 4.900787401574804 9.801574803149608\n",
      "7.05 0.5551181102362205 1.110236220472441 2.220472440944882 4.440944881889764\n",
      "12.97 1.021259842519685 2.04251968503937 4.08503937007874 8.17007874015748\n",
      "15.18 1.1952755905511812 2.3905511811023623 4.781102362204725 9.56220472440945\n",
      "16.22 1.2771653543307087 2.5543307086614173 5.108661417322835 10.21732283464567\n",
      "17.74 1.3968503937007875 2.793700787401575 5.58740157480315 11.1748031496063\n",
      "14.85 1.1692913385826773 2.3385826771653546 4.677165354330709 9.354330708661418\n",
      "0 0.0 0.0 0.0 0.0\n",
      "15.08 1.1874015748031497 2.3748031496062993 4.749606299212599 9.499212598425197\n",
      "6.99 0.5503937007874016 1.1007874015748031 2.2015748031496063 4.403149606299213\n",
      "10.13 0.7976377952755906 1.5952755905511813 3.1905511811023626 6.381102362204725\n",
      "8.26 0.6503937007874016 1.300787401574803 2.601574803149606 5.203149606299212\n",
      "0 0.0 0.0 0.0 0.0\n",
      "11.41 0.8984251968503938 1.7968503937007876 3.593700787401575 7.18740157480315\n",
      "9.76 0.768503937007874 1.537007874015748 3.074015748031496 6.148031496062992\n"
     ]
    }
   ],
   "source": [
    "for x in widths:\n",
    "    sae = x / 25.4\n",
    "    print(x, sae*2, sae*4, sae*8, sae*16)"
   ]
  }
 ],
 "metadata": {
  "kernelspec": {
   "display_name": "Python 3",
   "language": "python",
   "name": "python3"
  },
  "language_info": {
   "codemirror_mode": {
    "name": "ipython",
    "version": 3
   },
   "file_extension": ".py",
   "mimetype": "text/x-python",
   "name": "python",
   "nbconvert_exporter": "python",
   "pygments_lexer": "ipython3",
   "version": "3.6.0"
  }
 },
 "nbformat": 4,
 "nbformat_minor": 2
}
