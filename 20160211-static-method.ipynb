{
 "cells": [
  {
   "cell_type": "markdown",
   "metadata": {},
   "source": [
    "Static methods are simple functions\n",
    "that do not expect either an instance of the class (self),\n",
    "or the class itself (cls) as an argument."
   ]
  },
  {
   "cell_type": "code",
   "execution_count": 1,
   "metadata": {
    "collapsed": true
   },
   "outputs": [],
   "source": [
    "from __future__ import print_function"
   ]
  },
  {
   "cell_type": "code",
   "execution_count": 2,
   "metadata": {
    "collapsed": true
   },
   "outputs": [],
   "source": [
    "class C(object):\n",
    "    @staticmethod\n",
    "    def f(*args):\n",
    "        print('f', repr(args))\n",
    "\n",
    "    def g(*args):\n",
    "        print('g', repr(args))"
   ]
  },
  {
   "cell_type": "code",
   "execution_count": 3,
   "metadata": {
    "collapsed": false
   },
   "outputs": [
    {
     "name": "stdout",
     "output_type": "stream",
     "text": [
      "f ('hello', 'world')\n",
      "g ('whirled', 'peas')\n"
     ]
    }
   ],
   "source": [
    "C.f('hello', 'world')\n",
    "C.g('whirled', 'peas')"
   ]
  },
  {
   "cell_type": "code",
   "execution_count": 4,
   "metadata": {
    "collapsed": false
   },
   "outputs": [
    {
     "name": "stdout",
     "output_type": "stream",
     "text": [
      "f ('Halo', 'mundo')\n",
      "g (<__main__.C object at 0xb4bb6bac>, 'girando', 'pisum')\n"
     ]
    }
   ],
   "source": [
    "c = C()\n",
    "c.f('Halo', 'mundo')\n",
    "c.g('girando', 'pisum')"
   ]
  }
 ],
 "metadata": {
  "kernelspec": {
   "display_name": "Python 3",
   "language": "python",
   "name": "python3"
  },
  "language_info": {
   "codemirror_mode": {
    "name": "ipython",
    "version": 3
   },
   "file_extension": ".py",
   "mimetype": "text/x-python",
   "name": "python",
   "nbconvert_exporter": "python",
   "pygments_lexer": "ipython3",
   "version": "3.4.3"
  }
 },
 "nbformat": 4,
 "nbformat_minor": 0
}
