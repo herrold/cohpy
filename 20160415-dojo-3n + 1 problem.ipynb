{
 "cells": [
  {
   "cell_type": "markdown",
   "metadata": {},
   "source": [
    "Consider the following operation on an arbitrary positive integer:\n",
    "\n",
    "- If the number is even, divide it by two.\n",
    "- If the number is odd, triple it and add one.\n",
    "\n",
    "We will stop at 1.\n",
    "\n",
    "[Hailstone Number](http://mathworld.wolfram.com/HailstoneNumber.html)\n",
    "\n",
    "[The 3n + 1 problem](https://uva.onlinejudge.org/external/1/100.html)\n",
    "\n",
    "[Collatz conjecture](https://en.wikipedia.org/wiki/Collatz_conjecture)\n",
    "\n",
    "[Stanislaw Ulam](https://en.wikipedia.org/wiki/Stanisław_Ulam)\n",
    "- [Teller–Ulam design](https://en.wikipedia.org/wiki/Teller–Ulam_design)\n",
    "- [Monte Carlo method](https://en.wikipedia.org/wiki/Monte_Carlo_method)"
   ]
  },
  {
   "cell_type": "code",
   "execution_count": 1,
   "metadata": {
    "collapsed": false
   },
   "outputs": [],
   "source": [
    "def f(i):\n",
    "    yield i\n",
    "    while i > 1:\n",
    "        if i % 2 == 0:\n",
    "            i //= 2\n",
    "        else:\n",
    "            i = 3 * i + 1\n",
    "        yield i"
   ]
  },
  {
   "cell_type": "code",
   "execution_count": 2,
   "metadata": {
    "collapsed": false
   },
   "outputs": [
    {
     "data": {
      "text/plain": [
       "[22, 11, 34, 17, 52, 26, 13, 40, 20, 10, 5, 16, 8, 4, 2, 1]"
      ]
     },
     "execution_count": 2,
     "metadata": {},
     "output_type": "execute_result"
    }
   ],
   "source": [
    "list(f(22))"
   ]
  },
  {
   "cell_type": "code",
   "execution_count": 3,
   "metadata": {
    "collapsed": true
   },
   "outputs": [],
   "source": [
    "def get_stopping_time(i):\n",
    "    return len(list(f(i)))"
   ]
  },
  {
   "cell_type": "code",
   "execution_count": 4,
   "metadata": {
    "collapsed": false
   },
   "outputs": [],
   "source": [
    "assert get_stopping_time(22) == 16"
   ]
  },
  {
   "cell_type": "code",
   "execution_count": 5,
   "metadata": {
    "collapsed": true
   },
   "outputs": [],
   "source": [
    "def get_stopping_time(i):\n",
    "    '''Directly calculates \"stopping time\",\n",
    "    without saving the hailstone numbers.'''\n",
    "    n = 1\n",
    "    while i > 1:\n",
    "        if i % 2 == 0:\n",
    "            i //= 2\n",
    "        else:\n",
    "            i = 3 * i + 1\n",
    "        n += 1\n",
    "    return n"
   ]
  },
  {
   "cell_type": "code",
   "execution_count": 6,
   "metadata": {
    "collapsed": false
   },
   "outputs": [],
   "source": [
    "assert get_stopping_time(22) == 16"
   ]
  },
  {
   "cell_type": "code",
   "execution_count": 7,
   "metadata": {
    "collapsed": true
   },
   "outputs": [],
   "source": [
    "def foo(i, j):\n",
    "    return max(get_stopping_time(k) for k in range(i, j+1))"
   ]
  },
  {
   "cell_type": "code",
   "execution_count": 8,
   "metadata": {
    "collapsed": false
   },
   "outputs": [],
   "source": [
    "# From bottom of https://uva.onlinejudge.org/external/1/100.html\n",
    "\n",
    "sample_input_output = '''1 10 20\n",
    "100 200 125\n",
    "201 210 89\n",
    "900 1000 174'''"
   ]
  },
  {
   "cell_type": "code",
   "execution_count": 9,
   "metadata": {
    "collapsed": false
   },
   "outputs": [
    {
     "name": "stdout",
     "output_type": "stream",
     "text": [
      "1 10 20\n",
      "100 200 125\n",
      "201 210 89\n",
      "900 1000 174\n"
     ]
    }
   ],
   "source": [
    "for line in sample_input_output.split('\\n'):\n",
    "    i, j, expected_output = [int(s) for s in line.split()]\n",
    "    actual_output = foo(i, j)\n",
    "    assert actual_output == expected_output\n",
    "    print(i, j, actual_output)"
   ]
  }
 ],
 "metadata": {
  "kernelspec": {
   "display_name": "Python 3",
   "language": "python",
   "name": "python3"
  },
  "language_info": {
   "codemirror_mode": {
    "name": "ipython",
    "version": 3
   },
   "file_extension": ".py",
   "mimetype": "text/x-python",
   "name": "python",
   "nbconvert_exporter": "python",
   "pygments_lexer": "ipython3",
   "version": "3.4.3"
  }
 },
 "nbformat": 4,
 "nbformat_minor": 0
}
