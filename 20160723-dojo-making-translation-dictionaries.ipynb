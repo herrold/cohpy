{
 "cells": [
  {
   "cell_type": "markdown",
   "metadata": {},
   "source": [
    "This notebook plays with several ways of making a dictionary for use with\n",
    "[str.translate()](https://docs.python.org/3/library/stdtypes.html#str.translate).\n",
    "\n",
    "[What... is your favorite colour?](https://en.wikiquote.org/wiki/Monty_Python_and_the_Holy_Grail)\n",
    "Which way of making a dictionary is easiest for you to understand?\n",
    "\n",
    "This was inspired by\n",
    "[Chris Andrews'](https://github.com/cw-andrews/master_tbox/blob/master/csv_tools/__init__.py)\n",
    "[__init__.py](https://github.com/cw-andrews/master_tbox/blob/master/csv_tools/__init__.py)."
   ]
  },
  {
   "cell_type": "code",
   "execution_count": 1,
   "metadata": {
    "collapsed": true
   },
   "outputs": [],
   "source": [
    "translation_dict = {\n",
    "    ord(\"@\"): \"\", ord(\"%\"): \"\", ord(\"^\"): \" \",\n",
    "    ord(\"?\"): \"\", ord(\">\"): \"\", ord(\"*\"): \"\",\n",
    "    ord(\"(\"): \"\", ord(\")\"): \"\", ord(\"+\"): \"\",\n",
    "}\n",
    "\n",
    "def foo(terms):\n",
    "    return (term.translate(translation_dict) for term in terms)"
   ]
  },
  {
   "cell_type": "code",
   "execution_count": 2,
   "metadata": {
    "collapsed": true
   },
   "outputs": [],
   "source": [
    "test_terms = (\n",
    "    ('@%?>*()+hello^world',),\n",
    ")"
   ]
  },
  {
   "cell_type": "code",
   "execution_count": 3,
   "metadata": {
    "collapsed": false
   },
   "outputs": [
    {
     "name": "stdout",
     "output_type": "stream",
     "text": [
      "('hello world',)\n"
     ]
    }
   ],
   "source": [
    "for terms in test_terms:\n",
    "    print(tuple(foo(terms)))"
   ]
  },
  {
   "cell_type": "code",
   "execution_count": 4,
   "metadata": {
    "collapsed": true
   },
   "outputs": [],
   "source": [
    "known_good_output = [tuple(foo(terms)) for terms in test_terms]"
   ]
  },
  {
   "cell_type": "code",
   "execution_count": 5,
   "metadata": {
    "collapsed": false
   },
   "outputs": [
    {
     "data": {
      "text/plain": [
       "[('hello world',)]"
      ]
     },
     "execution_count": 5,
     "metadata": {},
     "output_type": "execute_result"
    }
   ],
   "source": [
    "known_good_output"
   ]
  },
  {
   "cell_type": "code",
   "execution_count": 6,
   "metadata": {
    "collapsed": true
   },
   "outputs": [],
   "source": [
    "def test():\n",
    "    assert known_good_output == [\n",
    "        tuple(foo(terms)) for terms in test_terms]\n",
    "\n",
    "test()"
   ]
  },
  {
   "cell_type": "code",
   "execution_count": 7,
   "metadata": {
    "collapsed": false
   },
   "outputs": [],
   "source": [
    "# Put each dictionary item is put on a separate line.\n",
    "\n",
    "# Notice that one of the values is not ''.\n",
    "# I did not notice the ' ' value in the original code.\n",
    "\n",
    "translation_dict = {\n",
    "    ord(\"@\"): \"\",\n",
    "    ord(\"%\"): \"\",\n",
    "    ord(\"^\"): \" \",\n",
    "    ord(\"?\"): \"\",\n",
    "    ord(\">\"): \"\",\n",
    "    ord(\"*\"): \"\",\n",
    "    ord(\"(\"): \"\",\n",
    "    ord(\")\"): \"\",\n",
    "    ord(\"+\"): \"\",\n",
    "}\n",
    "\n",
    "test()"
   ]
  },
  {
   "cell_type": "code",
   "execution_count": 8,
   "metadata": {
    "collapsed": true
   },
   "outputs": [],
   "source": [
    "# Move the item with the different value to the top\n",
    "# to draw attention to it.\n",
    "#\n",
    "# Which is easier to understand?\n",
    "\n",
    "translation_dict = {\n",
    "    ord(\"^\"): \" \",\n",
    "\n",
    "    ord(\"@\"): \"\",\n",
    "    ord(\"%\"): \"\",\n",
    "    ord(\"?\"): \"\",\n",
    "    ord(\">\"): \"\",\n",
    "    ord(\"*\"): \"\",\n",
    "    ord(\"(\"): \"\",\n",
    "    ord(\")\"): \"\",\n",
    "    ord(\"+\"): \"\",\n",
    "}\n",
    "\n",
    "test()"
   ]
  },
  {
   "cell_type": "code",
   "execution_count": 9,
   "metadata": {
    "collapsed": false
   },
   "outputs": [],
   "source": [
    "# Factor out the ord() calls.\n",
    "#\n",
    "# Which is easier to understand?\n",
    "\n",
    "translation_dict = {\n",
    "    \"^\": \" \",\n",
    "\n",
    "    \"@\": \"\",\n",
    "    \"%\": \"\",\n",
    "    \"?\": \"\",\n",
    "    \">\": \"\",\n",
    "    \"*\": \"\",\n",
    "    \"(\": \"\",\n",
    "    \")\": \"\",\n",
    "    \"+\": \"\",\n",
    "}\n",
    "translation_dict = {\n",
    "    ord(key): value\n",
    "    for key, value in translation_dict.items()\n",
    "}\n",
    "\n",
    "test()"
   ]
  },
  {
   "cell_type": "code",
   "execution_count": 10,
   "metadata": {
    "collapsed": false
   },
   "outputs": [],
   "source": [
    "# Use None value instead of ''\n",
    "# to indicate characters to delete.\n",
    "#\n",
    "# Which is easier to understand?\n",
    "\n",
    "translation_dict = {\n",
    "    \"^\": \" \",\n",
    "\n",
    "    \"@\": None,\n",
    "    \"%\": None,\n",
    "    \"?\": None,\n",
    "    \">\": None,\n",
    "    \"*\": None,\n",
    "    \"(\": None,\n",
    "    \")\": None,\n",
    "    \"+\": None,\n",
    "}\n",
    "translation_dict = {\n",
    "    ord(key): value\n",
    "    for key, value in translation_dict.items()\n",
    "}\n",
    "\n",
    "test()"
   ]
  },
  {
   "cell_type": "code",
   "execution_count": 11,
   "metadata": {
    "collapsed": false
   },
   "outputs": [],
   "source": [
    "# Factor out the redundant values\n",
    "#\n",
    "# Which is easier to understand?\n",
    "\n",
    "deleteable_chars = '@%?>*()+'\n",
    "\n",
    "translation_dict = {'^': ' '}\n",
    "translation_dict.update({c: None for c in deleteable_chars})\n",
    "translation_dict = {\n",
    "    ord(key): value\n",
    "    for key, value in translation_dict.items()\n",
    "}\n",
    "\n",
    "test()"
   ]
  },
  {
   "cell_type": "code",
   "execution_count": 12,
   "metadata": {
    "collapsed": false
   },
   "outputs": [],
   "source": [
    "# Swap the order.\n",
    "#\n",
    "# Which is easier to understand?\n",
    "\n",
    "deleteable_chars = '@%?>*()+'\n",
    "translation_dict = {c: None for c in deleteable_chars}\n",
    "translation_dict.update({'^': ' '})\n",
    "\n",
    "translation_dict = {\n",
    "    ord(key): value\n",
    "    for key, value in translation_dict.items()\n",
    "}\n",
    "\n",
    "test()"
   ]
  },
  {
   "cell_type": "code",
   "execution_count": 13,
   "metadata": {
    "collapsed": false
   },
   "outputs": [],
   "source": [
    "# Use dict(map()) to create dictionary or deleteable characters.\n",
    "#\n",
    "# I sure don't like this way.\n",
    "# It is ugly and harder to understand.\n",
    "\n",
    "deleteable_chars = '@%?>*()+'\n",
    "translation_dict = dict(map(lambda x:(x, None), deleteable_chars))\n",
    "translation_dict.update({'^': ' '})\n",
    "\n",
    "translation_dict = {\n",
    "    ord(key): value\n",
    "    for key, value in translation_dict.items()\n",
    "}\n",
    "\n",
    "test()"
   ]
  },
  {
   "cell_type": "code",
   "execution_count": 14,
   "metadata": {
    "collapsed": false
   },
   "outputs": [],
   "source": [
    "# Use dict.fromkeys() to create initial directory.\n",
    "#\n",
    "# Which is easier to understand?\n",
    "\n",
    "deleteable_chars = '@%?>*()+'\n",
    "translation_dict = dict.fromkeys(deleteable_chars, None)\n",
    "translation_dict.update({'^': ' '})\n",
    "\n",
    "translation_dict = {\n",
    "    ord(key): value\n",
    "    for key, value in translation_dict.items()\n",
    "}\n",
    "\n",
    "test()"
   ]
  },
  {
   "cell_type": "code",
   "execution_count": 15,
   "metadata": {
    "collapsed": false
   },
   "outputs": [],
   "source": [
    "# Revert to using '' value instead of None\n",
    "# to indicate characters to delete.\n",
    "#\n",
    "# Which is easier to understand?\n",
    "\n",
    "deleteable_chars = '@%?>*()+'\n",
    "translation_dict = dict.fromkeys(deleteable_chars, '')\n",
    "translation_dict.update({'^': ' '})\n",
    "\n",
    "translation_dict = {\n",
    "    ord(key): value\n",
    "    for key, value in translation_dict.items()\n",
    "}\n",
    "\n",
    "test()"
   ]
  },
  {
   "cell_type": "markdown",
   "metadata": {},
   "source": [
    "Review:\n",
    "\n",
    "- [What... is your favorite colour?](https://en.wikiquote.org/wiki/Monty_Python_and_the_Holy_Grail)\n",
    "- Which way did you find to be the easiest to understand? How? Why?"
   ]
  }
 ],
 "metadata": {
  "kernelspec": {
   "display_name": "Python 3",
   "language": "python",
   "name": "python3"
  },
  "language_info": {
   "codemirror_mode": {
    "name": "ipython",
    "version": 3
   },
   "file_extension": ".py",
   "mimetype": "text/x-python",
   "name": "python",
   "nbconvert_exporter": "python",
   "pygments_lexer": "ipython3",
   "version": "3.4.3"
  }
 },
 "nbformat": 4,
 "nbformat_minor": 0
}
