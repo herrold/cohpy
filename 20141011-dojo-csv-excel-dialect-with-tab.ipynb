{
 "metadata": {
  "name": "20141011-dojo-csv-excel-dialect-with-tab"
 },
 "nbformat": 3,
 "nbformat_minor": 0,
 "worksheets": [
  {
   "cells": [
    {
     "cell_type": "code",
     "collapsed": false,
     "input": [
      "import csv"
     ],
     "language": "python",
     "metadata": {},
     "outputs": [],
     "prompt_number": 1
    },
    {
     "cell_type": "code",
     "collapsed": false,
     "input": [
      "mesa = [\n",
      "    {'first': 'joe', 'last': 'lutz', 'address': 'aqui'},\n",
      "    {'first': 'mike', 'address': 'panera', 'last': 'duncan'},\n",
      "    {'address': 'nashville', 'first': 'travis', 'last': 'cash'},\n",
      "]"
     ],
     "language": "python",
     "metadata": {},
     "outputs": [],
     "prompt_number": 2
    },
    {
     "cell_type": "code",
     "collapsed": false,
     "input": [
      "mesa"
     ],
     "language": "python",
     "metadata": {},
     "outputs": [
      {
       "output_type": "pyout",
       "prompt_number": 3,
       "text": [
        "[{'address': 'aqui', 'first': 'joe', 'last': 'lutz'},\n",
        " {'address': 'panera', 'first': 'mike', 'last': 'duncan'},\n",
        " {'address': 'nashville', 'first': 'travis', 'last': 'cash'}]"
       ]
      }
     ],
     "prompt_number": 3
    },
    {
     "cell_type": "code",
     "collapsed": false,
     "input": [
      "columns = ['last', 'first', 'address']"
     ],
     "language": "python",
     "metadata": {},
     "outputs": [],
     "prompt_number": 4
    },
    {
     "cell_type": "raw",
     "metadata": {},
     "source": [
      "# excel_tab dialect is not supported on this creaky old version\n",
      "with open('eggs.csv', 'wb') as csvfile:\n",
      "    writer = csv.DictWriter(\n",
      "        csvfile, columns, restval='', \n",
      "        extrasaction='raise', dialect='excel_tab')\n",
      "    for row in mesa:\n",
      "        writer.writerow(row)"
     ]
    },
    {
     "cell_type": "code",
     "collapsed": false,
     "input": [
      "with open('eggs.csv', 'wb') as csvfile:\n",
      "    writer = csv.DictWriter(\n",
      "        csvfile, columns, restval='', \n",
      "        extrasaction='raise', dialect='excel', delimiter='\\t')\n",
      "    for row in mesa:\n",
      "        writer.writerow(row)"
     ],
     "language": "python",
     "metadata": {},
     "outputs": [],
     "prompt_number": 5
    },
    {
     "cell_type": "code",
     "collapsed": false,
     "input": [
      "!ls -l eggs.csv"
     ],
     "language": "python",
     "metadata": {},
     "outputs": [
      {
       "output_type": "stream",
       "stream": "stdout",
       "text": [
        "-rw-rw-r-- 1 doj doj 58 Oct 11 20:04 eggs.csv\r\n"
       ]
      }
     ],
     "prompt_number": 6
    },
    {
     "cell_type": "code",
     "collapsed": false,
     "input": [
      "!cat eggs.csv | tr -d '\\r'"
     ],
     "language": "python",
     "metadata": {},
     "outputs": [
      {
       "output_type": "stream",
       "stream": "stdout",
       "text": [
        "lutz\tjoe\taqui\r\n",
        "duncan\tmike\tpanera\r\n",
        "cash\ttravis\tnashville\r\n"
       ]
      }
     ],
     "prompt_number": 7
    },
    {
     "cell_type": "markdown",
     "metadata": {},
     "source": [
      "Would like to have something like following to output the results of a query. Catherine probably knows the canonical example for such for an Oracle database."
     ]
    },
    {
     "cell_type": "code",
     "collapsed": false,
     "input": [
      "with open('eggs.csv', 'wb') as csvfile:\n",
      "    writer = csv.DictWriter(\n",
      "        csvfile, columns, restval='',\n",
      "        extrasaction='raise', dialect='excel', delimiter='\\t')\n",
      "    query_results = do_query(FOO_QUERY_SQL)  # This is fakey stub.\n",
      "    for row in query_results:\n",
      "        writer.writerow(row)"
     ],
     "language": "python",
     "metadata": {},
     "outputs": []
    },
    {
     "cell_type": "code",
     "collapsed": false,
     "input": [
      "with open('eggs.csv', 'wb') as csvfile:\n",
      "    writer = csv.DictWriter(\n",
      "        csvfile, columns, restval='',\n",
      "        extrasaction='raise', dialect='excel', delimiter='\\t')\n",
      "    for row in do_query(FOO_QUERY_SQL):  # This is a fakey stub.\n",
      "        writer.writerow(row)"
     ],
     "language": "python",
     "metadata": {},
     "outputs": []
    },
    {
     "cell_type": "code",
     "collapsed": false,
     "input": [
      "import psycopg2"
     ],
     "language": "python",
     "metadata": {},
     "outputs": []
    }
   ],
   "metadata": {}
  }
 ]
}