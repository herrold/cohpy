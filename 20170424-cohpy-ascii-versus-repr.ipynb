{
 "cells": [
  {
   "cell_type": "markdown",
   "metadata": {},
   "source": [
    "# ascii versus repr\n",
    "\n",
    "[ascii](https://docs.python.org/3/library/functions.html#ascii)\n",
    "and\n",
    "[repr](https://docs.python.org/3/library/functions.html#repr)\n",
    "are similar.\n",
    "They convert arbitrary objects to strings and often return the same string.\n",
    "Both return strings suitable for pasting into source code.\n",
    "ascii returns strings that have only ASCII characters.\n",
    "The difference is provoked for strings which contain\n",
    "non-[ASCII](https://en.wikipedia.org/wiki/ASCII) characters.\n",
    "repr passes them through as-is,\n",
    "whereas ascii escapes them with ASCII characters.\n",
    "\n",
    "For example, repr('π') and repr('\\u03c0') return 'π' and\n",
    "ascii('π')  and ascii('\\u03c0') return '\\u03c0'.\n",
    "\n",
    "Here are some objects for which repr and ascii\n",
    "return exactly the same strings."
   ]
  },
  {
   "cell_type": "code",
   "execution_count": 1,
   "metadata": {
    "collapsed": true
   },
   "outputs": [],
   "source": [
    "things = (\n",
    "    1/3,\n",
    "    .1,\n",
    "    1+2j,\n",
    "    [1, 'hello'],\n",
    "    ('creosote', 3),\n",
    "    {2: 'world'},\n",
    "    {'swallow'},\n",
    "    [1., {\"You're\": (3, '''tr\"'e'''), 1j: 'complexity'}, 17],\n",
    "    \"\"\"hello\"\"\",\n",
    "    \"\"\"    \"\"\",\n",
    "    \"\"\" \"\"\",\n",
    "    \"\"\"I'm here.\"\"\",\n",
    "    \"\"\"Foo said \"Hello world!\".\"\"\",\n",
    "    \"\"\"I'm saying \"Hello world!\".\"\"\",\n",
    "    \"\"\"\\t \"\"\",\n",
    "    \"\"\"\\001\"\"\",\n",
    "    b'a \\t\\nbyt\\'\"e string',\n",
    "    # string with three '\n",
    "    \"'''\",\n",
    "    \"\"\"'''\"\"\",\n",
    "    # string with three \"\n",
    "    '\"\"\"',\n",
    "    '''\"\"\"''',\n",
    "    # a string with three ' and three \"\n",
    "    \"\"\"'''\"\"\"    '''\"\"\"''',\n",
    "    \"\"\"'''\\\"\\\"\\\"\"\"\",\n",
    "    # multiline string\n",
    "    '''sometext\n",
    "    type some more text\n",
    "    type something different''',\n",
    ")"
   ]
  },
  {
   "cell_type": "code",
   "execution_count": 2,
   "metadata": {
    "collapsed": false
   },
   "outputs": [],
   "source": [
    "def show(function, things):\n",
    "    print(function)\n",
    "    for thing in things:\n",
    "        print(function(thing))"
   ]
  },
  {
   "cell_type": "code",
   "execution_count": 3,
   "metadata": {
    "collapsed": false
   },
   "outputs": [
    {
     "name": "stdout",
     "output_type": "stream",
     "text": [
      "<built-in function ascii>\n",
      "0.3333333333333333\n",
      "0.1\n",
      "(1+2j)\n",
      "[1, 'hello']\n",
      "('creosote', 3)\n",
      "{2: 'world'}\n",
      "{'swallow'}\n",
      "[1.0, {\"You're\": (3, 'tr\"\\'e'), 1j: 'complexity'}, 17]\n",
      "'hello'\n",
      "'    '\n",
      "' '\n",
      "\"I'm here.\"\n",
      "'Foo said \"Hello world!\".'\n",
      "'I\\'m saying \"Hello world!\".'\n",
      "'\\t '\n",
      "'\\x01'\n",
      "b'a \\t\\nbyt\\'\"e string'\n",
      "\"'''\"\n",
      "\"'''\"\n",
      "'\"\"\"'\n",
      "'\"\"\"'\n",
      "'\\'\\'\\'\"\"\"'\n",
      "'\\'\\'\\'\"\"\"'\n",
      "'sometext\\n    type some more text\\n    type something different'\n",
      "<built-in function repr>\n",
      "0.3333333333333333\n",
      "0.1\n",
      "(1+2j)\n",
      "[1, 'hello']\n",
      "('creosote', 3)\n",
      "{2: 'world'}\n",
      "{'swallow'}\n",
      "[1.0, {\"You're\": (3, 'tr\"\\'e'), 1j: 'complexity'}, 17]\n",
      "'hello'\n",
      "'    '\n",
      "' '\n",
      "\"I'm here.\"\n",
      "'Foo said \"Hello world!\".'\n",
      "'I\\'m saying \"Hello world!\".'\n",
      "'\\t '\n",
      "'\\x01'\n",
      "b'a \\t\\nbyt\\'\"e string'\n",
      "\"'''\"\n",
      "\"'''\"\n",
      "'\"\"\"'\n",
      "'\"\"\"'\n",
      "'\\'\\'\\'\"\"\"'\n",
      "'\\'\\'\\'\"\"\"'\n",
      "'sometext\\n    type some more text\\n    type something different'\n"
     ]
    }
   ],
   "source": [
    "show(ascii, things)\n",
    "show(repr, things)"
   ]
  },
  {
   "cell_type": "code",
   "execution_count": 4,
   "metadata": {
    "collapsed": true
   },
   "outputs": [],
   "source": [
    "def compare(f1, f2, things):\n",
    "    print(f1, 'versus', f2)\n",
    "    for thing in things:\n",
    "        t1 = f1(thing)\n",
    "        t2 = f2(thing)\n",
    "        if t1 == t2:\n",
    "            print('==', t1)\n",
    "        else:\n",
    "            print('different')\n",
    "            print('    1', len(t1), t1)\n",
    "            print('    2', len(t2), t2)"
   ]
  },
  {
   "cell_type": "code",
   "execution_count": 5,
   "metadata": {
    "collapsed": false
   },
   "outputs": [
    {
     "name": "stdout",
     "output_type": "stream",
     "text": [
      "<built-in function ascii> versus <built-in function repr>\n",
      "== 0.3333333333333333\n",
      "== 0.1\n",
      "== (1+2j)\n",
      "== [1, 'hello']\n",
      "== ('creosote', 3)\n",
      "== {2: 'world'}\n",
      "== {'swallow'}\n",
      "== [1.0, {\"You're\": (3, 'tr\"\\'e'), 1j: 'complexity'}, 17]\n",
      "== 'hello'\n",
      "== '    '\n",
      "== ' '\n",
      "== \"I'm here.\"\n",
      "== 'Foo said \"Hello world!\".'\n",
      "== 'I\\'m saying \"Hello world!\".'\n",
      "== '\\t '\n",
      "== '\\x01'\n",
      "== b'a \\t\\nbyt\\'\"e string'\n",
      "== \"'''\"\n",
      "== \"'''\"\n",
      "== '\"\"\"'\n",
      "== '\"\"\"'\n",
      "== '\\'\\'\\'\"\"\"'\n",
      "== '\\'\\'\\'\"\"\"'\n",
      "== 'sometext\\n    type some more text\\n    type something different'\n"
     ]
    }
   ],
   "source": [
    "compare(ascii, repr, things)"
   ]
  },
  {
   "cell_type": "markdown",
   "metadata": {},
   "source": [
    "Now to explore where ascii and repr are different.\n",
    "\n",
    "Strings with non-ASCII characters are used to provoke the difference."
   ]
  },
  {
   "cell_type": "code",
   "execution_count": 6,
   "metadata": {
    "collapsed": false
   },
   "outputs": [],
   "source": [
    "things = (\n",
    "    'π',\n",
    "    '\\u03c0',\n",
    "    {'π': 3.14159},\n",
    "    '안녕',\n",
    "    '安寧',\n",
    "    'Déjà vu',\n",
    ")"
   ]
  },
  {
   "cell_type": "code",
   "execution_count": 7,
   "metadata": {
    "collapsed": false
   },
   "outputs": [
    {
     "name": "stdout",
     "output_type": "stream",
     "text": [
      "<built-in function repr>\n",
      "'π'\n",
      "'π'\n",
      "{'π': 3.14159}\n",
      "'안녕'\n",
      "'安寧'\n",
      "'Déjà vu'\n"
     ]
    }
   ],
   "source": [
    "show(repr, things)"
   ]
  },
  {
   "cell_type": "code",
   "execution_count": 8,
   "metadata": {
    "collapsed": false,
    "scrolled": true
   },
   "outputs": [
    {
     "name": "stdout",
     "output_type": "stream",
     "text": [
      "<built-in function ascii>\n",
      "'\\u03c0'\n",
      "'\\u03c0'\n",
      "{'\\u03c0': 3.14159}\n",
      "'\\uc548\\ub155'\n",
      "'\\u5b89\\u5be7'\n",
      "'D\\xe9j\\xe0 vu'\n"
     ]
    }
   ],
   "source": [
    "show(ascii, things)"
   ]
  },
  {
   "cell_type": "code",
   "execution_count": 9,
   "metadata": {
    "collapsed": false
   },
   "outputs": [
    {
     "name": "stdout",
     "output_type": "stream",
     "text": [
      "<built-in function ascii> versus <built-in function repr>\n",
      "different\n",
      "    1 8 '\\u03c0'\n",
      "    2 3 'π'\n",
      "different\n",
      "    1 8 '\\u03c0'\n",
      "    2 3 'π'\n",
      "different\n",
      "    1 19 {'\\u03c0': 3.14159}\n",
      "    2 14 {'π': 3.14159}\n",
      "different\n",
      "    1 14 '\\uc548\\ub155'\n",
      "    2 4 '안녕'\n",
      "different\n",
      "    1 14 '\\u5b89\\u5be7'\n",
      "    2 4 '安寧'\n",
      "different\n",
      "    1 15 'D\\xe9j\\xe0 vu'\n",
      "    2 9 'Déjà vu'\n"
     ]
    }
   ],
   "source": [
    "compare(ascii, repr, things)"
   ]
  },
  {
   "cell_type": "markdown",
   "metadata": {},
   "source": [
    "For basic data types,\n",
    "ascii makes a string suitable for pasting into source code,\n",
    "same as repr."
   ]
  },
  {
   "cell_type": "code",
   "execution_count": 10,
   "metadata": {
    "collapsed": false
   },
   "outputs": [
    {
     "data": {
      "text/plain": [
       "('π', 'π', True)"
      ]
     },
     "execution_count": 10,
     "metadata": {},
     "output_type": "execute_result"
    }
   ],
   "source": [
    "a = '\\u03c0'\n",
    "b = 'π'\n",
    "a, b, a == b"
   ]
  },
  {
   "cell_type": "code",
   "execution_count": 11,
   "metadata": {
    "collapsed": false
   },
   "outputs": [
    {
     "data": {
      "text/plain": [
       "({'π': 3.14159}, {'π': 3.14159}, True)"
      ]
     },
     "execution_count": 11,
     "metadata": {},
     "output_type": "execute_result"
    }
   ],
   "source": [
    "a = {'\\u03c0': 3.14159}\n",
    "b = {'π': 3.14159}\n",
    "a, b, a == b"
   ]
  },
  {
   "cell_type": "code",
   "execution_count": 12,
   "metadata": {
    "collapsed": false
   },
   "outputs": [
    {
     "data": {
      "text/plain": [
       "('안녕', '안녕', True)"
      ]
     },
     "execution_count": 12,
     "metadata": {},
     "output_type": "execute_result"
    }
   ],
   "source": [
    "a = '\\uc548\\ub155'\n",
    "b = '안녕'\n",
    "a, b, a == b"
   ]
  },
  {
   "cell_type": "code",
   "execution_count": 13,
   "metadata": {
    "collapsed": false
   },
   "outputs": [
    {
     "data": {
      "text/plain": [
       "('安寧', '安寧', True)"
      ]
     },
     "execution_count": 13,
     "metadata": {},
     "output_type": "execute_result"
    }
   ],
   "source": [
    "a = '\\u5b89\\u5be7'\n",
    "b = '安寧'\n",
    "a, b, a == b"
   ]
  },
  {
   "cell_type": "code",
   "execution_count": 14,
   "metadata": {
    "collapsed": false
   },
   "outputs": [
    {
     "data": {
      "text/plain": [
       "('Déjà vu', 'Déjà vu', True)"
      ]
     },
     "execution_count": 14,
     "metadata": {},
     "output_type": "execute_result"
    }
   ],
   "source": [
    "a = 'D\\xe9j\\xe0 vu'\n",
    "b = 'Déjà vu'\n",
    "a, b, a == b"
   ]
  }
 ],
 "metadata": {
  "kernelspec": {
   "display_name": "Python 3",
   "language": "python",
   "name": "python3"
  },
  "language_info": {
   "codemirror_mode": {
    "name": "ipython",
    "version": 3
   },
   "file_extension": ".py",
   "mimetype": "text/x-python",
   "name": "python",
   "nbconvert_exporter": "python",
   "pygments_lexer": "ipython3",
   "version": "3.6.0"
  }
 },
 "nbformat": 4,
 "nbformat_minor": 0
}
