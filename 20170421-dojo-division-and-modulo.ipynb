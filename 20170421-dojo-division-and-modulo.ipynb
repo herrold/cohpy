{
 "cells": [
  {
   "cell_type": "markdown",
   "metadata": {
    "deletable": true,
    "editable": true
   },
   "source": [
    "Show how python does // and % operators."
   ]
  },
  {
   "cell_type": "code",
   "execution_count": 1,
   "metadata": {
    "collapsed": false,
    "deletable": true,
    "editable": true
   },
   "outputs": [
    {
     "name": "stdout",
     "output_type": "stream",
     "text": [
      "-6 -2 0\n",
      "-5 -2 1\n",
      "-4 -2 2\n",
      "-3 -1 0\n",
      "-2 -1 1\n",
      "-1 -1 2\n",
      "0 0 0\n",
      "1 0 1\n",
      "2 0 2\n",
      "3 1 0\n",
      "4 1 1\n",
      "5 1 2\n",
      "6 2 0\n"
     ]
    }
   ],
   "source": [
    "# just integers\n",
    "\n",
    "divisor = 3\n",
    "for i in range(-2*divisor, 2*divisor + 1):\n",
    "    print(i, i // divisor, i % divisor)"
   ]
  },
  {
   "cell_type": "code",
   "execution_count": 2,
   "metadata": {
    "collapsed": false,
    "deletable": true,
    "editable": true
   },
   "outputs": [
    {
     "name": "stdout",
     "output_type": "stream",
     "text": [
      "-3.1 -2.0 2.9\n",
      "-3.0 -1.0 0.0\n",
      "-2.9 -1.0 0.10000000000000009\n",
      "-2.1 -1.0 0.8999999999999999\n",
      "-2.0 -1.0 1.0\n",
      "-1.9 -1.0 1.1\n",
      "-1.1 -1.0 1.9\n",
      "-1.0 -1.0 2.0\n",
      "-0.9 -1.0 2.1\n",
      "-0.1 -1.0 2.9\n",
      "0.0 0.0 0.0\n",
      "0.1 0.0 0.1\n",
      "0.9 0.0 0.9\n",
      "1.0 0.0 1.0\n",
      "1.1 0.0 1.1\n",
      "1.9 0.0 1.9\n",
      "2.0 0.0 2.0\n",
      "2.9 0.0 2.9\n",
      "3.0 1.0 0.0\n",
      "3.1 1.0 0.10000000000000009\n"
     ]
    }
   ],
   "source": [
    "# floats and integers\n",
    "\n",
    "divisor = 3\n",
    "numerators = map(\n",
    "    float,\n",
    "    '-3.1 -3 -2.9 -2.1 -2 -1.9 -1.1 -1 -0.9 -0.1 0 .1 .9 1 1.1 1.9 2 2.9 3 3.1'.split())\n",
    "for i in numerators:\n",
    "    print(i, i // divisor, i % divisor)"
   ]
  },
  {
   "cell_type": "code",
   "execution_count": 3,
   "metadata": {
    "collapsed": false,
    "deletable": true,
    "editable": true
   },
   "outputs": [
    {
     "name": "stdout",
     "output_type": "stream",
     "text": [
      "-3.0 -2.0 2.43656365691809\n",
      "-2.5 -1.0 0.2182818284590451\n",
      "-2.0 -1.0 0.7182818284590451\n",
      "-1.5 -1.0 1.218281828459045\n",
      "-1.0 -1.0 1.718281828459045\n",
      "-0.5 -1.0 2.218281828459045\n",
      "0.0 0.0 0.0\n",
      "0.5 0.0 0.5\n",
      "1.0 0.0 1.0\n",
      "1.5 0.0 1.5\n",
      "2.0 0.0 2.0\n",
      "2.5 0.0 2.5\n",
      "3.0 1.0 0.2817181715409549\n"
     ]
    }
   ],
   "source": [
    "# just floats\n",
    "\n",
    "from math import e\n",
    "\n",
    "divisor = e\n",
    "for i in (x/2 for x in range(-6, 6+1)):\n",
    "    print(i, i // divisor, i % divisor)"
   ]
  }
 ],
 "metadata": {
  "kernelspec": {
   "display_name": "Python 3",
   "language": "python",
   "name": "python3"
  },
  "language_info": {
   "codemirror_mode": {
    "name": "ipython",
    "version": 3
   },
   "file_extension": ".py",
   "mimetype": "text/x-python",
   "name": "python",
   "nbconvert_exporter": "python",
   "pygments_lexer": "ipython3",
   "version": "3.6.0"
  }
 },
 "nbformat": 4,
 "nbformat_minor": 2
}
