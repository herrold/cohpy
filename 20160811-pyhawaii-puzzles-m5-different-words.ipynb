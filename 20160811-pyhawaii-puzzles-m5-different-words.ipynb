{
 "cells": [
  {
   "cell_type": "markdown",
   "metadata": {},
   "source": [
    "[Puzzle M5](https://darkartofcoding.com/pyhawaii-puzzles-20150613/puzzle-m5/)\n",
    "\n",
    "These two files\n",
    "\n",
    "- [113809of.fic](https://drive.google.com/open?id=0B_OKYYQNTKUPVTVTV0hXSXE1S00&authuser=0)\n",
    "- [113809of.rev.2.fic](https://drive.google.com/open?id=0B_OKYYQNTKUPeUxOaVFfNXpaMUU&authuser=0)\n",
    "\n",
    "are very similar.\n",
    "One file is has four extra words in it.\n",
    "Identify those four words."
   ]
  },
  {
   "cell_type": "markdown",
   "metadata": {},
   "source": [
    "----\n",
    "\n",
    "Inspection revealed that those files have one word per line."
   ]
  },
  {
   "cell_type": "code",
   "execution_count": 1,
   "metadata": {
    "collapsed": true
   },
   "outputs": [],
   "source": [
    "def get_words_set(filename):\n",
    "    return set(word.strip() for word in open(filename))"
   ]
  },
  {
   "cell_type": "code",
   "execution_count": 2,
   "metadata": {
    "collapsed": false
   },
   "outputs": [],
   "source": [
    "a = get_words_set('113809of.fic')\n",
    "b = get_words_set('113809of.rev.2.fic')"
   ]
  },
  {
   "cell_type": "code",
   "execution_count": 3,
   "metadata": {
    "collapsed": false
   },
   "outputs": [
    {
     "data": {
      "text/plain": [
       "(113809, 113805)"
      ]
     },
     "execution_count": 3,
     "metadata": {},
     "output_type": "execute_result"
    }
   ],
   "source": [
    "len(a), len(b)"
   ]
  },
  {
   "cell_type": "code",
   "execution_count": 4,
   "metadata": {
    "collapsed": false
   },
   "outputs": [
    {
     "data": {
      "text/plain": [
       "{'aloha', 'manta', 'python', 'ray'}"
      ]
     },
     "execution_count": 4,
     "metadata": {},
     "output_type": "execute_result"
    }
   ],
   "source": [
    "a - b"
   ]
  }
 ],
 "metadata": {
  "kernelspec": {
   "display_name": "Python 3",
   "language": "python",
   "name": "python3"
  },
  "language_info": {
   "codemirror_mode": {
    "name": "ipython",
    "version": 3
   },
   "file_extension": ".py",
   "mimetype": "text/x-python",
   "name": "python",
   "nbconvert_exporter": "python",
   "pygments_lexer": "ipython3",
   "version": "3.4.3"
  }
 },
 "nbformat": 4,
 "nbformat_minor": 0
}
