{
 "cells": [
  {
   "cell_type": "markdown",
   "metadata": {},
   "source": [
    "The hardest part was figuring out what the program\n",
    "was supposed to accomplish.\n",
    "\n",
    "From the email, code documentation, and code itself,\n",
    "I had a very difficult time understanding what the code\n",
    "was trying to accomplish, nevermind how the code was \n",
    "accomplishing it.\n",
    "\n",
    "After studying the code, I came with my description\n",
    "of what the code is to accomplish. This was \n",
    "corroborated by the example output.\n",
    "\n",
    "    for number of months from 0 to 11 inclusive,\n",
    "    calculate the maximum possible number of days\n",
    "    in (number of months + 1) consecutive months\n",
    "    have. (Choose the starting month that gives highest possible answer.)\n",
    "    in starting_month and the next\n",
    "    \n",
    "n_months months for all possible starting_months\n",
    "\n",
    "Later on, I figured out the first column in the sample\n",
    "output was the earliest or latest starting month in a year\n",
    "that would produce the max number of days for n months."
   ]
  },
  {
   "cell_type": "markdown",
   "metadata": {},
   "source": [
    "For all my code below, months are numbered starting at 0.\n",
    "That is,\n",
    "\n",
    "0 means January\n",
    "\n",
    "11 means December"
   ]
  },
  {
   "cell_type": "code",
   "execution_count": 1,
   "metadata": {
    "collapsed": true
   },
   "outputs": [],
   "source": [
    "MONTHS_PER_YEAR = 12"
   ]
  },
  {
   "cell_type": "code",
   "execution_count": 2,
   "metadata": {
    "collapsed": true
   },
   "outputs": [],
   "source": [
    "# for unknown year\n",
    "def max_month_length(month):\n",
    "    max_month_lengths = (\n",
    "        31, 29, 31, 30, 31, 30, 31, 31, 30, 31, 30, 31)\n",
    "    return max_month_lengths[month % len(max_month_lengths)]"
   ]
  },
  {
   "cell_type": "code",
   "execution_count": 3,
   "metadata": {
    "collapsed": false
   },
   "outputs": [
    {
     "data": {
      "text/plain": [
       "31"
      ]
     },
     "execution_count": 3,
     "metadata": {},
     "output_type": "execute_result"
    }
   ],
   "source": [
    "max_month_length(0)"
   ]
  },
  {
   "cell_type": "code",
   "execution_count": 4,
   "metadata": {
    "collapsed": false,
    "deletable": true,
    "editable": true
   },
   "outputs": [
    {
     "data": {
      "text/plain": [
       "29"
      ]
     },
     "execution_count": 4,
     "metadata": {},
     "output_type": "execute_result"
    }
   ],
   "source": [
    "max_month_length(13)"
   ]
  },
  {
   "cell_type": "code",
   "execution_count": 5,
   "metadata": {
    "collapsed": true
   },
   "outputs": [],
   "source": [
    "def max_days_n_months(n_months, starting_month=None):\n",
    "    if starting_month is not None:\n",
    "        return sum(\n",
    "            max_month_length(month)\n",
    "            for month in range(starting_month, starting_month + n_months + 1)\n",
    "        )\n",
    "    \n",
    "    return max(\n",
    "        max_days_n_months(n_months, starting_month)\n",
    "        for starting_month in range(MONTHS_PER_YEAR)\n",
    "    )"
   ]
  },
  {
   "cell_type": "code",
   "execution_count": 6,
   "metadata": {
    "collapsed": false
   },
   "outputs": [],
   "source": [
    "def foo(n):\n",
    "    for n_months in range(n):\n",
    "        n_days = max_days_n_months(n_months)\n",
    "        yield n_months, n_days"
   ]
  },
  {
   "cell_type": "code",
   "execution_count": 7,
   "metadata": {
    "collapsed": false
   },
   "outputs": [
    {
     "data": {
      "text/plain": [
       "[(0, 31),\n",
       " (1, 62),\n",
       " (2, 92),\n",
       " (3, 123),\n",
       " (4, 153),\n",
       " (5, 184),\n",
       " (6, 215),\n",
       " (7, 245),\n",
       " (8, 276),\n",
       " (9, 306),\n",
       " (10, 337),\n",
       " (11, 366)]"
      ]
     },
     "execution_count": 7,
     "metadata": {},
     "output_type": "execute_result"
    }
   ],
   "source": [
    "n = MONTHS_PER_YEAR\n",
    "# %timeit list(foo(n))\n",
    "list(foo(n))"
   ]
  },
  {
   "cell_type": "markdown",
   "metadata": {},
   "source": [
    "That has the correct maximum number of days.\n",
    "\n",
    "Now to add the stuff that keeps track of which starting months can yield those "
   ]
  },
  {
   "cell_type": "code",
   "execution_count": 8,
   "metadata": {
    "collapsed": false,
    "deletable": true,
    "editable": true
   },
   "outputs": [],
   "source": [
    "from collections import defaultdict\n",
    "\n",
    "def foo(n):\n",
    "    for n_months in range(n):\n",
    "        d = defaultdict(list)\n",
    "        for starting_month in range(MONTHS_PER_YEAR):\n",
    "            n_days = max_days_n_months(n_months, starting_month)\n",
    "            d[n_days].append(starting_month)\n",
    "        max_n_days = max(d.keys())\n",
    "        yield n_months, max_n_days, sorted(d[max_n_days])"
   ]
  },
  {
   "cell_type": "code",
   "execution_count": 9,
   "metadata": {
    "collapsed": false,
    "deletable": true,
    "editable": true
   },
   "outputs": [
    {
     "data": {
      "text/plain": [
       "[(0, 31, [0, 2, 4, 6, 7, 9, 11]),\n",
       " (1, 62, [6, 11]),\n",
       " (2, 92, [2, 4, 5, 6, 7, 9, 10]),\n",
       " (3, 123, [4, 6, 9]),\n",
       " (4, 153, [2, 3, 4, 5, 6, 7, 8]),\n",
       " (5, 184, [2, 4, 6, 7]),\n",
       " (6, 215, [6]),\n",
       " (7, 245, [2, 4, 5]),\n",
       " (8, 276, [4]),\n",
       " (9, 306, [2, 3]),\n",
       " (10, 337, [2]),\n",
       " (11, 366, [0, 1, 2, 3, 4, 5, 6, 7, 8, 9, 10, 11])]"
      ]
     },
     "execution_count": 9,
     "metadata": {},
     "output_type": "execute_result"
    }
   ],
   "source": [
    "n = MONTHS_PER_YEAR\n",
    "# %timeit list(foo(n))\n",
    "list(foo(n))"
   ]
  },
  {
   "cell_type": "code",
   "execution_count": 10,
   "metadata": {
    "collapsed": false
   },
   "outputs": [],
   "source": [
    "def pretty(n):\n",
    "    x = tuple(foo(n))\n",
    "    for f, s in ((min, '-gt'), (max, '-ge')):\n",
    "        print(f'Compare: {s} ')\n",
    "        for n_months, max_n_days, months in foo(n):\n",
    "            if n_months == 0:\n",
    "                print(f'month: {f(months)+1} month spans: {max_n_days} days  ')\n",
    "            elif n_months == 1:\n",
    "                print(f'month: {f(months)+1} plus following month spans: {max_n_days} days  ')\n",
    "            else:\n",
    "                print(f'month: {f(months)+1} plus following {n_months} months spans: {max_n_days} days  ')\n",
    "        print()\n",
    "    "
   ]
  },
  {
   "cell_type": "code",
   "execution_count": 11,
   "metadata": {
    "collapsed": false
   },
   "outputs": [
    {
     "name": "stdout",
     "output_type": "stream",
     "text": [
      "Compare: -gt \n",
      "month: 1 month spans: 31 days  \n",
      "month: 7 plus following month spans: 62 days  \n",
      "month: 3 plus following 2 months spans: 92 days  \n",
      "month: 5 plus following 3 months spans: 123 days  \n",
      "month: 3 plus following 4 months spans: 153 days  \n",
      "month: 3 plus following 5 months spans: 184 days  \n",
      "month: 7 plus following 6 months spans: 215 days  \n",
      "month: 3 plus following 7 months spans: 245 days  \n",
      "month: 5 plus following 8 months spans: 276 days  \n",
      "month: 3 plus following 9 months spans: 306 days  \n",
      "month: 3 plus following 10 months spans: 337 days  \n",
      "month: 1 plus following 11 months spans: 366 days  \n",
      "\n",
      "Compare: -ge \n",
      "month: 12 month spans: 31 days  \n",
      "month: 12 plus following month spans: 62 days  \n",
      "month: 11 plus following 2 months spans: 92 days  \n",
      "month: 10 plus following 3 months spans: 123 days  \n",
      "month: 9 plus following 4 months spans: 153 days  \n",
      "month: 8 plus following 5 months spans: 184 days  \n",
      "month: 7 plus following 6 months spans: 215 days  \n",
      "month: 6 plus following 7 months spans: 245 days  \n",
      "month: 5 plus following 8 months spans: 276 days  \n",
      "month: 4 plus following 9 months spans: 306 days  \n",
      "month: 3 plus following 10 months spans: 337 days  \n",
      "month: 12 plus following 11 months spans: 366 days  \n",
      "\n"
     ]
    }
   ],
   "source": [
    "n = MONTHS_PER_YEAR\n",
    "pretty(n)"
   ]
  },
  {
   "cell_type": "markdown",
   "metadata": {},
   "source": [
    "The above output matches days_spanned.sh.stdout, but is ugly.\n",
    "The code above is not as readable as I like.\n",
    "\n",
    "I hope to improve both tomorrow."
   ]
  }
 ],
 "metadata": {
  "kernelspec": {
   "display_name": "Python 3",
   "language": "python",
   "name": "python3"
  },
  "language_info": {
   "codemirror_mode": {
    "name": "ipython",
    "version": 3
   },
   "file_extension": ".py",
   "mimetype": "text/x-python",
   "name": "python",
   "nbconvert_exporter": "python",
   "pygments_lexer": "ipython3",
   "version": "3.6.0"
  }
 },
 "nbformat": 4,
 "nbformat_minor": 2
}
