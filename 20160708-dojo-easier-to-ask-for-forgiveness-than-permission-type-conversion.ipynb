{
 "cells": [
  {
   "cell_type": "markdown",
   "metadata": {},
   "source": [
    "In many other languages, once you have an error,\n",
    "the program crashes and is over.\n",
    "So before doing something that could crash the program,\n",
    "one checks the input before doing that something.\n",
    "This is called\n",
    "\"[look before you leap](https://docs.python.org/3/glossary.html#term-lbyl)\"\n",
    "or LBYL.\n",
    "\n",
    "In Python, one often has another option,\n",
    "which is to just try something, and if it blows up,\n",
    "do something else without crashing. \n",
    "This is called\n",
    "\"[Easier to ask for forgiveness than permission.](This is called \"[Easier to ask for forgiveness than permission.]()\"\n",
    "or EAFP.\n",
    "Python's try/except statements make this easy.\n",
    "\n",
    "This notebook plays with EAFP\n",
    "on some code that converts input to various types.\n",
    "\n",
    "Hopefully [Amazing Grace](https://en.wikipedia.org/wiki/Grace_Hopper) would approve."
   ]
  },
  {
   "cell_type": "code",
   "execution_count": 1,
   "metadata": {
    "collapsed": true
   },
   "outputs": [],
   "source": [
    "import csv\n",
    "import io"
   ]
  },
  {
   "cell_type": "markdown",
   "metadata": {},
   "source": [
    "Note that:\n",
    "- The barest minimum code is in the try clauses.\n",
    "- A specific exception is mentioned in each except clause.\n",
    "\n",
    "See [PEP 8 -- Style Guide for Python Code](https://www.python.org/dev/peps/pep-0008/)."
   ]
  },
  {
   "cell_type": "code",
   "execution_count": 2,
   "metadata": {
    "collapsed": true
   },
   "outputs": [],
   "source": [
    "def convert(s):\n",
    "    # First tries to convert input string to an integer.\n",
    "    # If that does not work, then tries to convert it to a float.\n",
    "    # If that does not work, leaves it as a string.\n",
    "\n",
    "    try:\n",
    "        value = int(s)\n",
    "    except ValueError:\n",
    "        pass\n",
    "    else:\n",
    "        return value\n",
    "\n",
    "    try:\n",
    "        value = float(s)\n",
    "    except ValueError:\n",
    "        pass\n",
    "    else:\n",
    "        return value\n",
    "\n",
    "    return s"
   ]
  },
  {
   "cell_type": "markdown",
   "metadata": {},
   "source": [
    "The following version of convert() is refactored to use a loop."
   ]
  },
  {
   "cell_type": "code",
   "execution_count": 3,
   "metadata": {
    "collapsed": true
   },
   "outputs": [],
   "source": [
    "def convert(s):\n",
    "    converters = (int, float)\n",
    "    \n",
    "    for converter in converters:\n",
    "        try:\n",
    "            value = converter(s)\n",
    "        except ValueError:\n",
    "            pass\n",
    "        else:\n",
    "            return value\n",
    "        \n",
    "    return s"
   ]
  },
  {
   "cell_type": "code",
   "execution_count": 4,
   "metadata": {
    "collapsed": true
   },
   "outputs": [],
   "source": [
    "data = '''Saeger Buick,123.456,Moosetang\n",
    "Bobb Ford,234234,Rustang\n",
    "Mario Fiat,987432.9832,127\n",
    "'''"
   ]
  },
  {
   "cell_type": "code",
   "execution_count": 5,
   "metadata": {
    "collapsed": false
   },
   "outputs": [
    {
     "name": "stdout",
     "output_type": "stream",
     "text": [
      "Saeger Buick,123.456,Moosetang\n",
      "Bobb Ford,234234,Rustang\n",
      "Mario Fiat,987432.9832,127\n"
     ]
    }
   ],
   "source": [
    "print(io.StringIO(data).read(), end='')"
   ]
  },
  {
   "cell_type": "code",
   "execution_count": 6,
   "metadata": {
    "collapsed": false
   },
   "outputs": [
    {
     "name": "stdout",
     "output_type": "stream",
     "text": [
      "row: ['Saeger Buick', '123.456', 'Moosetang'] becomes:\n",
      "    'Saeger Buick' (<class 'str'>)\n",
      "    123.456 (<class 'float'>)\n",
      "    'Moosetang' (<class 'str'>)\n",
      "row: ['Bobb Ford', '234234', 'Rustang'] becomes:\n",
      "    'Bobb Ford' (<class 'str'>)\n",
      "    234234 (<class 'int'>)\n",
      "    'Rustang' (<class 'str'>)\n",
      "row: ['Mario Fiat', '987432.9832', '127'] becomes:\n",
      "    'Mario Fiat' (<class 'str'>)\n",
      "    987432.9832 (<class 'float'>)\n",
      "    127 (<class 'int'>)\n"
     ]
    }
   ],
   "source": [
    "with io.StringIO(data) as csvfile:\n",
    "    csv_reader = csv.reader(csvfile)\n",
    "    for row in csv_reader:\n",
    "        items = [convert(s) for s in row]\n",
    "        print('row: %r becomes:' % row)\n",
    "        for item in items:\n",
    "            print('    %r (%s)' % (item, type(item)))    "
   ]
  },
  {
   "cell_type": "markdown",
   "metadata": {},
   "source": [
    "Chris likes .format() instead of C-style % formatting,\n",
    "so the above cell is redone below with .format() style formatting."
   ]
  },
  {
   "cell_type": "code",
   "execution_count": 7,
   "metadata": {
    "collapsed": false
   },
   "outputs": [
    {
     "name": "stdout",
     "output_type": "stream",
     "text": [
      "row: ['Saeger Buick', '123.456', 'Moosetang'] becomes:\n",
      "    'Saeger Buick' (<class 'str'>)\n",
      "    123.456 (<class 'float'>)\n",
      "    'Moosetang' (<class 'str'>)\n",
      "row: ['Bobb Ford', '234234', 'Rustang'] becomes:\n",
      "    'Bobb Ford' (<class 'str'>)\n",
      "    234234 (<class 'int'>)\n",
      "    'Rustang' (<class 'str'>)\n",
      "row: ['Mario Fiat', '987432.9832', '127'] becomes:\n",
      "    'Mario Fiat' (<class 'str'>)\n",
      "    987432.9832 (<class 'float'>)\n",
      "    127 (<class 'int'>)\n"
     ]
    }
   ],
   "source": [
    "with io.StringIO(data) as csvfile:\n",
    "    csv_reader = csv.reader(csvfile)\n",
    "    for row in csv_reader:\n",
    "        items = [convert(s) for s in row]\n",
    "        print('row: {!r} becomes:'.format(row))\n",
    "        for item in items:\n",
    "            print('    {0!r} ({1})'.format(item, type(item)))    "
   ]
  },
  {
   "cell_type": "markdown",
   "metadata": {},
   "source": [
    "In the data, the third field was a car model.\n",
    "Most model values were names and stayed as strings.\n",
    "The [127](https://en.wikipedia.org/wiki/Fiat_127)\n",
    "was converted to an integer. Is that OK?\n",
    "If not, what would you do?\n",
    "If the data was going to be put in a database,\n",
    "how would the database deal with a field sometimes\n",
    "having a string value and sometimes having an integer value?"
   ]
  },
  {
   "cell_type": "markdown",
   "metadata": {},
   "source": [
    "---\n",
    "\n",
    "The following were added for the\n",
    "[2016-07-22 dojo](http://www.meetup.com/Central-Ohio-Python-Users-Group/events/232334951/)\n",
    "to explore simplification of det_type() of\n",
    "[csv_tools/__init__.py](https://github.com/cw-andrews/master_tbox/blob/master/csv_tools/__init__.py).\n",
    "I have a tough time understanding\n",
    "[csv_tools/__init__.py](https://github.com/cw-andrews/master_tbox/blob/master/csv_tools/__init__.py).\n",
    "How about you?"
   ]
  },
  {
   "cell_type": "code",
   "execution_count": 8,
   "metadata": {
    "collapsed": true
   },
   "outputs": [],
   "source": [
    "# Tolerate (ignore) commas in float numbers.\n",
    "\n",
    "class EmptyField(str):\n",
    "    pass\n",
    "\n",
    "def my_empty_field(s):\n",
    "    if s:\n",
    "        raise ValueError\n",
    "    return EmptyField()  \n",
    "\n",
    "def my_float(s):\n",
    "    return float(s.replace(',', ''))\n",
    "\n",
    "def get_data_converter(s):\n",
    "    # Note that this returns a converter function,\n",
    "    # not the converted value.\n",
    "\n",
    "    converters = (int, my_float, my_empty_field, str)\n",
    "    \n",
    "    for converter in converters:\n",
    "        try:\n",
    "            converter(s)\n",
    "        except ValueError:\n",
    "            pass\n",
    "        else:\n",
    "            return converter\n",
    "        \n",
    "    assert False, 'Should never get here'"
   ]
  },
  {
   "cell_type": "code",
   "execution_count": 9,
   "metadata": {
    "collapsed": false
   },
   "outputs": [
    {
     "name": "stdout",
     "output_type": "stream",
     "text": [
      "'19,999.99' <function my_float at 0xb4b48ecc>\n",
      "'hello' <class 'str'>\n",
      "'1,234' <function my_float at 0xb4b48ecc>\n",
      "'1234' <class 'int'>\n",
      "'' <function my_empty_field at 0xb4b4853c>\n"
     ]
    }
   ],
   "source": [
    "for s in ('19,999.99', 'hello', '1,234', '1234', ''):\n",
    "    print(repr(s), repr(get_data_converter(s)))"
   ]
  },
  {
   "cell_type": "code",
   "execution_count": 10,
   "metadata": {
    "collapsed": true
   },
   "outputs": [],
   "source": [
    "# Is this good?\n",
    "# I don't know enough about problem to say either way.\n",
    "\n",
    "def get_data_type(s):\n",
    "    # Note that this returns type of converted value,\n",
    "    # not the converter function or converted value.\n",
    "\n",
    "    converters = (int, my_float, my_empty_field, str)\n",
    "    \n",
    "    for converter in converters:\n",
    "        try:\n",
    "            value = converter(s)\n",
    "        except ValueError:\n",
    "            pass\n",
    "        else:\n",
    "            return type(value)\n",
    "        \n",
    "    assert False, 'Should never get here'"
   ]
  },
  {
   "cell_type": "code",
   "execution_count": 11,
   "metadata": {
    "collapsed": false
   },
   "outputs": [
    {
     "name": "stdout",
     "output_type": "stream",
     "text": [
      "'19,999.99' <class 'float'>\n",
      "'hello' <class 'str'>\n",
      "'1,234' <class 'float'>\n",
      "'1234' <class 'int'>\n",
      "'' <class '__main__.EmptyField'>\n"
     ]
    }
   ],
   "source": [
    "for s in ('19,999.99', 'hello', '1,234', '1234', ''):\n",
    "    print(repr(s), repr(get_data_type(s)))"
   ]
  },
  {
   "cell_type": "code",
   "execution_count": 12,
   "metadata": {
    "collapsed": true
   },
   "outputs": [],
   "source": [
    "# Could the if/elif/elif of _proc_dict_to_schema_vals()\n",
    "# be simplified in part with something like the following?\n",
    "\n",
    "headers = ()  # Stub value to suppress execution and errors.\n",
    "\n",
    "for field_name in headers:\n",
    "    types_and_names = (\n",
    "        # Starts with highest priority,\n",
    "        # in descending order of priority.\n",
    "        (str, get_type_of_string(maximum_length)),\n",
    "        (float, 'Double'),\n",
    "        (int, 'Long'),\n",
    "        (EmptyField, get_type_of_string(maximum_length)),\n",
    "    )\n",
    "    \n",
    "    field_types = set(field_types)\n",
    "\n",
    "    for type_, type_name in types_and_names:\n",
    "        if type_ in field_types:\n",
    "            schema.append((field_name, type_name))\n",
    "            break\n",
    "    else:\n",
    "        # Could this be provoked by not having any data rows?\n",
    "        # If so, which error should be raised?\n",
    "        raise TypeError('Ran out of types. Should never get here.')"
   ]
  },
  {
   "cell_type": "markdown",
   "metadata": {},
   "source": [
    "[Smart data structures and dumb code works a lot better than the other way around.  - Eric Raymond\n",
    "](http://catb.org/~esr/writings/cathedral-bazaar/cathedral-bazaar/ar01s06.html)"
   ]
  }
 ],
 "metadata": {
  "kernelspec": {
   "display_name": "Python 3",
   "language": "python",
   "name": "python3"
  },
  "language_info": {
   "codemirror_mode": {
    "name": "ipython",
    "version": 3
   },
   "file_extension": ".py",
   "mimetype": "text/x-python",
   "name": "python",
   "nbconvert_exporter": "python",
   "pygments_lexer": "ipython3",
   "version": "3.4.3"
  }
 },
 "nbformat": 4,
 "nbformat_minor": 0
}
