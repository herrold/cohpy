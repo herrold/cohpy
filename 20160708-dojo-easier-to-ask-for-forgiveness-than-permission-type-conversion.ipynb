{
 "cells": [
  {
   "cell_type": "markdown",
   "metadata": {},
   "source": [
    "In many other languages, once you have an error,\n",
    "the program crashes and is over.\n",
    "So before doing something that could crash the program,\n",
    "one checks the input before doing that something.\n",
    "This is called\n",
    "\"[look before you leap](https://docs.python.org/3/glossary.html#term-lbyl)\"\n",
    "or LBYL.\n",
    "\n",
    "In Python, one often has another option,\n",
    "which is to just try something, and if it blows up,\n",
    "do something else without crashing. \n",
    "This is called\n",
    "\"[Easier to ask for forgiveness than permission.](This is called \"[Easier to ask for forgiveness than permission.]()\"\n",
    "or EAFP.\n",
    "Python's try/except statements make this easy.\n",
    "\n",
    "This notebook plays with EAFP\n",
    "on some code that converts input to various types.\n",
    "\n",
    "Hopefully [Amazing Grace](https://en.wikipedia.org/wiki/Grace_Hopper) would approve."
   ]
  },
  {
   "cell_type": "code",
   "execution_count": 1,
   "metadata": {
    "collapsed": true
   },
   "outputs": [],
   "source": [
    "import csv\n",
    "import io"
   ]
  },
  {
   "cell_type": "markdown",
   "metadata": {},
   "source": [
    "Note that:\n",
    "- The barest minimum code is in the try clauses.\n",
    "- A specific exception is mentioned in each except clause.\n",
    "\n",
    "See [PEP 8 -- Style Guide for Python Code](https://www.python.org/dev/peps/pep-0008/)."
   ]
  },
  {
   "cell_type": "code",
   "execution_count": 2,
   "metadata": {
    "collapsed": true
   },
   "outputs": [],
   "source": [
    "def convert(s):\n",
    "    # First tries to convert input string to an integer.\n",
    "    # If that does not work, then tries to convert it to a float.\n",
    "    # If that does not work, leaves it as a string.\n",
    "\n",
    "    try:\n",
    "        value = int(s)\n",
    "    except ValueError:\n",
    "        pass\n",
    "    else:\n",
    "        return value\n",
    "\n",
    "    try:\n",
    "        value = float(s)\n",
    "    except ValueError:\n",
    "        pass\n",
    "    else:\n",
    "        return value\n",
    "\n",
    "    return s"
   ]
  },
  {
   "cell_type": "markdown",
   "metadata": {},
   "source": [
    "The following version of convert() is refactored to use a loop."
   ]
  },
  {
   "cell_type": "code",
   "execution_count": 3,
   "metadata": {
    "collapsed": true
   },
   "outputs": [],
   "source": [
    "def convert(s):\n",
    "    converters = (int, float)\n",
    "    \n",
    "    for converter in converters:\n",
    "        try:\n",
    "            value = converter(s)\n",
    "        except ValueError:\n",
    "            pass\n",
    "        else:\n",
    "            return value\n",
    "        \n",
    "    return s"
   ]
  },
  {
   "cell_type": "code",
   "execution_count": 4,
   "metadata": {
    "collapsed": true
   },
   "outputs": [],
   "source": [
    "data = '''Saeger Buick,123.456,Moosetang\n",
    "Bobb Ford,234234,Rustang\n",
    "Mario Fiat,987432.9832,127\n",
    "'''"
   ]
  },
  {
   "cell_type": "code",
   "execution_count": 5,
   "metadata": {
    "collapsed": false
   },
   "outputs": [
    {
     "name": "stdout",
     "output_type": "stream",
     "text": [
      "Saeger Buick,123.456,Moosetang\n",
      "Bobb Ford,234234,Rustang\n",
      "Mario Fiat,987432.9832,127\n"
     ]
    }
   ],
   "source": [
    "print(io.StringIO(data).read(), end='')"
   ]
  },
  {
   "cell_type": "code",
   "execution_count": 6,
   "metadata": {
    "collapsed": false
   },
   "outputs": [
    {
     "name": "stdout",
     "output_type": "stream",
     "text": [
      "row: ['Saeger Buick', '123.456', 'Moosetang'] becomes:\n",
      "    'Saeger Buick' (<class 'str'>)\n",
      "    123.456 (<class 'float'>)\n",
      "    'Moosetang' (<class 'str'>)\n",
      "row: ['Bobb Ford', '234234', 'Rustang'] becomes:\n",
      "    'Bobb Ford' (<class 'str'>)\n",
      "    234234 (<class 'int'>)\n",
      "    'Rustang' (<class 'str'>)\n",
      "row: ['Mario Fiat', '987432.9832', '127'] becomes:\n",
      "    'Mario Fiat' (<class 'str'>)\n",
      "    987432.9832 (<class 'float'>)\n",
      "    127 (<class 'int'>)\n"
     ]
    }
   ],
   "source": [
    "with io.StringIO(data) as csvfile:\n",
    "    csv_reader = csv.reader(csvfile)\n",
    "    for row in csv_reader:\n",
    "        items = [convert(s) for s in row]\n",
    "        print('row: %r becomes:' % row)\n",
    "        for item in items:\n",
    "            print('    %r (%s)' % (item, type(item)))    "
   ]
  },
  {
   "cell_type": "markdown",
   "metadata": {},
   "source": [
    "Chris likes .format() instead of C-style % formatting,\n",
    "so the above cell is redone below with .format() style formatting."
   ]
  },
  {
   "cell_type": "code",
   "execution_count": 7,
   "metadata": {
    "collapsed": false
   },
   "outputs": [
    {
     "name": "stdout",
     "output_type": "stream",
     "text": [
      "row: ['Saeger Buick', '123.456', 'Moosetang'] becomes:\n",
      "    'Saeger Buick' (<class 'str'>)\n",
      "    123.456 (<class 'float'>)\n",
      "    'Moosetang' (<class 'str'>)\n",
      "row: ['Bobb Ford', '234234', 'Rustang'] becomes:\n",
      "    'Bobb Ford' (<class 'str'>)\n",
      "    234234 (<class 'int'>)\n",
      "    'Rustang' (<class 'str'>)\n",
      "row: ['Mario Fiat', '987432.9832', '127'] becomes:\n",
      "    'Mario Fiat' (<class 'str'>)\n",
      "    987432.9832 (<class 'float'>)\n",
      "    127 (<class 'int'>)\n"
     ]
    }
   ],
   "source": [
    "with io.StringIO(data) as csvfile:\n",
    "    csv_reader = csv.reader(csvfile)\n",
    "    for row in csv_reader:\n",
    "        items = [convert(s) for s in row]\n",
    "        print('row: {!r} becomes:'.format(row))\n",
    "        for item in items:\n",
    "            print('    {0!r} ({1})'.format(item, type(item)))    "
   ]
  },
  {
   "cell_type": "markdown",
   "metadata": {},
   "source": [
    "In the data, the third field was a car model.\n",
    "Most model values were names and stayed as strings.\n",
    "The [127](https://en.wikipedia.org/wiki/Fiat_127)\n",
    "was converted to an integer. Is that OK?\n",
    "If not, what would you do?\n",
    "If the data was going to be put in a database,\n",
    "how would the database deal with a field sometimes\n",
    "having a string value and sometimes an integer value?"
   ]
  }
 ],
 "metadata": {
  "kernelspec": {
   "display_name": "Python 3",
   "language": "python",
   "name": "python3"
  },
  "language_info": {
   "codemirror_mode": {
    "name": "ipython",
    "version": 3
   },
   "file_extension": ".py",
   "mimetype": "text/x-python",
   "name": "python",
   "nbconvert_exporter": "python",
   "pygments_lexer": "ipython3",
   "version": "3.4.3"
  }
 },
 "nbformat": 4,
 "nbformat_minor": 0
}
