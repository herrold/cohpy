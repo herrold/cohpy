{
 "cells": [
  {
   "cell_type": "markdown",
   "metadata": {},
   "source": [
    "This focus of this notebook is using regular expressions (regexes).\n",
    "\n",
    "This notebook is based on\n",
    "cohpy-20160706-lunch-iso8601-regex.ipynb\n",
    "which is based on\n",
    "[Travis Risner's presentation](https://mail.python.org/pipermail/centraloh/2016-July/002888.html) about regexes\n",
    "from the 2016-06-27 COhPy meeting."
   ]
  },
  {
   "cell_type": "markdown",
   "metadata": {},
   "source": [
    "---\n",
    "The following code converts input strings \n",
    "to datetime.date objects.\n",
    "\n",
    "It uses a hybrid approach of combining\n",
    "regexes, standard library functions, \n",
    "try/except statements and ordinary code\n",
    "for validation and parsing.\n",
    "It uses regexes for the part of validation and parsing that is easy\n",
    "for regexes to do.\n",
    "It uses datetime.date() and min_date <= date <= max_date\n",
    "to do the rest of the validation,\n",
    "which would be very difficult with regexes.\n",
    "\n",
    "Using try/except statements makes the latter validation easy."
   ]
  },
  {
   "cell_type": "code",
   "execution_count": 1,
   "metadata": {
    "collapsed": true
   },
   "outputs": [],
   "source": [
    "import re\n",
    "import datetime"
   ]
  },
  {
   "cell_type": "code",
   "execution_count": 2,
   "metadata": {
    "collapsed": false
   },
   "outputs": [],
   "source": [
    "date_pattern = re.compile(r'''\n",
    "    # Expects dates to be in YYYY?MM?DD format\n",
    "    # where ? is separator.\n",
    "    # The separator may be one of '-', ',', '.', '/', or ' '.\n",
    "    # Both separators must be the same.\n",
    "    # Month and day may each have either one or two digits.\n",
    "    \n",
    "    ^                         # matches beginning of string\n",
    "    (?P<year>\\d{4})           # year must have exactly four digits\n",
    "    (?P<separator>[-,./ ])    # separator must be one of\n",
    "                              # '-', ',', '.', '/', or ' '.\n",
    "    (?P<month>\\d{1,2})        # month must have one or two digits\n",
    "    (?P=separator)            # must match earlier separator\n",
    "    (?P<day>\\d{1,2})          # day must have one or two digits\n",
    "    $                         # matches end of string\n",
    "''', re.VERBOSE)\n",
    "\n",
    "min_date = datetime.date(1900, 1, 1)\n",
    "max_date = datetime.date(2100, 1, 1) - datetime.timedelta(days=1)"
   ]
  },
  {
   "cell_type": "code",
   "execution_count": 3,
   "metadata": {
    "collapsed": true
   },
   "outputs": [],
   "source": [
    "sample_input = [\n",
    "    '2016-7-6',\n",
    "    '2016-07-06',\n",
    "    '2016 07-06',\n",
    "    '2016 07 06',\n",
    "    '2016/07 06',\n",
    "    '2016/07/06',\n",
    "    '2016-07/06',\n",
    "    '2016-02-29',\n",
    "    '2015-02-29',\n",
    "    '1899-12-31',\n",
    "    '1900-01-01',\n",
    "    '2099-12-31',\n",
    "    '2100-01-01',\n",
    "]"
   ]
  },
  {
   "cell_type": "code",
   "execution_count": 4,
   "metadata": {
    "collapsed": false
   },
   "outputs": [
    {
     "name": "stdout",
     "output_type": "stream",
     "text": [
      "'2016-7-6' year='2016', month='7', day='6' separator='-'\n",
      "'2016-07-06' year='2016', month='07', day='06' separator='-'\n",
      "'2016 07-06' no match\n",
      "'2016 07 06' year='2016', month='07', day='06' separator=' '\n",
      "'2016/07 06' no match\n",
      "'2016/07/06' year='2016', month='07', day='06' separator='/'\n",
      "'2016-07/06' no match\n",
      "'2016-02-29' year='2016', month='02', day='29' separator='-'\n",
      "'2015-02-29' year='2015', month='02', day='29' separator='-'\n",
      "'1899-12-31' year='1899', month='12', day='31' separator='-'\n",
      "'1900-01-01' year='1900', month='01', day='01' separator='-'\n",
      "'2099-12-31' year='2099', month='12', day='31' separator='-'\n",
      "'2100-01-01' year='2100', month='01', day='01' separator='-'\n"
     ]
    }
   ],
   "source": [
    "# This shows the input and output\n",
    "# for applying the date_pattern regex to sample_input.\n",
    "# Note that 2015-02-29 passes the regex,\n",
    "# although it is not a valid date.\n",
    "\n",
    "for s in sample_input:\n",
    "    print('%r ' % s, end='')\n",
    "    m = re.match(date_pattern, s)\n",
    "    if not m:\n",
    "        print('no match')\n",
    "        continue\n",
    "    print(\n",
    "        'year=%r, month=%r, day=%r separator=%r' % (\n",
    "        m.group('year'),\n",
    "        m.group('month'),\n",
    "        m.group('day'),\n",
    "        m.group('separator'),\n",
    "    ))"
   ]
  },
  {
   "cell_type": "code",
   "execution_count": 5,
   "metadata": {
    "collapsed": true
   },
   "outputs": [],
   "source": [
    "def convert_to_date(s):\n",
    "    '''Converts input string s to a datetime.date object.\n",
    "    \n",
    "    Returns datetime.date object if s is valid date.\n",
    "    Date must be between min_date and max_date inclusive.\n",
    "    Otherwise returns None.'''\n",
    "    \n",
    "    m = re.match(date_pattern, s)\n",
    "    if not m:\n",
    "        return None\n",
    "    \n",
    "    try:\n",
    "        date = datetime.date(\n",
    "            int(m.group('year')),\n",
    "            int(m.group('month')),\n",
    "            int(m.group('day')),\n",
    "        )\n",
    "    except ValueError:\n",
    "        return None\n",
    "\n",
    "    if min_date <= date <= max_date:\n",
    "        return date\n",
    "    else:\n",
    "        return None"
   ]
  },
  {
   "cell_type": "code",
   "execution_count": 6,
   "metadata": {
    "collapsed": false
   },
   "outputs": [
    {
     "name": "stdout",
     "output_type": "stream",
     "text": [
      "'2016-7-6' -> 2016-07-06\n",
      "'2016-07-06' -> 2016-07-06\n",
      "'2016 07-06' -> None\n",
      "'2016 07 06' -> 2016-07-06\n",
      "'2016/07 06' -> None\n",
      "'2016/07/06' -> 2016-07-06\n",
      "'2016-07/06' -> None\n",
      "'2016-02-29' -> 2016-02-29\n",
      "'2015-02-29' -> None\n",
      "'1899-12-31' -> None\n",
      "'1900-01-01' -> 1900-01-01\n",
      "'2099-12-31' -> 2099-12-31\n",
      "'2100-01-01' -> None\n"
     ]
    }
   ],
   "source": [
    "for s in sample_input:\n",
    "    date = convert_to_date(s)\n",
    "    print('%r -> %s' % (s, date))\n",
    "\n",
    "presumed_good_output = [convert_to_date(s) for s in sample_input]"
   ]
  },
  {
   "cell_type": "code",
   "execution_count": 7,
   "metadata": {
    "collapsed": false
   },
   "outputs": [],
   "source": [
    "# The function in this cell works the same as the earlier version.\n",
    "# It minimizes the code inside the try clause\n",
    "# by getting the year, month, and day strings from the match object\n",
    "# outside the try clause.\n",
    "# It is also easy to read.\n",
    "\n",
    "def convert_to_date(s):\n",
    "    '''Converts input string s to a datetime.date object.\n",
    "    \n",
    "    Returns datetime.date object if s is valid date.\n",
    "    Date must be between min_date and max_date inclusive.\n",
    "    Otherwise returns None.'''\n",
    "    \n",
    "    m = re.match(date_pattern, s)\n",
    "    if not m:\n",
    "        return None\n",
    "    \n",
    "    year  = int(m.group('year'))\n",
    "    month = int(m.group('month'))\n",
    "    day   = int(m.group('day'))\n",
    "    try:\n",
    "        date = datetime.date(year, month, day)\n",
    "    except ValueError:\n",
    "        return None\n",
    "\n",
    "    if min_date <= date <= max_date:\n",
    "        return date\n",
    "    else:\n",
    "        return None\n",
    "\n",
    "assert presumed_good_output == [convert_to_date(s) for s in sample_input]"
   ]
  },
  {
   "cell_type": "code",
   "execution_count": 8,
   "metadata": {
    "collapsed": true
   },
   "outputs": [],
   "source": [
    "# The function in this cell works the same as the earlier version.\n",
    "# The year_month_day stuff is correct but hard to read,\n",
    "# so the previoius version of the function is better.\n",
    "\n",
    "def convert_to_date(s):\n",
    "    '''Converts input string s to a datetime.date object.\n",
    "    \n",
    "    Returns datetime.date object if s is valid date.\n",
    "    Date must be between min_date and max_date inclusive.\n",
    "    Otherwise returns None.'''\n",
    "    \n",
    "    m = re.match(date_pattern, s)\n",
    "    if not m:\n",
    "        return None\n",
    "    \n",
    "    year_month_day = map(\n",
    "        lambda name: int(m.group(name)),\n",
    "        ('year', 'month', 'day')\n",
    "    )\n",
    "    try:\n",
    "        date = datetime.date(*year_month_day)\n",
    "    except ValueError:\n",
    "        return None\n",
    "\n",
    "    if min_date <= date <= max_date:\n",
    "        return date\n",
    "    else:\n",
    "        return None\n",
    "\n",
    "assert presumed_good_output == [convert_to_date(s) for s in sample_input]"
   ]
  }
 ],
 "metadata": {
  "kernelspec": {
   "display_name": "Python 3",
   "language": "python",
   "name": "python3"
  },
  "language_info": {
   "codemirror_mode": {
    "name": "ipython",
    "version": 3
   },
   "file_extension": ".py",
   "mimetype": "text/x-python",
   "name": "python",
   "nbconvert_exporter": "python",
   "pygments_lexer": "ipython3",
   "version": "3.4.3"
  }
 },
 "nbformat": 4,
 "nbformat_minor": 0
}
