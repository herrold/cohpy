{
 "cells": [
  {
   "cell_type": "code",
   "execution_count": 1,
   "metadata": {
    "collapsed": false
   },
   "outputs": [],
   "source": [
    "import string\n",
    "from functools import partial"
   ]
  },
  {
   "cell_type": "code",
   "execution_count": 2,
   "metadata": {
    "collapsed": true
   },
   "outputs": [],
   "source": [
    "N_ASCII_CHARACTERS = 1 << 7"
   ]
  },
  {
   "cell_type": "code",
   "execution_count": 3,
   "metadata": {
    "collapsed": false
   },
   "outputs": [
    {
     "data": {
      "text/plain": [
       "'0123456789abcdefghijklmnopqrstuvwxyzABCDEFGHIJKLMNOPQRSTUVWXYZ!\"#$%&\\'()*+,-./:;<=>?@[\\\\]^_`{|}~ \\t\\n\\r\\x0b\\x0c'"
      ]
     },
     "execution_count": 3,
     "metadata": {},
     "output_type": "execute_result"
    }
   ],
   "source": [
    "string.printable"
   ]
  },
  {
   "cell_type": "markdown",
   "metadata": {},
   "source": [
    "string.printable has non-printable characters that I don't want,\n",
    "such as '\\x0b', so I make my own set of good characters."
   ]
  },
  {
   "cell_type": "code",
   "execution_count": 6,
   "metadata": {
    "collapsed": false
   },
   "outputs": [
    {
     "data": {
      "text/plain": [
       "(95,\n",
       " ' !\"#$%&\\'()*+,-./0123456789:;<=>?@ABCDEFGHIJKLMNOPQRSTUVWXYZ[\\\\]^_`abcdefghijklmnopqrstuvwxyz{|}~')"
      ]
     },
     "execution_count": 6,
     "metadata": {},
     "output_type": "execute_result"
    }
   ],
   "source": [
    "s = {chr(c) for c in range(0, N_ASCII_CHARACTERS) if chr(c).isprintable()}\n",
    "len(s), ''.join(sorted(s))"
   ]
  },
  {
   "cell_type": "code",
   "execution_count": 5,
   "metadata": {
    "collapsed": false
   },
   "outputs": [
    {
     "data": {
      "text/plain": [
       "(95,\n",
       " '0123456789abcdefghijklmnopqrstuvwxyzABCDEFGHIJKLMNOPQRSTUVWXYZ!\"#$%&\\'()*+,-./:;<=>?@[\\\\]^_`{|}~ ')"
      ]
     },
     "execution_count": 5,
     "metadata": {},
     "output_type": "execute_result"
    }
   ],
   "source": [
    "s = ''.join(c for c in string.printable if ord(' ') <= ord(c) <= ord('~'))\n",
    "len(s), s"
   ]
  },
  {
   "cell_type": "code",
   "execution_count": 6,
   "metadata": {
    "collapsed": true
   },
   "outputs": [],
   "source": [
    "good_characters = {chr(c) for c in range(ord(' '), ord('~')+1)} | {'\\t'}"
   ]
  },
  {
   "cell_type": "code",
   "execution_count": 7,
   "metadata": {
    "collapsed": false
   },
   "outputs": [
    {
     "data": {
      "text/plain": [
       "(96,\n",
       " {'\\t',\n",
       "  ' ',\n",
       "  '!',\n",
       "  '\"',\n",
       "  '#',\n",
       "  '$',\n",
       "  '%',\n",
       "  '&',\n",
       "  \"'\",\n",
       "  '(',\n",
       "  ')',\n",
       "  '*',\n",
       "  '+',\n",
       "  ',',\n",
       "  '-',\n",
       "  '.',\n",
       "  '/',\n",
       "  '0',\n",
       "  '1',\n",
       "  '2',\n",
       "  '3',\n",
       "  '4',\n",
       "  '5',\n",
       "  '6',\n",
       "  '7',\n",
       "  '8',\n",
       "  '9',\n",
       "  ':',\n",
       "  ';',\n",
       "  '<',\n",
       "  '=',\n",
       "  '>',\n",
       "  '?',\n",
       "  '@',\n",
       "  'A',\n",
       "  'B',\n",
       "  'C',\n",
       "  'D',\n",
       "  'E',\n",
       "  'F',\n",
       "  'G',\n",
       "  'H',\n",
       "  'I',\n",
       "  'J',\n",
       "  'K',\n",
       "  'L',\n",
       "  'M',\n",
       "  'N',\n",
       "  'O',\n",
       "  'P',\n",
       "  'Q',\n",
       "  'R',\n",
       "  'S',\n",
       "  'T',\n",
       "  'U',\n",
       "  'V',\n",
       "  'W',\n",
       "  'X',\n",
       "  'Y',\n",
       "  'Z',\n",
       "  '[',\n",
       "  '\\\\',\n",
       "  ']',\n",
       "  '^',\n",
       "  '_',\n",
       "  '`',\n",
       "  'a',\n",
       "  'b',\n",
       "  'c',\n",
       "  'd',\n",
       "  'e',\n",
       "  'f',\n",
       "  'g',\n",
       "  'h',\n",
       "  'i',\n",
       "  'j',\n",
       "  'k',\n",
       "  'l',\n",
       "  'm',\n",
       "  'n',\n",
       "  'o',\n",
       "  'p',\n",
       "  'q',\n",
       "  'r',\n",
       "  's',\n",
       "  't',\n",
       "  'u',\n",
       "  'v',\n",
       "  'w',\n",
       "  'x',\n",
       "  'y',\n",
       "  'z',\n",
       "  '{',\n",
       "  '|',\n",
       "  '}',\n",
       "  '~'})"
      ]
     },
     "execution_count": 7,
     "metadata": {},
     "output_type": "execute_result"
    }
   ],
   "source": [
    "len(good_characters), good_characters"
   ]
  },
  {
   "cell_type": "code",
   "execution_count": 8,
   "metadata": {
    "collapsed": true
   },
   "outputs": [],
   "source": [
    "filename = '20150223-cohpy-memoization.ipynb'"
   ]
  },
  {
   "cell_type": "code",
   "execution_count": 9,
   "metadata": {
    "collapsed": false
   },
   "outputs": [],
   "source": [
    "def pass_good_characters(lines):\n",
    "    for line in lines:\n",
    "        yield ''.join(\n",
    "            c for c in line\n",
    "            if 31 < ord(c) < 127 or c == '\\t')"
   ]
  },
  {
   "cell_type": "code",
   "execution_count": 10,
   "metadata": {
    "collapsed": false,
    "scrolled": false
   },
   "outputs": [
    {
     "name": "stdout",
     "output_type": "stream",
     "text": [
      "100 loops, best of 3: 8.78 ms per loop\n"
     ]
    }
   ],
   "source": [
    "%timeit list(pass_good_characters(open(filename)))"
   ]
  },
  {
   "cell_type": "code",
   "execution_count": 11,
   "metadata": {
    "collapsed": false
   },
   "outputs": [],
   "source": [
    "def pass_good_characters(lines):\n",
    "    for line in lines:\n",
    "        yield ''.join(\n",
    "            c for c in line\n",
    "            if ord(' ')-1 < ord(c) < ord('~')+1 or c == '\\t')"
   ]
  },
  {
   "cell_type": "code",
   "execution_count": 12,
   "metadata": {
    "collapsed": false,
    "scrolled": false
   },
   "outputs": [
    {
     "name": "stdout",
     "output_type": "stream",
     "text": [
      "100 loops, best of 3: 14.8 ms per loop\n"
     ]
    }
   ],
   "source": [
    "%timeit list(pass_good_characters(open(filename)))"
   ]
  },
  {
   "cell_type": "code",
   "execution_count": 13,
   "metadata": {
    "collapsed": false
   },
   "outputs": [],
   "source": [
    "def pass_good_characters(lines):\n",
    "    for line in lines:\n",
    "        yield ''.join(\n",
    "            c for c in line\n",
    "            if ord(' ') <= ord(c) <= ord('~') or c == '\\t')"
   ]
  },
  {
   "cell_type": "code",
   "execution_count": 14,
   "metadata": {
    "collapsed": false,
    "scrolled": false
   },
   "outputs": [
    {
     "name": "stdout",
     "output_type": "stream",
     "text": [
      "100 loops, best of 3: 13.1 ms per loop\n"
     ]
    }
   ],
   "source": [
    "%timeit list(pass_good_characters(open(filename)))"
   ]
  },
  {
   "cell_type": "code",
   "execution_count": 15,
   "metadata": {
    "collapsed": false
   },
   "outputs": [],
   "source": [
    "def pass_good_characters(lines):\n",
    "    for line in lines:\n",
    "        yield ''.join(\n",
    "            c for c in line\n",
    "            if ' ' <= c <= '~' or c == '\\t')"
   ]
  },
  {
   "cell_type": "code",
   "execution_count": 16,
   "metadata": {
    "collapsed": false,
    "scrolled": true
   },
   "outputs": [
    {
     "name": "stdout",
     "output_type": "stream",
     "text": [
      "100 loops, best of 3: 7.6 ms per loop\n"
     ]
    }
   ],
   "source": [
    "%timeit list(pass_good_characters(open(filename)))"
   ]
  },
  {
   "cell_type": "code",
   "execution_count": 17,
   "metadata": {
    "collapsed": false
   },
   "outputs": [],
   "source": [
    "def pass_good_characters(lines):\n",
    "    for line in lines:\n",
    "        yield ''.join(\n",
    "            c for c in line\n",
    "            if c <= '~' and (c.isprintable() or c == '\\t'))"
   ]
  },
  {
   "cell_type": "code",
   "execution_count": 18,
   "metadata": {
    "collapsed": false,
    "scrolled": true
   },
   "outputs": [
    {
     "name": "stdout",
     "output_type": "stream",
     "text": [
      "100 loops, best of 3: 8.68 ms per loop\n"
     ]
    }
   ],
   "source": [
    "%timeit list(pass_good_characters(open(filename)))"
   ]
  },
  {
   "cell_type": "code",
   "execution_count": 19,
   "metadata": {
    "collapsed": false
   },
   "outputs": [],
   "source": [
    "def pass_good_characters(lines):\n",
    "    for line in lines:\n",
    "        yield ''.join(filter(lambda c: c <= '~' and (c.isprintable() or c == '\\t'), line))"
   ]
  },
  {
   "cell_type": "code",
   "execution_count": 20,
   "metadata": {
    "collapsed": false,
    "scrolled": true
   },
   "outputs": [
    {
     "name": "stdout",
     "output_type": "stream",
     "text": [
      "100 loops, best of 3: 10.2 ms per loop\n"
     ]
    }
   ],
   "source": [
    "%timeit list(pass_good_characters(open(filename)))"
   ]
  },
  {
   "cell_type": "code",
   "execution_count": 21,
   "metadata": {
    "collapsed": false
   },
   "outputs": [],
   "source": [
    "def pass_good_characters(lines):\n",
    "    good_characters = [chr(c) for c in range(ord(' '), ord('~')+1)] + ['\\t']\n",
    "    for line in lines:\n",
    "        yield ''.join(c for c in line if c in good_characters)"
   ]
  },
  {
   "cell_type": "code",
   "execution_count": 22,
   "metadata": {
    "collapsed": false,
    "scrolled": true
   },
   "outputs": [
    {
     "name": "stdout",
     "output_type": "stream",
     "text": [
      "10 loops, best of 3: 37.4 ms per loop\n"
     ]
    }
   ],
   "source": [
    "%timeit list(pass_good_characters(open(filename)))"
   ]
  },
  {
   "cell_type": "code",
   "execution_count": 23,
   "metadata": {
    "collapsed": false
   },
   "outputs": [],
   "source": [
    "def pass_good_characters(lines):\n",
    "    good_characters = ''.join([chr(c) for c in range(ord(' '), ord('~')+1)] + ['\\t'])\n",
    "    for line in lines:\n",
    "        yield ''.join(c for c in line if c in good_characters)"
   ]
  },
  {
   "cell_type": "code",
   "execution_count": 24,
   "metadata": {
    "collapsed": false,
    "scrolled": true
   },
   "outputs": [
    {
     "name": "stdout",
     "output_type": "stream",
     "text": [
      "100 loops, best of 3: 6.95 ms per loop\n"
     ]
    }
   ],
   "source": [
    "%timeit list(pass_good_characters(open(filename)))"
   ]
  },
  {
   "cell_type": "code",
   "execution_count": 25,
   "metadata": {
    "collapsed": false
   },
   "outputs": [],
   "source": [
    "def pass_good_characters(lines):\n",
    "    good_characters = {chr(c) for c in range(ord(' '), ord('~')+1)} | {'\\t'}\n",
    "    for line in lines:\n",
    "        yield ''.join(c for c in line if c in good_characters)"
   ]
  },
  {
   "cell_type": "code",
   "execution_count": 26,
   "metadata": {
    "collapsed": false,
    "scrolled": true
   },
   "outputs": [
    {
     "name": "stdout",
     "output_type": "stream",
     "text": [
      "100 loops, best of 3: 6.23 ms per loop\n"
     ]
    }
   ],
   "source": [
    "%timeit list(pass_good_characters(open(filename)))"
   ]
  },
  {
   "cell_type": "code",
   "execution_count": 27,
   "metadata": {
    "collapsed": false
   },
   "outputs": [],
   "source": [
    "def pass_good_characters(lines):\n",
    "    good_characters = {chr(c) for c in range(ord(' '), ord('~')+1)} | {'\\t'}\n",
    "    yield from (\n",
    "        ''.join(c for c in line if c in good_characters)\n",
    "        for line in lines)"
   ]
  },
  {
   "cell_type": "code",
   "execution_count": 28,
   "metadata": {
    "collapsed": false,
    "scrolled": true
   },
   "outputs": [
    {
     "name": "stdout",
     "output_type": "stream",
     "text": [
      "100 loops, best of 3: 6.19 ms per loop\n"
     ]
    }
   ],
   "source": [
    "%timeit list(pass_good_characters(open(filename)))"
   ]
  },
  {
   "cell_type": "code",
   "execution_count": 29,
   "metadata": {
    "collapsed": false
   },
   "outputs": [],
   "source": [
    "def pass_good_characters(lines):\n",
    "    good_characters = {\n",
    "        chr(c) for c in range(N_ASCII_CHARACTERS)\n",
    "        if chr(c).isprintable()} | {'\\t'}\n",
    "    for line in lines:\n",
    "        yield ''.join(c for c in line if c in good_characters)"
   ]
  },
  {
   "cell_type": "code",
   "execution_count": 30,
   "metadata": {
    "collapsed": false,
    "scrolled": true
   },
   "outputs": [
    {
     "name": "stdout",
     "output_type": "stream",
     "text": [
      "100 loops, best of 3: 6.1 ms per loop\n"
     ]
    }
   ],
   "source": [
    "%timeit list(pass_good_characters(open(filename)))"
   ]
  },
  {
   "cell_type": "code",
   "execution_count": 31,
   "metadata": {
    "collapsed": false
   },
   "outputs": [],
   "source": [
    "def pass_good_characters(lines):\n",
    "    good_characters = {\n",
    "        chr(c) for c in range(N_ASCII_CHARACTERS)\n",
    "        if chr(c).isprintable() or chr(c) == '\\t'}\n",
    "    for line in lines:\n",
    "        yield ''.join(c for c in line if c in good_characters)"
   ]
  },
  {
   "cell_type": "code",
   "execution_count": 32,
   "metadata": {
    "collapsed": false,
    "scrolled": true
   },
   "outputs": [
    {
     "name": "stdout",
     "output_type": "stream",
     "text": [
      "100 loops, best of 3: 6 ms per loop\n"
     ]
    }
   ],
   "source": [
    "%timeit list(pass_good_characters(open(filename)))"
   ]
  },
  {
   "cell_type": "code",
   "execution_count": 33,
   "metadata": {
    "collapsed": false
   },
   "outputs": [],
   "source": [
    "def pass_good_characters(lines):\n",
    "    good_characters = {chr(c) for c in range(ord(' '), ord('~')+1)} | {'\\t'}\n",
    "    for line in lines:\n",
    "        yield ''.join(filter(lambda c: c in good_characters, line))"
   ]
  },
  {
   "cell_type": "code",
   "execution_count": 34,
   "metadata": {
    "collapsed": false,
    "scrolled": true
   },
   "outputs": [
    {
     "name": "stdout",
     "output_type": "stream",
     "text": [
      "100 loops, best of 3: 7.69 ms per loop\n"
     ]
    }
   ],
   "source": [
    "%timeit list(pass_good_characters(open(filename)))"
   ]
  },
  {
   "cell_type": "code",
   "execution_count": 35,
   "metadata": {
    "collapsed": true
   },
   "outputs": [],
   "source": [
    "class MyStringIO():\n",
    "    def __init__(self, s=''):\n",
    "        self.s = s\n",
    "        self.i = 0\n",
    "        \n",
    "    def __iter__(self):\n",
    "        return self\n",
    "    \n",
    "    def __next__(self):\n",
    "        s = []\n",
    "        for c in iter(partial(self.read, 1), ''):\n",
    "            s.append(c)\n",
    "            if c == '\\n':\n",
    "                break\n",
    "        if not s:\n",
    "            raise StopIteration\n",
    "        return ''.join(s)\n",
    "\n",
    "    def read(self, n):\n",
    "        s = self.s[self.i:self.i+n]\n",
    "        self.i += n\n",
    "        self.i = min(self.i, len(self.s))\n",
    "        return s\n",
    "\n",
    "    def write(self, s):\n",
    "        self.s += s"
   ]
  },
  {
   "cell_type": "code",
   "execution_count": 36,
   "metadata": {
    "collapsed": true
   },
   "outputs": [],
   "source": [
    "s = 'hello\\nwo\\1\\200\\trld\\n'"
   ]
  },
  {
   "cell_type": "code",
   "execution_count": 37,
   "metadata": {
    "collapsed": false
   },
   "outputs": [
    {
     "data": {
      "text/plain": [
       "<__main__.MyStringIO at 0xb215176c>"
      ]
     },
     "execution_count": 37,
     "metadata": {},
     "output_type": "execute_result"
    }
   ],
   "source": [
    "f = MyStringIO(s)\n",
    "f.write('peas\\n')\n",
    "f"
   ]
  },
  {
   "cell_type": "code",
   "execution_count": 38,
   "metadata": {
    "collapsed": false,
    "scrolled": true
   },
   "outputs": [
    {
     "name": "stdout",
     "output_type": "stream",
     "text": [
      "0 'hello\\n'\n",
      "1 'wo\\x01\\x80\\trld\\n'\n",
      "2 'peas\\n'\n"
     ]
    }
   ],
   "source": [
    "for i, line in enumerate(f):\n",
    "    print(i, repr(line))"
   ]
  },
  {
   "cell_type": "code",
   "execution_count": 39,
   "metadata": {
    "collapsed": false
   },
   "outputs": [
    {
     "data": {
      "text/plain": [
       "<__main__.MyStringIO at 0xb214b46c>"
      ]
     },
     "execution_count": 39,
     "metadata": {},
     "output_type": "execute_result"
    }
   ],
   "source": [
    "f = MyStringIO(s)\n",
    "f.write('peas\\n')\n",
    "f"
   ]
  },
  {
   "cell_type": "code",
   "execution_count": 40,
   "metadata": {
    "collapsed": false,
    "scrolled": true
   },
   "outputs": [
    {
     "name": "stdout",
     "output_type": "stream",
     "text": [
      "0 'hello'\n",
      "1 'wo\\trld'\n",
      "2 'peas'\n"
     ]
    }
   ],
   "source": [
    "for i, line in enumerate(pass_good_characters(f)):\n",
    "    print(i, repr(line))"
   ]
  },
  {
   "cell_type": "code",
   "execution_count": 41,
   "metadata": {
    "collapsed": false
   },
   "outputs": [
    {
     "name": "stdout",
     "output_type": "stream",
     "text": [
      "0 '\\x00' False\n",
      "1 '\\x01' False\n",
      "2 '\\x02' False\n",
      "3 '\\x03' False\n",
      "4 '\\x04' False\n",
      "5 '\\x05' False\n",
      "6 '\\x06' False\n",
      "7 '\\x07' False\n",
      "8 '\\x08' False\n",
      "9 '\\t' False\n",
      "10 '\\n' False\n",
      "11 '\\x0b' False\n",
      "12 '\\x0c' False\n",
      "13 '\\r' False\n",
      "14 '\\x0e' False\n",
      "15 '\\x0f' False\n",
      "16 '\\x10' False\n",
      "17 '\\x11' False\n",
      "18 '\\x12' False\n",
      "19 '\\x13' False\n",
      "20 '\\x14' False\n",
      "21 '\\x15' False\n",
      "22 '\\x16' False\n",
      "23 '\\x17' False\n",
      "24 '\\x18' False\n",
      "25 '\\x19' False\n",
      "26 '\\x1a' False\n",
      "27 '\\x1b' False\n",
      "28 '\\x1c' False\n",
      "29 '\\x1d' False\n",
      "30 '\\x1e' False\n",
      "31 '\\x1f' False\n",
      "32 ' ' True\n",
      "33 '!' True\n",
      "34 '\"' True\n",
      "35 '#' True\n",
      "36 '$' True\n",
      "37 '%' True\n",
      "38 '&' True\n",
      "39 \"'\" True\n",
      "40 '(' True\n",
      "41 ')' True\n",
      "42 '*' True\n",
      "43 '+' True\n",
      "44 ',' True\n",
      "45 '-' True\n",
      "46 '.' True\n",
      "47 '/' True\n",
      "48 '0' True\n",
      "49 '1' True\n",
      "50 '2' True\n",
      "51 '3' True\n",
      "52 '4' True\n",
      "53 '5' True\n",
      "54 '6' True\n",
      "55 '7' True\n",
      "56 '8' True\n",
      "57 '9' True\n",
      "58 ':' True\n",
      "59 ';' True\n",
      "60 '<' True\n",
      "61 '=' True\n",
      "62 '>' True\n",
      "63 '?' True\n",
      "64 '@' True\n",
      "65 'A' True\n",
      "66 'B' True\n",
      "67 'C' True\n",
      "68 'D' True\n",
      "69 'E' True\n",
      "70 'F' True\n",
      "71 'G' True\n",
      "72 'H' True\n",
      "73 'I' True\n",
      "74 'J' True\n",
      "75 'K' True\n",
      "76 'L' True\n",
      "77 'M' True\n",
      "78 'N' True\n",
      "79 'O' True\n",
      "80 'P' True\n",
      "81 'Q' True\n",
      "82 'R' True\n",
      "83 'S' True\n",
      "84 'T' True\n",
      "85 'U' True\n",
      "86 'V' True\n",
      "87 'W' True\n",
      "88 'X' True\n",
      "89 'Y' True\n",
      "90 'Z' True\n",
      "91 '[' True\n",
      "92 '\\\\' True\n",
      "93 ']' True\n",
      "94 '^' True\n",
      "95 '_' True\n",
      "96 '`' True\n",
      "97 'a' True\n",
      "98 'b' True\n",
      "99 'c' True\n",
      "100 'd' True\n",
      "101 'e' True\n",
      "102 'f' True\n",
      "103 'g' True\n",
      "104 'h' True\n",
      "105 'i' True\n",
      "106 'j' True\n",
      "107 'k' True\n",
      "108 'l' True\n",
      "109 'm' True\n",
      "110 'n' True\n",
      "111 'o' True\n",
      "112 'p' True\n",
      "113 'q' True\n",
      "114 'r' True\n",
      "115 's' True\n",
      "116 't' True\n",
      "117 'u' True\n",
      "118 'v' True\n",
      "119 'w' True\n",
      "120 'x' True\n",
      "121 'y' True\n",
      "122 'z' True\n",
      "123 '{' True\n",
      "124 '|' True\n",
      "125 '}' True\n",
      "126 '~' True\n",
      "127 '\\x7f' False\n",
      "128 '\\x80' False\n",
      "129 '\\x81' False\n",
      "130 '\\x82' False\n",
      "131 '\\x83' False\n",
      "132 '\\x84' False\n",
      "133 '\\x85' False\n",
      "134 '\\x86' False\n",
      "135 '\\x87' False\n",
      "136 '\\x88' False\n",
      "137 '\\x89' False\n",
      "138 '\\x8a' False\n",
      "139 '\\x8b' False\n",
      "140 '\\x8c' False\n",
      "141 '\\x8d' False\n",
      "142 '\\x8e' False\n",
      "143 '\\x8f' False\n",
      "144 '\\x90' False\n",
      "145 '\\x91' False\n",
      "146 '\\x92' False\n",
      "147 '\\x93' False\n",
      "148 '\\x94' False\n",
      "149 '\\x95' False\n",
      "150 '\\x96' False\n",
      "151 '\\x97' False\n",
      "152 '\\x98' False\n",
      "153 '\\x99' False\n",
      "154 '\\x9a' False\n",
      "155 '\\x9b' False\n",
      "156 '\\x9c' False\n",
      "157 '\\x9d' False\n",
      "158 '\\x9e' False\n",
      "159 '\\x9f' False\n",
      "160 '\\xa0' False\n",
      "161 '¡' True\n",
      "162 '¢' True\n",
      "163 '£' True\n",
      "164 '¤' True\n",
      "165 '¥' True\n",
      "166 '¦' True\n",
      "167 '§' True\n",
      "168 '¨' True\n",
      "169 '©' True\n",
      "170 'ª' True\n",
      "171 '«' True\n",
      "172 '¬' True\n",
      "173 '\\xad' False\n",
      "174 '®' True\n",
      "175 '¯' True\n",
      "176 '°' True\n",
      "177 '±' True\n",
      "178 '²' True\n",
      "179 '³' True\n",
      "180 '´' True\n",
      "181 'µ' True\n",
      "182 '¶' True\n",
      "183 '·' True\n",
      "184 '¸' True\n",
      "185 '¹' True\n",
      "186 'º' True\n",
      "187 '»' True\n",
      "188 '¼' True\n",
      "189 '½' True\n",
      "190 '¾' True\n",
      "191 '¿' True\n",
      "192 'À' True\n",
      "193 'Á' True\n",
      "194 'Â' True\n",
      "195 'Ã' True\n",
      "196 'Ä' True\n",
      "197 'Å' True\n",
      "198 'Æ' True\n",
      "199 'Ç' True\n",
      "200 'È' True\n",
      "201 'É' True\n",
      "202 'Ê' True\n",
      "203 'Ë' True\n",
      "204 'Ì' True\n",
      "205 'Í' True\n",
      "206 'Î' True\n",
      "207 'Ï' True\n",
      "208 'Ð' True\n",
      "209 'Ñ' True\n",
      "210 'Ò' True\n",
      "211 'Ó' True\n",
      "212 'Ô' True\n",
      "213 'Õ' True\n",
      "214 'Ö' True\n",
      "215 '×' True\n",
      "216 'Ø' True\n",
      "217 'Ù' True\n",
      "218 'Ú' True\n",
      "219 'Û' True\n",
      "220 'Ü' True\n",
      "221 'Ý' True\n",
      "222 'Þ' True\n",
      "223 'ß' True\n",
      "224 'à' True\n",
      "225 'á' True\n",
      "226 'â' True\n",
      "227 'ã' True\n",
      "228 'ä' True\n",
      "229 'å' True\n",
      "230 'æ' True\n",
      "231 'ç' True\n",
      "232 'è' True\n",
      "233 'é' True\n",
      "234 'ê' True\n",
      "235 'ë' True\n",
      "236 'ì' True\n",
      "237 'í' True\n",
      "238 'î' True\n",
      "239 'ï' True\n",
      "240 'ð' True\n",
      "241 'ñ' True\n",
      "242 'ò' True\n",
      "243 'ó' True\n",
      "244 'ô' True\n",
      "245 'õ' True\n",
      "246 'ö' True\n",
      "247 '÷' True\n",
      "248 'ø' True\n",
      "249 'ù' True\n",
      "250 'ú' True\n",
      "251 'û' True\n",
      "252 'ü' True\n",
      "253 'ý' True\n",
      "254 'þ' True\n",
      "255 'ÿ' True\n"
     ]
    }
   ],
   "source": [
    "# str.isprintable() for many characters above ASCII.\n",
    "for i in range(2 * N_ASCII_CHARACTERS):\n",
    "    c = chr(i)\n",
    "    print(i, repr(c), c.isprintable())"
   ]
  },
  {
   "cell_type": "code",
   "execution_count": 42,
   "metadata": {
    "collapsed": false
   },
   "outputs": [
    {
     "data": {
      "text/plain": [
       "'0123456789'"
      ]
     },
     "execution_count": 42,
     "metadata": {},
     "output_type": "execute_result"
    }
   ],
   "source": [
    "string.digits"
   ]
  },
  {
   "cell_type": "code",
   "execution_count": 43,
   "metadata": {
    "collapsed": false
   },
   "outputs": [
    {
     "data": {
      "text/plain": [
       "'abcdefghijklmnopqrstuvwxyzABCDEFGHIJKLMNOPQRSTUVWXYZ'"
      ]
     },
     "execution_count": 43,
     "metadata": {},
     "output_type": "execute_result"
    }
   ],
   "source": [
    "string.ascii_letters"
   ]
  },
  {
   "cell_type": "code",
   "execution_count": 44,
   "metadata": {
    "collapsed": false
   },
   "outputs": [
    {
     "data": {
      "text/plain": [
       "'!\"#$%&\\'()*+,-./:;<=>?@[\\\\]^_`{|}~'"
      ]
     },
     "execution_count": 44,
     "metadata": {},
     "output_type": "execute_result"
    }
   ],
   "source": [
    "string.punctuation"
   ]
  },
  {
   "cell_type": "code",
   "execution_count": 45,
   "metadata": {
    "collapsed": false
   },
   "outputs": [
    {
     "data": {
      "text/plain": [
       "96"
      ]
     },
     "execution_count": 45,
     "metadata": {},
     "output_type": "execute_result"
    }
   ],
   "source": [
    "s = set('\\t' + ' ' + string.digits + string.ascii_letters + string.punctuation)\n",
    "len(s)"
   ]
  }
 ],
 "metadata": {
  "kernelspec": {
   "display_name": "Python 3",
   "language": "python",
   "name": "python3"
  },
  "language_info": {
   "codemirror_mode": {
    "name": "ipython",
    "version": 3
   },
   "file_extension": ".py",
   "mimetype": "text/x-python",
   "name": "python",
   "nbconvert_exporter": "python",
   "pygments_lexer": "ipython3",
   "version": "3.4.3"
  }
 },
 "nbformat": 4,
 "nbformat_minor": 0
}
