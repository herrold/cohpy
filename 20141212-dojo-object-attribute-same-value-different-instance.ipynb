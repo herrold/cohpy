{
 "cells": [
  {
   "cell_type": "code",
   "execution_count": 1,
   "metadata": {
    "collapsed": false
   },
   "outputs": [],
   "source": [
    "class FordFiesta():\n",
    "    pass\n",
    "\n",
    "    def __init__(self, color='black'):\n",
    "        self.color = color"
   ]
  },
  {
   "cell_type": "code",
   "execution_count": 2,
   "metadata": {
    "collapsed": false
   },
   "outputs": [
    {
     "data": {
      "text/plain": [
       "(<__main__.FordFiesta instance at 0xb4cd9bac>, 'black')"
      ]
     },
     "execution_count": 2,
     "metadata": {},
     "output_type": "execute_result"
    }
   ],
   "source": [
    "my_car = FordFiesta()\n",
    "my_car, my_car.color"
   ]
  },
  {
   "cell_type": "code",
   "execution_count": 3,
   "metadata": {
    "collapsed": false
   },
   "outputs": [
    {
     "data": {
      "text/plain": [
       "(<__main__.FordFiesta instance at 0xb4cd9e8c>, 'black')"
      ]
     },
     "execution_count": 3,
     "metadata": {},
     "output_type": "execute_result"
    }
   ],
   "source": [
    "your_car = FordFiesta()\n",
    "your_car, your_car.color"
   ]
  },
  {
   "cell_type": "code",
   "execution_count": 4,
   "metadata": {
    "collapsed": false
   },
   "outputs": [
    {
     "data": {
      "text/plain": [
       "False"
      ]
     },
     "execution_count": 4,
     "metadata": {},
     "output_type": "execute_result"
    }
   ],
   "source": [
    "my_car is your_car"
   ]
  },
  {
   "cell_type": "code",
   "execution_count": 5,
   "metadata": {
    "collapsed": false
   },
   "outputs": [
    {
     "data": {
      "text/plain": [
       "True"
      ]
     },
     "execution_count": 5,
     "metadata": {},
     "output_type": "execute_result"
    }
   ],
   "source": [
    "my_car.color is your_car.color"
   ]
  },
  {
   "cell_type": "code",
   "execution_count": 6,
   "metadata": {
    "collapsed": false
   },
   "outputs": [
    {
     "data": {
      "text/plain": [
       "(<__main__.FordFiesta instance at 0xb4cc960c>, 'black')"
      ]
     },
     "execution_count": 6,
     "metadata": {},
     "output_type": "execute_result"
    }
   ],
   "source": [
    "another_car = FordFiesta('black')\n",
    "another_car, another_car.color"
   ]
  },
  {
   "cell_type": "code",
   "execution_count": 7,
   "metadata": {
    "collapsed": false
   },
   "outputs": [
    {
     "data": {
      "text/plain": [
       "True"
      ]
     },
     "execution_count": 7,
     "metadata": {},
     "output_type": "execute_result"
    }
   ],
   "source": [
    "my_car.color is another_car.color"
   ]
  },
  {
   "cell_type": "code",
   "execution_count": 8,
   "metadata": {
    "collapsed": false
   },
   "outputs": [],
   "source": [
    "s = '''\n",
    ";lksa;lkjarpoeit;lkfdn;sh wv;omriwjglirns;dfkjewwww;slkmjes;rjtr.lksd;ls\n",
    ";lsakjda ;rlkjwre;gijwpojls hwnsdfkjdf vkihgkesaf sfdknkjfiugrlkjfdlkjh \n",
    "dlkdslklkdsldspoirew98u5c3498mu98mu4y6vphegwijgew oijgtwijgtrpoijwnfds\n",
    "mpu wgec3pe3pitcwgpi,iiiiiy5epoijgtroijreoijrewpoijtrpojtrtrpojjpjotrpo\n",
    " wwj gjgtrcjtcppjgtcpojiiire;oijse;roij;oreijger;oijer;glkjrgf;lkjdg;sd\n",
    " pwqeiupqoewiuwpetiuwepoiuwerpoupwiurwpeoriuewporiuewrpoiuewrpowutpweiu\n",
    " p98u34p08u409324u70439840987324029387520394872043987324098237409238745\n",
    " '''"
   ]
  },
  {
   "cell_type": "code",
   "execution_count": 9,
   "metadata": {
    "collapsed": false
   },
   "outputs": [
    {
     "data": {
      "text/plain": [
       "'\\n;lksa;lkjarpoeit;lkfdn;sh wv;omriwjglirns;dfkjewwww;slkmjes;rjtr.lksd;ls\\n;lsakjda ;rlkjwre;gijwpojls hwnsdfkjdf vkihgkesaf sfdknkjfiugrlkjfdlkjh \\ndlkdslklkdsldspoirew98u5c3498mu98mu4y6vphegwijgew oijgtwijgtrpoijwnfds\\nmpu wgec3pe3pitcwgpi,iiiiiy5epoijgtroijreoijrewpoijtrpojtrtrpojjpjotrpo\\n wwj gjgtrcjtcppjgtcpojiiire;oijse;roij;oreijger;oijer;glkjrgf;lkjdg;sd\\n pwqeiupqoewiuwpetiuwepoiuwerpoupwiurwpeoriuewporiuewrpoiuewrpowutpweiu\\n p98u34p08u409324u70439840987324029387520394872043987324098237409238745\\n '"
      ]
     },
     "execution_count": 9,
     "metadata": {},
     "output_type": "execute_result"
    }
   ],
   "source": [
    "s[:]"
   ]
  },
  {
   "cell_type": "code",
   "execution_count": 10,
   "metadata": {
    "collapsed": false,
    "scrolled": true
   },
   "outputs": [
    {
     "data": {
      "text/plain": [
       "(<__main__.FordFiesta instance at 0xb4cc9b6c>,\n",
       " '\\n;lksa;lkjarpoeit;lkfdn;sh wv;omriwjglirns;dfkjewwww;slkmjes;rjtr.lksd;ls\\n;lsakjda ;rlkjwre;gijwpojls hwnsdfkjdf vkihgkesaf sfdknkjfiugrlkjfdlkjh \\ndlkdslklkdsldspoirew98u5c3498mu98mu4y6vphegwijgew oijgtwijgtrpoijwnfds\\nmpu wgec3pe3pitcwgpi,iiiiiy5epoijgtroijreoijrewpoijtrpojtrtrpojjpjotrpo\\n wwj gjgtrcjtcppjgtcpojiiire;oijse;roij;oreijger;oijer;glkjrgf;lkjdg;sd\\n pwqeiupqoewiuwpetiuwepoiuwerpoupwiurwpeoriuewporiuewrpoiuewrpowutpweiu\\n p98u34p08u409324u70439840987324029387520394872043987324098237409238745\\n ')"
      ]
     },
     "execution_count": 10,
     "metadata": {},
     "output_type": "execute_result"
    }
   ],
   "source": [
    "my_car = FordFiesta(s[:])\n",
    "my_car, my_car.color"
   ]
  },
  {
   "cell_type": "code",
   "execution_count": 11,
   "metadata": {
    "collapsed": false
   },
   "outputs": [
    {
     "data": {
      "text/plain": [
       "(<__main__.FordFiesta instance at 0xb4cd6eec>,\n",
       " '\\n;lksa;lkjarpoeit;lkfdn;sh wv;omriwjglirns;dfkjewwww;slkmjes;rjtr.lksd;ls\\n;lsakjda ;rlkjwre;gijwpojls hwnsdfkjdf vkihgkesaf sfdknkjfiugrlkjfdlkjh \\ndlkdslklkdsldspoirew98u5c3498mu98mu4y6vphegwijgew oijgtwijgtrpoijwnfds\\nmpu wgec3pe3pitcwgpi,iiiiiy5epoijgtroijreoijrewpoijtrpojtrtrpojjpjotrpo\\n wwj gjgtrcjtcppjgtcpojiiire;oijse;roij;oreijger;oijer;glkjrgf;lkjdg;sd\\n pwqeiupqoewiuwpetiuwepoiuwerpoupwiurwpeoriuewporiuewrpoiuewrpowutpweiu\\n p98u34p08u409324u70439840987324029387520394872043987324098237409238745\\n ')"
      ]
     },
     "execution_count": 11,
     "metadata": {},
     "output_type": "execute_result"
    }
   ],
   "source": [
    "your_car = FordFiesta(s[:])\n",
    "your_car, your_car.color"
   ]
  },
  {
   "cell_type": "code",
   "execution_count": 12,
   "metadata": {
    "collapsed": false
   },
   "outputs": [
    {
     "data": {
      "text/plain": [
       "False"
      ]
     },
     "execution_count": 12,
     "metadata": {},
     "output_type": "execute_result"
    }
   ],
   "source": [
    "my_car is your_car"
   ]
  },
  {
   "cell_type": "code",
   "execution_count": 13,
   "metadata": {
    "collapsed": false
   },
   "outputs": [
    {
     "data": {
      "text/plain": [
       "True"
      ]
     },
     "execution_count": 13,
     "metadata": {},
     "output_type": "execute_result"
    }
   ],
   "source": [
    "my_car.color is your_car.color"
   ]
  },
  {
   "cell_type": "code",
   "execution_count": 14,
   "metadata": {
    "collapsed": false,
    "scrolled": true
   },
   "outputs": [
    {
     "data": {
      "text/plain": [
       "(<__main__.FordFiesta instance at 0xb4cd6dcc>,\n",
       " '\\n;lksa;lkjarpoeit;lkfdn;sh wv;omriwjglirns;dfkjewwww;slkmjes;rjtr.lksd;ls\\n;lsakjda ;rlkjwre;gijwpojls hwnsdfkjdf vkihgkesaf sfdknkjfiugrlkjfdlkjh \\ndlkdslklkdsldspoirew98u5c3498mu98mu4y6vphegwijgew oijgtwijgtrpoijwnfds\\nmpu wgec3pe3pitcwgpi,iiiiiy5epoijgtroijreoijrewpoijtrpojtrtrpojjpjotrpo\\n wwj gjgtrcjtcppjgtcpojiiire;oijse;roij;oreijger;oijer;glkjrgf;lkjdg;sd\\n pwqeiupqoewiuwpetiuwepoiuwerpoupwiurwpeoriuewporiuewrpoiuewrpowutpweiu\\n p98u34p08u409324u70439840987324029387520394872043987324098237409238745\\n just one bite more')"
      ]
     },
     "execution_count": 14,
     "metadata": {},
     "output_type": "execute_result"
    }
   ],
   "source": [
    "my_car = FordFiesta(s[:] + 'just one bite more')\n",
    "my_car, my_car.color"
   ]
  },
  {
   "cell_type": "code",
   "execution_count": 15,
   "metadata": {
    "collapsed": false
   },
   "outputs": [
    {
     "data": {
      "text/plain": [
       "(<__main__.FordFiesta instance at 0xb4cd632c>,\n",
       " '\\n;lksa;lkjarpoeit;lkfdn;sh wv;omriwjglirns;dfkjewwww;slkmjes;rjtr.lksd;ls\\n;lsakjda ;rlkjwre;gijwpojls hwnsdfkjdf vkihgkesaf sfdknkjfiugrlkjfdlkjh \\ndlkdslklkdsldspoirew98u5c3498mu98mu4y6vphegwijgew oijgtwijgtrpoijwnfds\\nmpu wgec3pe3pitcwgpi,iiiiiy5epoijgtroijreoijrewpoijtrpojtrtrpojjpjotrpo\\n wwj gjgtrcjtcppjgtcpojiiire;oijse;roij;oreijger;oijer;glkjrgf;lkjdg;sd\\n pwqeiupqoewiuwpetiuwepoiuwerpoupwiurwpeoriuewporiuewrpoiuewrpowutpweiu\\n p98u34p08u409324u70439840987324029387520394872043987324098237409238745\\n just one bite more')"
      ]
     },
     "execution_count": 15,
     "metadata": {},
     "output_type": "execute_result"
    }
   ],
   "source": [
    "your_car = FordFiesta(s[:] + 'just one bite more')\n",
    "your_car, your_car.color"
   ]
  },
  {
   "cell_type": "code",
   "execution_count": 16,
   "metadata": {
    "collapsed": false
   },
   "outputs": [
    {
     "data": {
      "text/plain": [
       "False"
      ]
     },
     "execution_count": 16,
     "metadata": {},
     "output_type": "execute_result"
    }
   ],
   "source": [
    "my_car is your_car"
   ]
  },
  {
   "cell_type": "code",
   "execution_count": 17,
   "metadata": {
    "collapsed": false
   },
   "outputs": [
    {
     "data": {
      "text/plain": [
       "True"
      ]
     },
     "execution_count": 17,
     "metadata": {},
     "output_type": "execute_result"
    }
   ],
   "source": [
    "my_car.color == your_car.color"
   ]
  },
  {
   "cell_type": "code",
   "execution_count": 18,
   "metadata": {
    "collapsed": false
   },
   "outputs": [
    {
     "data": {
      "text/plain": [
       "False"
      ]
     },
     "execution_count": 18,
     "metadata": {},
     "output_type": "execute_result"
    }
   ],
   "source": [
    "my_car.color is your_car.color"
   ]
  },
  {
   "cell_type": "code",
   "execution_count": 19,
   "metadata": {
    "collapsed": false
   },
   "outputs": [
    {
     "data": {
      "text/plain": [
       "(172695232, 172603200)"
      ]
     },
     "execution_count": 19,
     "metadata": {},
     "output_type": "execute_result"
    }
   ],
   "source": [
    "id(my_car.color), id(your_car.color)"
   ]
  },
  {
   "cell_type": "markdown",
   "metadata": {},
   "source": [
    "When is a string the same object? When is it not?"
   ]
  }
 ],
 "metadata": {
  "kernelspec": {
   "display_name": "Python 3",
   "language": "python",
   "name": "python3"
  },
  "language_info": {
   "codemirror_mode": {
    "name": "ipython",
    "version": 3
   },
   "file_extension": ".py",
   "mimetype": "text/x-python",
   "name": "python",
   "nbconvert_exporter": "python",
   "pygments_lexer": "ipython3",
   "version": "3.4.3"
  }
 },
 "nbformat": 4,
 "nbformat_minor": 0
}
