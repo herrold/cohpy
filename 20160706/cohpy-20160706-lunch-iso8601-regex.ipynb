{
 "cells": [
  {
   "cell_type": "code",
   "execution_count": 1,
   "metadata": {
    "collapsed": true
   },
   "outputs": [],
   "source": [
    "import re"
   ]
  },
  {
   "cell_type": "code",
   "execution_count": 2,
   "metadata": {
    "collapsed": false
   },
   "outputs": [],
   "source": [
    "pattern = re.compile(r'''\n",
    "    ^\n",
    "    (?P<year>\\d{4})\n",
    "    (?P<delimiter>[- /])\n",
    "    (?P<month>\\d{2})\n",
    "    (?P=delimiter)  # must match earlier delimiter\n",
    "    (?P<day>\\d{2})\n",
    "    $\n",
    "''', re.VERBOSE)"
   ]
  },
  {
   "cell_type": "code",
   "execution_count": 3,
   "metadata": {
    "collapsed": true
   },
   "outputs": [],
   "source": [
    "foo = [\n",
    "    '2016-07-06',\n",
    "    '2016 07-06',\n",
    "    '2016 07 06',\n",
    "    '2016/07 06',\n",
    "    '2016/07/06',\n",
    "    '2016-07/06',\n",
    "]"
   ]
  },
  {
   "cell_type": "code",
   "execution_count": 4,
   "metadata": {
    "collapsed": false
   },
   "outputs": [
    {
     "name": "stdout",
     "output_type": "stream",
     "text": [
      "'2016-07-06' year=2016, month=07, day=06 delimiter='-'\n",
      "'2016 07-06' no match\n",
      "'2016 07 06' year=2016, month=07, day=06 delimiter=' '\n",
      "'2016/07 06' no match\n",
      "'2016/07/06' year=2016, month=07, day=06 delimiter='/'\n",
      "'2016-07/06' no match\n"
     ]
    }
   ],
   "source": [
    "for s in foo:\n",
    "    print('%r ' % s, end='')\n",
    "    m = re.match(pattern, s)\n",
    "    if not m:\n",
    "        print('no match')\n",
    "        continue\n",
    "    print(\n",
    "        'year=%s, month=%s, day=%s delimiter=%r' % (\n",
    "        m.group('year'),\n",
    "        m.group('month'),\n",
    "        m.group('day'),\n",
    "        m.group('delimiter'),\n",
    "    ))"
   ]
  }
 ],
 "metadata": {
  "kernelspec": {
   "display_name": "Python 3",
   "language": "python",
   "name": "python3"
  },
  "language_info": {
   "codemirror_mode": {
    "name": "ipython",
    "version": 3
   },
   "file_extension": ".py",
   "mimetype": "text/x-python",
   "name": "python",
   "nbconvert_exporter": "python",
   "pygments_lexer": "ipython3",
   "version": "3.4.3"
  }
 },
 "nbformat": 4,
 "nbformat_minor": 0
}
