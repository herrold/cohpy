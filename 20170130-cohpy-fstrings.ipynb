{
 "cells": [
  {
   "cell_type": "markdown",
   "metadata": {},
   "source": [
    "Andrew *loves*\n",
    "[fstrings](https://www.python.org/dev/peps/pep-0498/),\n",
    "which are new in Python 3.6.\n",
    "\n",
    "fstrings look like an ordinary string with an f in front.\n",
    "The look like a static string that does not change,\n",
    "but they are not static strings.\n",
    "\n",
    "#    **They are expressions!!!**\n",
    "\n",
    "One can put arbitrary expressions within curly braces in the fstring,\n",
    "and the arbitrary expressions will be evaluated each time,\n",
    "and then converted to a string.\n",
    "\n",
    "It is a more DRY way of doing formatting than str.format."
   ]
  },
  {
   "cell_type": "code",
   "execution_count": 1,
   "metadata": {
    "collapsed": false
   },
   "outputs": [
    {
     "data": {
      "text/plain": [
       "'hello 6.28 world'"
      ]
     },
     "execution_count": 1,
     "metadata": {},
     "output_type": "execute_result"
    }
   ],
   "source": [
    "# new in Python 3.6\n",
    "foo = 3.14\n",
    "g = f'hello {foo*2} world'\n",
    "g"
   ]
  },
  {
   "cell_type": "code",
   "execution_count": 2,
   "metadata": {
    "collapsed": false
   },
   "outputs": [
    {
     "name": "stdout",
     "output_type": "stream",
     "text": [
      "hello 0.0 world\n",
      "hello 3.14 world\n",
      "hello 6.28 world\n"
     ]
    }
   ],
   "source": [
    "# new in Python 3.6\n",
    "foo = 3.14\n",
    "for i in range(3):\n",
    "    print(f'hello {foo*i} world')\n"
   ]
  },
  {
   "cell_type": "markdown",
   "metadata": {},
   "source": [
    "Then some other guy showed a crazy whacko lambda with no arguments\n",
    "that had an fstring for the body.\n",
    "\n",
    "This makes my head wobble.\n",
    "I am wondering what good uses (if any) there are for this."
   ]
  },
  {
   "cell_type": "code",
   "execution_count": 3,
   "metadata": {
    "collapsed": false
   },
   "outputs": [
    {
     "data": {
      "text/plain": [
       "<function __main__.<lambda>>"
      ]
     },
     "execution_count": 3,
     "metadata": {},
     "output_type": "execute_result"
    }
   ],
   "source": [
    "template = lambda: f'tes{k}'\n",
    "template"
   ]
  },
  {
   "cell_type": "code",
   "execution_count": 4,
   "metadata": {
    "collapsed": false
   },
   "outputs": [
    {
     "data": {
      "text/plain": [
       "'tes9'"
      ]
     },
     "execution_count": 4,
     "metadata": {},
     "output_type": "execute_result"
    }
   ],
   "source": [
    "k = 9\n",
    "template()"
   ]
  },
  {
   "cell_type": "code",
   "execution_count": 5,
   "metadata": {
    "collapsed": false
   },
   "outputs": [
    {
     "data": {
      "text/plain": [
       "'tes8'"
      ]
     },
     "execution_count": 5,
     "metadata": {},
     "output_type": "execute_result"
    }
   ],
   "source": [
    "k = 8\n",
    "template()"
   ]
  }
 ],
 "metadata": {
  "kernelspec": {
   "display_name": "Python 3",
   "language": "python",
   "name": "python3"
  },
  "language_info": {
   "codemirror_mode": {
    "name": "ipython",
    "version": 3
   },
   "file_extension": ".py",
   "mimetype": "text/x-python",
   "name": "python",
   "nbconvert_exporter": "python",
   "pygments_lexer": "ipython3",
   "version": "3.5.2"
  }
 },
 "nbformat": 4,
 "nbformat_minor": 0
}
