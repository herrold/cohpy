{
 "cells": [
  {
   "cell_type": "code",
   "execution_count": 1,
   "metadata": {
    "collapsed": true
   },
   "outputs": [],
   "source": [
    "from __future__ import print_function"
   ]
  },
  {
   "cell_type": "code",
   "execution_count": 2,
   "metadata": {
    "collapsed": false
   },
   "outputs": [],
   "source": [
    "def show_names(first_name, last_name):\n",
    "    print(\n",
    "        'Your first name is %r. Your last name is %r.' %\n",
    "        (first_name, last_name))"
   ]
  },
  {
   "cell_type": "code",
   "execution_count": 3,
   "metadata": {
    "collapsed": false
   },
   "outputs": [
    {
     "name": "stdout",
     "output_type": "stream",
     "text": [
      "Your first name is 'Even'. Your last name is 'Wager'.\n",
      "Your first name is 1234. Your last name is 'wager'.\n"
     ]
    },
    {
     "ename": "NameError",
     "evalue": "name 'wager' is not defined",
     "output_type": "error",
     "traceback": [
      "\u001b[1;31m---------------------------------------------------------------------------\u001b[0m",
      "\u001b[1;31mNameError\u001b[0m                                 Traceback (most recent call last)",
      "\u001b[1;32m<ipython-input-3-9dfc251c056c>\u001b[0m in \u001b[0;36m<module>\u001b[1;34m()\u001b[0m\n\u001b[0;32m      4\u001b[0m \u001b[1;33m\u001b[0m\u001b[0m\n\u001b[0;32m      5\u001b[0m \u001b[1;31m# wager = 3.1415926\u001b[0m\u001b[1;33m\u001b[0m\u001b[1;33m\u001b[0m\u001b[0m\n\u001b[1;32m----> 6\u001b[1;33m \u001b[0mshow_names\u001b[0m\u001b[1;33m(\u001b[0m\u001b[1;36m1234\u001b[0m\u001b[1;33m,\u001b[0m \u001b[0mwager\u001b[0m\u001b[1;33m)\u001b[0m\u001b[1;33m\u001b[0m\u001b[0m\n\u001b[0m",
      "\u001b[1;31mNameError\u001b[0m: name 'wager' is not defined"
     ]
    }
   ],
   "source": [
    "show_names('Even', 'Wager')\n",
    "\n",
    "show_names(1234, 'wager')\n",
    "\n",
    "# wager = 3.1415926\n",
    "show_names(1234, wager)"
   ]
  },
  {
   "cell_type": "code",
   "execution_count": 4,
   "metadata": {
    "collapsed": false
   },
   "outputs": [],
   "source": [
    "def goo(blah):\n",
    "    print('do this')\n",
    "    print('do that')"
   ]
  },
  {
   "cell_type": "code",
   "execution_count": 5,
   "metadata": {
    "collapsed": false
   },
   "outputs": [
    {
     "name": "stdout",
     "output_type": "stream",
     "text": [
      "do this\n",
      "do that\n"
     ]
    }
   ],
   "source": [
    "goo('lasdjkf')"
   ]
  },
  {
   "cell_type": "code",
   "execution_count": 6,
   "metadata": {
    "collapsed": false
   },
   "outputs": [
    {
     "ename": "TypeError",
     "evalue": "goo() takes exactly 1 argument (0 given)",
     "output_type": "error",
     "traceback": [
      "\u001b[1;31m---------------------------------------------------------------------------\u001b[0m",
      "\u001b[1;31mTypeError\u001b[0m                                 Traceback (most recent call last)",
      "\u001b[1;32m<ipython-input-6-085141544639>\u001b[0m in \u001b[0;36m<module>\u001b[1;34m()\u001b[0m\n\u001b[1;32m----> 1\u001b[1;33m \u001b[0mgoo\u001b[0m\u001b[1;33m(\u001b[0m\u001b[1;33m)\u001b[0m\u001b[1;33m\u001b[0m\u001b[0m\n\u001b[0m",
      "\u001b[1;31mTypeError\u001b[0m: goo() takes exactly 1 argument (0 given)"
     ]
    }
   ],
   "source": [
    "goo()"
   ]
  },
  {
   "cell_type": "code",
   "execution_count": 7,
   "metadata": {
    "collapsed": false
   },
   "outputs": [
    {
     "ename": "TypeError",
     "evalue": "goo() takes exactly 1 argument (2 given)",
     "output_type": "error",
     "traceback": [
      "\u001b[1;31m---------------------------------------------------------------------------\u001b[0m",
      "\u001b[1;31mTypeError\u001b[0m                                 Traceback (most recent call last)",
      "\u001b[1;32m<ipython-input-7-e8036428124b>\u001b[0m in \u001b[0;36m<module>\u001b[1;34m()\u001b[0m\n\u001b[1;32m----> 1\u001b[1;33m \u001b[0mgoo\u001b[0m\u001b[1;33m(\u001b[0m\u001b[1;36m1\u001b[0m\u001b[1;33m,\u001b[0m \u001b[1;36m2\u001b[0m\u001b[1;33m)\u001b[0m\u001b[1;33m\u001b[0m\u001b[0m\n\u001b[0m",
      "\u001b[1;31mTypeError\u001b[0m: goo() takes exactly 1 argument (2 given)"
     ]
    }
   ],
   "source": [
    "goo(1, 2)"
   ]
  },
  {
   "cell_type": "code",
   "execution_count": 8,
   "metadata": {
    "collapsed": false
   },
   "outputs": [],
   "source": [
    "def print_two(*args):\n",
    "    # This is a terrible terrible example of *args. \n",
    "    print(type(args), repr(args))\n",
    "    arg1, arg2 = args\n",
    "    print(\"arg1: %r, arg2: %r\" % (arg1, arg2))"
   ]
  },
  {
   "cell_type": "code",
   "execution_count": 9,
   "metadata": {
    "collapsed": false
   },
   "outputs": [
    {
     "name": "stdout",
     "output_type": "stream",
     "text": [
      "<type 'tuple'> (1234, 'ehllo')\n",
      "arg1: 1234, arg2: 'ehllo'\n"
     ]
    }
   ],
   "source": [
    "print_two(1234, 'ehllo')"
   ]
  },
  {
   "cell_type": "code",
   "execution_count": 10,
   "metadata": {
    "collapsed": false
   },
   "outputs": [
    {
     "data": {
      "text/plain": [
       "list"
      ]
     },
     "execution_count": 10,
     "metadata": {},
     "output_type": "execute_result"
    }
   ],
   "source": [
    "type([])"
   ]
  },
  {
   "cell_type": "code",
   "execution_count": 11,
   "metadata": {
    "collapsed": false
   },
   "outputs": [
    {
     "data": {
      "text/plain": [
       "tuple"
      ]
     },
     "execution_count": 11,
     "metadata": {},
     "output_type": "execute_result"
    }
   ],
   "source": [
    "type(())"
   ]
  },
  {
   "cell_type": "code",
   "execution_count": 12,
   "metadata": {
    "collapsed": false
   },
   "outputs": [],
   "source": [
    "def foo(*args):\n",
    "    print(type(args), args)"
   ]
  },
  {
   "cell_type": "code",
   "execution_count": 13,
   "metadata": {
    "collapsed": false
   },
   "outputs": [
    {
     "name": "stdout",
     "output_type": "stream",
     "text": [
      "<type 'tuple'> (True, 'hello', 'world', 1234, 3.1415926, [0, 1, 2])\n"
     ]
    }
   ],
   "source": [
    "foo(True, 'hello', 'world', 1234, 3.1415926, range(3))"
   ]
  },
  {
   "cell_type": "code",
   "execution_count": 14,
   "metadata": {
    "collapsed": false
   },
   "outputs": [
    {
     "name": "stdout",
     "output_type": "stream",
     "text": [
      "hello\n",
      "0\n",
      "0\n",
      "0\n",
      "\n",
      "hello\n",
      "5\n",
      "25\n",
      "125\n",
      "\n",
      "hello\n",
      "9\n",
      "81\n",
      "729\n",
      "\n"
     ]
    }
   ],
   "source": [
    "for i in [0, 5, 9]:\n",
    "    print('hello')\n",
    "    print(i)\n",
    "    print(i*i)\n",
    "    print(i*i*i)\n",
    "    print()"
   ]
  },
  {
   "cell_type": "code",
   "execution_count": 15,
   "metadata": {
    "collapsed": false
   },
   "outputs": [],
   "source": [
    "def foo(*args):\n",
    "    print(type(args), args)\n",
    "    for arg in args:\n",
    "        print('an argument is', arg)"
   ]
  },
  {
   "cell_type": "code",
   "execution_count": 16,
   "metadata": {
    "collapsed": false
   },
   "outputs": [
    {
     "name": "stdout",
     "output_type": "stream",
     "text": [
      "<type 'tuple'> (True, 'hello', 'world', 1234, 3.1415926, [0, 1, 2])\n",
      "an argument is True\n",
      "an argument is hello\n",
      "an argument is world\n",
      "an argument is 1234\n",
      "an argument is 3.1415926\n",
      "an argument is [0, 1, 2]\n"
     ]
    }
   ],
   "source": [
    "foo(True, 'hello', 'world', 1234, 3.1415926, range(3))"
   ]
  },
  {
   "cell_type": "code",
   "execution_count": 17,
   "metadata": {
    "collapsed": false
   },
   "outputs": [],
   "source": [
    "def foo(*args):\n",
    "    print(type(args), args)\n",
    "    for i, arg in enumerate(args):\n",
    "        print('Argument #', i, 'is', arg)"
   ]
  },
  {
   "cell_type": "code",
   "execution_count": 18,
   "metadata": {
    "collapsed": false,
    "scrolled": true
   },
   "outputs": [
    {
     "name": "stdout",
     "output_type": "stream",
     "text": [
      "<type 'tuple'> (True, 'hello', 'world', 1234, 3.1415926, [0, 1, 2])\n",
      "Argument # 0 is True\n",
      "Argument # 1 is hello\n",
      "Argument # 2 is world\n",
      "Argument # 3 is 1234\n",
      "Argument # 4 is 3.1415926\n",
      "Argument # 5 is [0, 1, 2]\n"
     ]
    }
   ],
   "source": [
    "foo(True, 'hello', 'world', 1234, 3.1415926, range(3))"
   ]
  },
  {
   "cell_type": "code",
   "execution_count": 19,
   "metadata": {
    "collapsed": false
   },
   "outputs": [],
   "source": [
    "def foo(*args):\n",
    "    print(type(args), args)\n",
    "    for i, arg in enumerate(args):\n",
    "        print('Argument #%s is %r' % (i, arg))"
   ]
  },
  {
   "cell_type": "code",
   "execution_count": 20,
   "metadata": {
    "collapsed": false,
    "scrolled": true
   },
   "outputs": [
    {
     "name": "stdout",
     "output_type": "stream",
     "text": [
      "<type 'tuple'> (True, 'hello', 'world', 1234, 3.1415926, [0, 1, 2])\n",
      "Argument #0 is True\n",
      "Argument #1 is 'hello'\n",
      "Argument #2 is 'world'\n",
      "Argument #3 is 1234\n",
      "Argument #4 is 3.1415926\n",
      "Argument #5 is [0, 1, 2]\n"
     ]
    }
   ],
   "source": [
    "foo(True, 'hello', 'world', 1234, 3.1415926, range(3))"
   ]
  }
 ],
 "metadata": {
  "kernelspec": {
   "display_name": "Python 2",
   "language": "python",
   "name": "python2"
  },
  "language_info": {
   "codemirror_mode": {
    "name": "ipython",
    "version": 2
   },
   "file_extension": ".py",
   "mimetype": "text/x-python",
   "name": "python",
   "nbconvert_exporter": "python",
   "pygments_lexer": "ipython2",
   "version": "2.7.6"
  }
 },
 "nbformat": 4,
 "nbformat_minor": 0
}
