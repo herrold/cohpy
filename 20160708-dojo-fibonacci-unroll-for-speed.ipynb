{
 "cells": [
  {
   "cell_type": "markdown",
   "metadata": {},
   "source": [
    "This plays with optimizing a fibonacci generator function for speed.\n",
    "\n",
    "Study [loop unrolling](https://en.wikipedia.org/wiki/Loop_unrolling)."
   ]
  },
  {
   "cell_type": "code",
   "execution_count": 1,
   "metadata": {
    "collapsed": true
   },
   "outputs": [],
   "source": [
    "from itertools import islice"
   ]
  },
  {
   "cell_type": "markdown",
   "metadata": {},
   "source": [
    "First we start with straightforward fibonacci generator function."
   ]
  },
  {
   "cell_type": "code",
   "execution_count": 2,
   "metadata": {
    "collapsed": true
   },
   "outputs": [],
   "source": [
    "def fibonacci():\n",
    "    a, b = 0, 1\n",
    "    while True:\n",
    "        yield a\n",
    "        a, b = b, a + b"
   ]
  },
  {
   "cell_type": "code",
   "execution_count": 3,
   "metadata": {
    "collapsed": true
   },
   "outputs": [],
   "source": [
    "n = 45"
   ]
  },
  {
   "cell_type": "code",
   "execution_count": 4,
   "metadata": {
    "collapsed": false
   },
   "outputs": [],
   "source": [
    "known_good_output = tuple(islice(fibonacci(), n))\n",
    "# known_good_output"
   ]
  },
  {
   "cell_type": "code",
   "execution_count": 5,
   "metadata": {
    "collapsed": false
   },
   "outputs": [
    {
     "name": "stdout",
     "output_type": "stream",
     "text": [
      "100000 loops, best of 3: 7.78 µs per loop\n"
     ]
    }
   ],
   "source": [
    "%timeit sum(islice(fibonacci(), n))"
   ]
  },
  {
   "cell_type": "markdown",
   "metadata": {},
   "source": [
    "Next, we unroll the loop. Note that there are no assignments that just move things around. There is no wasted motion inside the loop.\n",
    "It reminds me of the\n",
    "[musical round](https://en.wikipedia.org/wiki/Round_(music)\n",
    "[Three Blind Mice](https://en.wikipedia.org/wiki/Three_Blind_Mice)."
   ]
  },
  {
   "cell_type": "code",
   "execution_count": 6,
   "metadata": {
    "collapsed": true
   },
   "outputs": [],
   "source": [
    "def fibonacci():\n",
    "    a, b = 0, 1\n",
    "    while True:\n",
    "        yield a\n",
    "        c = a + b\n",
    "        yield b\n",
    "        a = b + c\n",
    "        yield c\n",
    "        b = c + a\n",
    "\n",
    "assert(known_good_output == tuple(islice(fibonacci(), n)))"
   ]
  },
  {
   "cell_type": "code",
   "execution_count": 7,
   "metadata": {
    "collapsed": false
   },
   "outputs": [
    {
     "name": "stdout",
     "output_type": "stream",
     "text": [
      "100000 loops, best of 3: 7.38 µs per loop\n"
     ]
    }
   ],
   "source": [
    "%timeit sum(islice(fibonacci(), n))"
   ]
  },
  {
   "cell_type": "markdown",
   "metadata": {},
   "source": [
    "Next, we unroll the loop more and more to see if that makes the generator faster."
   ]
  },
  {
   "cell_type": "code",
   "execution_count": 8,
   "metadata": {
    "collapsed": true
   },
   "outputs": [],
   "source": [
    "def fibonacci():\n",
    "    a, b = 0, 1\n",
    "    while True:\n",
    "        yield a\n",
    "        c = a + b\n",
    "        yield b\n",
    "        a = b + c\n",
    "        yield c\n",
    "        b = c + a\n",
    "        yield a\n",
    "        c = a + b\n",
    "        yield b\n",
    "        a = b + c\n",
    "        yield c\n",
    "        b = c + a\n",
    "\n",
    "assert(known_good_output == tuple(islice(fibonacci(), n)))"
   ]
  },
  {
   "cell_type": "code",
   "execution_count": 9,
   "metadata": {
    "collapsed": false
   },
   "outputs": [
    {
     "name": "stdout",
     "output_type": "stream",
     "text": [
      "100000 loops, best of 3: 7.11 µs per loop\n"
     ]
    }
   ],
   "source": [
    "%timeit sum(islice(fibonacci(), n))"
   ]
  },
  {
   "cell_type": "code",
   "execution_count": 10,
   "metadata": {
    "collapsed": true
   },
   "outputs": [],
   "source": [
    "def fibonacci():\n",
    "    a, b = 0, 1\n",
    "    yield a\n",
    "    yield b\n",
    "    while True:\n",
    "        c = a + b\n",
    "        yield c\n",
    "        a = b + c\n",
    "        yield a\n",
    "        b = c + a\n",
    "        yield b\n",
    "\n",
    "assert(known_good_output == tuple(islice(fibonacci(), n)))"
   ]
  },
  {
   "cell_type": "code",
   "execution_count": 11,
   "metadata": {
    "collapsed": false
   },
   "outputs": [
    {
     "name": "stdout",
     "output_type": "stream",
     "text": [
      "100000 loops, best of 3: 7.26 µs per loop\n"
     ]
    }
   ],
   "source": [
    "%timeit sum(islice(fibonacci(), n))"
   ]
  },
  {
   "cell_type": "code",
   "execution_count": 12,
   "metadata": {
    "collapsed": true
   },
   "outputs": [],
   "source": [
    "def fibonacci():\n",
    "    a, b = 0, 1\n",
    "    yield a\n",
    "    yield b\n",
    "    while True:\n",
    "        c = a + b\n",
    "        yield c\n",
    "        a = b + c\n",
    "        yield a\n",
    "        b = c + a\n",
    "        yield b\n",
    "        c = a + b\n",
    "        yield c\n",
    "        a = b + c\n",
    "        yield a\n",
    "        b = c + a\n",
    "        yield b\n",
    "\n",
    "assert(known_good_output == tuple(islice(fibonacci(), n)))"
   ]
  },
  {
   "cell_type": "code",
   "execution_count": 13,
   "metadata": {
    "collapsed": false
   },
   "outputs": [
    {
     "name": "stdout",
     "output_type": "stream",
     "text": [
      "100000 loops, best of 3: 7.22 µs per loop\n"
     ]
    }
   ],
   "source": [
    "%timeit sum(islice(fibonacci(), n))"
   ]
  },
  {
   "cell_type": "code",
   "execution_count": 14,
   "metadata": {
    "collapsed": true
   },
   "outputs": [],
   "source": [
    "def fibonacci():\n",
    "    a, b = 0, 1\n",
    "    yield a\n",
    "    yield b\n",
    "    while True:\n",
    "        c = a + b\n",
    "        yield c\n",
    "        a = b + c\n",
    "        yield a\n",
    "        b = c + a\n",
    "        yield b\n",
    "        c = a + b\n",
    "        yield c\n",
    "        a = b + c\n",
    "        yield a\n",
    "        b = c + a\n",
    "        yield b\n",
    "        c = a + b\n",
    "        yield c\n",
    "        a = b + c\n",
    "        yield a\n",
    "        b = c + a\n",
    "        yield b\n",
    "\n",
    "assert(known_good_output == tuple(islice(fibonacci(), n)))"
   ]
  },
  {
   "cell_type": "code",
   "execution_count": 15,
   "metadata": {
    "collapsed": false
   },
   "outputs": [
    {
     "name": "stdout",
     "output_type": "stream",
     "text": [
      "100000 loops, best of 3: 6.99 µs per loop\n"
     ]
    }
   ],
   "source": [
    "%timeit sum(islice(fibonacci(), n))"
   ]
  },
  {
   "cell_type": "code",
   "execution_count": 16,
   "metadata": {
    "collapsed": true
   },
   "outputs": [],
   "source": [
    "def fibonacci():\n",
    "    a, b = 0, 1\n",
    "    yield a\n",
    "    yield b\n",
    "    while True:\n",
    "        c = a + b\n",
    "        yield c\n",
    "        a = b + c\n",
    "        yield a\n",
    "        b = c + a\n",
    "        yield b\n",
    "        c = a + b\n",
    "        yield c\n",
    "        a = b + c\n",
    "        yield a\n",
    "        b = c + a\n",
    "        yield b\n",
    "        c = a + b\n",
    "        yield c\n",
    "        a = b + c\n",
    "        yield a\n",
    "        b = c + a\n",
    "        yield b\n",
    "        c = a + b\n",
    "        yield c\n",
    "        a = b + c\n",
    "        yield a\n",
    "        b = c + a\n",
    "        yield b\n",
    "\n",
    "assert(known_good_output == tuple(islice(fibonacci(), n)))"
   ]
  },
  {
   "cell_type": "code",
   "execution_count": 17,
   "metadata": {
    "collapsed": false
   },
   "outputs": [
    {
     "name": "stdout",
     "output_type": "stream",
     "text": [
      "100000 loops, best of 3: 6.86 µs per loop\n"
     ]
    }
   ],
   "source": [
    "%timeit sum(islice(fibonacci(), n))"
   ]
  },
  {
   "cell_type": "markdown",
   "metadata": {},
   "source": [
    "I get significantly different results each time I run the cells in the notebook, so it is unclear how much loop unrolling is good."
   ]
  }
 ],
 "metadata": {
  "kernelspec": {
   "display_name": "Python 3",
   "language": "python",
   "name": "python3"
  },
  "language_info": {
   "codemirror_mode": {
    "name": "ipython",
    "version": 3
   },
   "file_extension": ".py",
   "mimetype": "text/x-python",
   "name": "python",
   "nbconvert_exporter": "python",
   "pygments_lexer": "ipython3",
   "version": "3.4.3"
  }
 },
 "nbformat": 4,
 "nbformat_minor": 0
}
