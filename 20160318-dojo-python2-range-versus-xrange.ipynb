{
 "cells": [
  {
   "cell_type": "markdown",
   "metadata": {},
   "source": [
    "In Python 2, range() returns a list and xrange() returns a generator.\n",
    "I expect generating and iterating through a list\n",
    "to be faster than iterating through a generator.\n",
    "It did not work out that way in the following exercises.\n",
    "xrange() was always faster."
   ]
  },
  {
   "cell_type": "code",
   "execution_count": 1,
   "metadata": {
    "collapsed": true
   },
   "outputs": [],
   "source": [
    "from __future__ import print_function"
   ]
  },
  {
   "cell_type": "code",
   "execution_count": 2,
   "metadata": {
    "collapsed": true
   },
   "outputs": [],
   "source": [
    "def get_known_good_output(n):\n",
    "    n -= 1\n",
    "    return n * (n+1) // 2"
   ]
  },
  {
   "cell_type": "code",
   "execution_count": 3,
   "metadata": {
    "collapsed": true
   },
   "outputs": [],
   "source": [
    "def foo(f, n):\n",
    "    return sum(f(n))"
   ]
  },
  {
   "cell_type": "code",
   "execution_count": 4,
   "metadata": {
    "collapsed": false
   },
   "outputs": [
    {
     "name": "stdout",
     "output_type": "stream",
     "text": [
      "The slowest run took 5.28 times longer than the fastest. This could mean that an intermediate result is being cached \n",
      "1000000 loops, best of 3: 723 ns per loop\n",
      "100000 loops, best of 3: 20.6 µs per loop\n",
      "1 loops, best of 3: 12.1 s per loop\n"
     ]
    }
   ],
   "source": [
    "for n in (10, 1000, 10**8):\n",
    "    f = range\n",
    "    assert foo(f, n) == get_known_good_output(n)\n",
    "    %timeit foo(f, n)"
   ]
  },
  {
   "cell_type": "code",
   "execution_count": 5,
   "metadata": {
    "collapsed": false
   },
   "outputs": [
    {
     "name": "stdout",
     "output_type": "stream",
     "text": [
      "The slowest run took 11.68 times longer than the fastest. This could mean that an intermediate result is being cached \n",
      "1000000 loops, best of 3: 592 ns per loop\n",
      "100000 loops, best of 3: 14.3 µs per loop\n",
      "1 loops, best of 3: 9.56 s per loop\n"
     ]
    }
   ],
   "source": [
    "for n in (10, 1000, 10**8):\n",
    "    f = xrange\n",
    "    assert foo(f, n) == get_known_good_output(n)\n",
    "    %timeit foo(f, n)"
   ]
  },
  {
   "cell_type": "markdown",
   "metadata": {},
   "source": [
    "range() makes the whole list before execution can continue,\n",
    "whereas values from xrange() a generated one at a time,\n",
    "so range() requires enough memory to hold the entire list in memory\n",
    "whereas xrange() only needs a little bit of memory.\n",
    "For large values, range will use up all memory then crash\n",
    "whereas xrange will just work.\n",
    "Also, since range() makes the whole list before continuing,\n",
    "range() has greater latency. The following cells demonstrate that."
   ]
  },
  {
   "cell_type": "code",
   "execution_count": 6,
   "metadata": {
    "collapsed": true
   },
   "outputs": [],
   "source": [
    "def foo(f, n, last):\n",
    "    total = 0\n",
    "    for i in f(n):\n",
    "        total += i\n",
    "        if i >= last:\n",
    "            break\n",
    "    return total"
   ]
  },
  {
   "cell_type": "code",
   "execution_count": 7,
   "metadata": {
    "collapsed": false
   },
   "outputs": [
    {
     "data": {
      "text/plain": [
       "5050"
      ]
     },
     "execution_count": 7,
     "metadata": {},
     "output_type": "execute_result"
    }
   ],
   "source": [
    "n = 10**8\n",
    "last = 100\n",
    "known_good_output = get_known_good_output(last+1)\n",
    "known_good_output"
   ]
  },
  {
   "cell_type": "code",
   "execution_count": 8,
   "metadata": {
    "collapsed": false
   },
   "outputs": [
    {
     "name": "stdout",
     "output_type": "stream",
     "text": [
      "1 loops, best of 3: 2.45 s per loop\n"
     ]
    }
   ],
   "source": [
    "f = range\n",
    "assert foo(f, n, last) == known_good_output\n",
    "%timeit foo(f, n, last)"
   ]
  },
  {
   "cell_type": "code",
   "execution_count": 9,
   "metadata": {
    "collapsed": false
   },
   "outputs": [
    {
     "name": "stdout",
     "output_type": "stream",
     "text": [
      "100000 loops, best of 3: 7.51 µs per loop\n"
     ]
    }
   ],
   "source": [
    "f = xrange\n",
    "assert foo(f, n, last) == known_good_output\n",
    "%timeit foo(f, n, last)"
   ]
  },
  {
   "cell_type": "markdown",
   "metadata": {},
   "source": [
    "For Python 2, I prefer the behavior\n",
    "of xrange() over that of range().\n",
    "xrange() has low latency for the first value\n",
    "and is thrifty with memory.\n",
    "\n",
    "However, I dislike the ugly x in the name of xrange\n",
    "and usually stick to range() for portability with Python 3\n",
    "unless I really need the behavior of xrange()."
   ]
  }
 ],
 "metadata": {
  "kernelspec": {
   "display_name": "Python 2",
   "language": "python",
   "name": "python2"
  },
  "language_info": {
   "codemirror_mode": {
    "name": "ipython",
    "version": 2
   },
   "file_extension": ".py",
   "mimetype": "text/x-python",
   "name": "python",
   "nbconvert_exporter": "python",
   "pygments_lexer": "ipython2",
   "version": "2.7.6"
  }
 },
 "nbformat": 4,
 "nbformat_minor": 0
}
