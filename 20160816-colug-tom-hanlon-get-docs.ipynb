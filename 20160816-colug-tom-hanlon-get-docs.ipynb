{
 "cells": [
  {
   "cell_type": "markdown",
   "metadata": {},
   "source": [
    "For Tom Hanlon's email\n",
    "[[colug-432] Python inline help or library exploration tips](http://lists.colug.net/pipermail/colug-432/2016-August/004608.html)\n",
    "\n",
    "and a reply\n",
    "[[colug-432] Python inline help or library exploration tips](http://lists.colug.net/pipermail/colug-432/2016-August/004611.html)."
   ]
  },
  {
   "cell_type": "code",
   "execution_count": 1,
   "metadata": {
    "collapsed": true
   },
   "outputs": [],
   "source": [
    "# !pip install fake-factory ;# not pip install faker"
   ]
  },
  {
   "cell_type": "code",
   "execution_count": 2,
   "metadata": {
    "collapsed": true
   },
   "outputs": [],
   "source": [
    "from faker import Factory\n",
    "import csv\n",
    "import sys"
   ]
  },
  {
   "cell_type": "code",
   "execution_count": 3,
   "metadata": {
    "collapsed": false
   },
   "outputs": [],
   "source": [
    "def foo(filename, n):\n",
    "    with open(filename, 'w') as f:\n",
    "        for _ in range(n):\n",
    "            fake = Factory.create()\n",
    "            name = fake.profile()['name']\n",
    "            address_raw = fake.profile()['address']\n",
    "            address = address_raw.replace('\\n', ', ')\n",
    "            birthdate = fake.profile()['birthdate']\n",
    "            phone = fake.phone_number()\n",
    "            writer = csv.writer(f)\n",
    "            writer.writerow((name, address, birthdate, phone))"
   ]
  },
  {
   "cell_type": "code",
   "execution_count": 4,
   "metadata": {
    "collapsed": false
   },
   "outputs": [
    {
     "name": "stdout",
     "output_type": "stream",
     "text": [
      "John Nguyen,\"5683 Rodriguez Fork Suite 504, Kaufmanmouth, CT 85354-5732\",1981-01-09,453-653-3706x42426\n",
      "Jennifer Johnson,\"31506 Morales Burg, New Micheal, IA 39308\",2005-06-15,(886)901-9166x38446\n",
      "Todd Leonard,\"0719 Cruz Way Suite 595, Danielstad, MN 02681\",2012-09-22,+20(3)7430225698\n",
      "\n"
     ]
    }
   ],
   "source": [
    "filename = 'data.csv'\n",
    "n = 3\n",
    "foo(filename, n)\n",
    "print(open(filename).read())"
   ]
  },
  {
   "cell_type": "code",
   "execution_count": 5,
   "metadata": {
    "collapsed": false
   },
   "outputs": [
    {
     "name": "stdout",
     "output_type": "stream",
     "text": [
      "Help on class Factory in module faker.factory:\n",
      "\n",
      "class Factory(builtins.object)\n",
      " |  Class methods defined here:\n",
      " |  \n",
      " |  create(locale=None, providers=None, generator=None, includes=None, **config) from builtins.type\n",
      " |  \n",
      " |  ----------------------------------------------------------------------\n",
      " |  Data descriptors defined here:\n",
      " |  \n",
      " |  __dict__\n",
      " |      dictionary for instance variables (if defined)\n",
      " |  \n",
      " |  __weakref__\n",
      " |      list of weak references to the object (if defined)\n",
      "\n"
     ]
    }
   ],
   "source": [
    "help(Factory)"
   ]
  },
  {
   "cell_type": "code",
   "execution_count": 6,
   "metadata": {
    "collapsed": false
   },
   "outputs": [
    {
     "name": "stdout",
     "output_type": "stream",
     "text": [
      "Help on package faker:\n",
      "\n",
      "NAME\n",
      "    faker\n",
      "\n",
      "PACKAGE CONTENTS\n",
      "    __main__\n",
      "    build_docs\n",
      "    cli\n",
      "    compat\n",
      "    config\n",
      "    data\n",
      "    documentor\n",
      "    factory\n",
      "    generator\n",
      "    patterns\n",
      "    providers (package)\n",
      "    shims (package)\n",
      "    tests (package)\n",
      "    utils (package)\n",
      "\n",
      "DATA\n",
      "    VERSION = '0.6.0'\n",
      "\n",
      "FILE\n",
      "    /home/doj/i/env3/lib/python3.4/site-packages/faker/__init__.py\n",
      "\n",
      "\n"
     ]
    }
   ],
   "source": [
    "import faker\n",
    "help(faker)"
   ]
  },
  {
   "cell_type": "code",
   "execution_count": 7,
   "metadata": {
    "collapsed": false
   },
   "outputs": [
    {
     "name": "stdout",
     "output_type": "stream",
     "text": [
      "Help on module faker.factory in faker:\n",
      "\n",
      "NAME\n",
      "    faker.factory - # coding=utf-8\n",
      "\n",
      "CLASSES\n",
      "    builtins.object\n",
      "        Factory\n",
      "    \n",
      "    class Factory(builtins.object)\n",
      "     |  Class methods defined here:\n",
      "     |  \n",
      "     |  create(locale=None, providers=None, generator=None, includes=None, **config) from builtins.type\n",
      "     |  \n",
      "     |  ----------------------------------------------------------------------\n",
      "     |  Data descriptors defined here:\n",
      "     |  \n",
      "     |  __dict__\n",
      "     |      dictionary for instance variables (if defined)\n",
      "     |  \n",
      "     |  __weakref__\n",
      "     |      list of weak references to the object (if defined)\n",
      "\n",
      "DATA\n",
      "    AVAILABLE_LOCALES = set(['bg_BG', 'bs_BA', 'cs_CZ', 'de_AT', 'de_DE', ...\n",
      "    DEFAULT_LOCALE = 'en_US'\n",
      "    PROVIDERS = ['faker.providers.address', 'faker.providers.barcode', 'fa...\n",
      "    absolute_import = _Feature((2, 5, 0, 'alpha', 1), (3, 0, 0, 'alpha', 0...\n",
      "    unicode_literals = _Feature((2, 6, 0, 'alpha', 2), (3, 0, 0, 'alpha', ...\n",
      "\n",
      "FILE\n",
      "    /home/doj/i/env3/lib/python3.4/site-packages/faker/factory.py\n",
      "\n",
      "\n"
     ]
    }
   ],
   "source": [
    "help(faker.factory)"
   ]
  },
  {
   "cell_type": "code",
   "execution_count": 8,
   "metadata": {
    "collapsed": false
   },
   "outputs": [
    {
     "name": "stdout",
     "output_type": "stream",
     "text": [
      "Help on method profile in module faker.providers.profile:\n",
      "\n",
      "profile(fields=None, sex=None) method of faker.providers.profile.Provider instance\n",
      "    Generates a complete profile.\n",
      "    If \"fields\" is not empty, only the fields in the list will be returned\n",
      "\n"
     ]
    }
   ],
   "source": [
    "help(Factory.create().profile)\n",
    "# There is a docstring, but it is incomplete."
   ]
  },
  {
   "cell_type": "code",
   "execution_count": 9,
   "metadata": {
    "collapsed": false
   },
   "outputs": [
    {
     "name": "stdout",
     "output_type": "stream",
     "text": [
      "\n",
      "        Generates a complete profile.\n",
      "        If \"fields\" is not empty, only the fields in the list will be returned\n",
      "        \n"
     ]
    }
   ],
   "source": [
    "print(Factory.create().profile.__doc__)"
   ]
  },
  {
   "cell_type": "code",
   "execution_count": 10,
   "metadata": {
    "collapsed": true
   },
   "outputs": [],
   "source": [
    "fake = Factory.create().profile()"
   ]
  },
  {
   "cell_type": "code",
   "execution_count": 11,
   "metadata": {
    "collapsed": false
   },
   "outputs": [
    {
     "name": "stdout",
     "output_type": "stream",
     "text": [
      "Help on dict object:\n",
      "\n",
      "class dict(object)\n",
      " |  dict() -> new empty dictionary\n",
      " |  dict(mapping) -> new dictionary initialized from a mapping object's\n",
      " |      (key, value) pairs\n",
      " |  dict(iterable) -> new dictionary initialized as if via:\n",
      " |      d = {}\n",
      " |      for k, v in iterable:\n",
      " |          d[k] = v\n",
      " |  dict(**kwargs) -> new dictionary initialized with the name=value pairs\n",
      " |      in the keyword argument list.  For example:  dict(one=1, two=2)\n",
      " |  \n",
      " |  Methods defined here:\n",
      " |  \n",
      " |  __contains__(self, key, /)\n",
      " |      True if D has a key k, else False.\n",
      " |  \n",
      " |  __delitem__(self, key, /)\n",
      " |      Delete self[key].\n",
      " |  \n",
      " |  __eq__(self, value, /)\n",
      " |      Return self==value.\n",
      " |  \n",
      " |  __ge__(self, value, /)\n",
      " |      Return self>=value.\n",
      " |  \n",
      " |  __getattribute__(self, name, /)\n",
      " |      Return getattr(self, name).\n",
      " |  \n",
      " |  __getitem__(...)\n",
      " |      x.__getitem__(y) <==> x[y]\n",
      " |  \n",
      " |  __gt__(self, value, /)\n",
      " |      Return self>value.\n",
      " |  \n",
      " |  __init__(self, /, *args, **kwargs)\n",
      " |      Initialize self.  See help(type(self)) for accurate signature.\n",
      " |  \n",
      " |  __iter__(self, /)\n",
      " |      Implement iter(self).\n",
      " |  \n",
      " |  __le__(self, value, /)\n",
      " |      Return self<=value.\n",
      " |  \n",
      " |  __len__(self, /)\n",
      " |      Return len(self).\n",
      " |  \n",
      " |  __lt__(self, value, /)\n",
      " |      Return self<value.\n",
      " |  \n",
      " |  __ne__(self, value, /)\n",
      " |      Return self!=value.\n",
      " |  \n",
      " |  __new__(*args, **kwargs) from builtins.type\n",
      " |      Create and return a new object.  See help(type) for accurate signature.\n",
      " |  \n",
      " |  __repr__(self, /)\n",
      " |      Return repr(self).\n",
      " |  \n",
      " |  __setitem__(self, key, value, /)\n",
      " |      Set self[key] to value.\n",
      " |  \n",
      " |  __sizeof__(...)\n",
      " |      D.__sizeof__() -> size of D in memory, in bytes\n",
      " |  \n",
      " |  clear(...)\n",
      " |      D.clear() -> None.  Remove all items from D.\n",
      " |  \n",
      " |  copy(...)\n",
      " |      D.copy() -> a shallow copy of D\n",
      " |  \n",
      " |  fromkeys(iterable, value=None, /) from builtins.type\n",
      " |      Returns a new dict with keys from iterable and values equal to value.\n",
      " |  \n",
      " |  get(...)\n",
      " |      D.get(k[,d]) -> D[k] if k in D, else d.  d defaults to None.\n",
      " |  \n",
      " |  items(...)\n",
      " |      D.items() -> a set-like object providing a view on D's items\n",
      " |  \n",
      " |  keys(...)\n",
      " |      D.keys() -> a set-like object providing a view on D's keys\n",
      " |  \n",
      " |  pop(...)\n",
      " |      D.pop(k[,d]) -> v, remove specified key and return the corresponding value.\n",
      " |      If key is not found, d is returned if given, otherwise KeyError is raised\n",
      " |  \n",
      " |  popitem(...)\n",
      " |      D.popitem() -> (k, v), remove and return some (key, value) pair as a\n",
      " |      2-tuple; but raise KeyError if D is empty.\n",
      " |  \n",
      " |  setdefault(...)\n",
      " |      D.setdefault(k[,d]) -> D.get(k,d), also set D[k]=d if k not in D\n",
      " |  \n",
      " |  update(...)\n",
      " |      D.update([E, ]**F) -> None.  Update D from dict/iterable E and F.\n",
      " |      If E is present and has a .keys() method, then does:  for k in E: D[k] = E[k]\n",
      " |      If E is present and lacks a .keys() method, then does:  for k, v in E: D[k] = v\n",
      " |      In either case, this is followed by: for k in F:  D[k] = F[k]\n",
      " |  \n",
      " |  values(...)\n",
      " |      D.values() -> an object providing a view on D's values\n",
      " |  \n",
      " |  ----------------------------------------------------------------------\n",
      " |  Data and other attributes defined here:\n",
      " |  \n",
      " |  __hash__ = None\n",
      "\n"
     ]
    }
   ],
   "source": [
    "help(fake)"
   ]
  },
  {
   "cell_type": "code",
   "execution_count": 12,
   "metadata": {
    "collapsed": false
   },
   "outputs": [
    {
     "data": {
      "text/plain": [
       "dict_keys(['current_location', 'website', 'ssn', 'name', 'mail', 'residence', 'blood_group', 'address', 'birthdate', 'company', 'sex', 'username', 'job'])"
      ]
     },
     "execution_count": 12,
     "metadata": {},
     "output_type": "execute_result"
    }
   ],
   "source": [
    "fake.keys()"
   ]
  },
  {
   "cell_type": "code",
   "execution_count": 13,
   "metadata": {
    "collapsed": false
   },
   "outputs": [
    {
     "data": {
      "text/plain": [
       "{'address': '5951 Johnson Island\\nPort Kristenland, SC 03144-4728',\n",
       " 'birthdate': '1974-07-07',\n",
       " 'blood_group': 'A+',\n",
       " 'company': 'Brewer PLC',\n",
       " 'current_location': (Decimal('84.696862'), Decimal('119.491742')),\n",
       " 'job': 'Passenger transport manager',\n",
       " 'mail': 'kgoodman@hotmail.com',\n",
       " 'name': 'Terry Blanchard',\n",
       " 'residence': '44355 George Springs Suite 597\\nSouth Andreashire, KY 50790-9990',\n",
       " 'sex': 'M',\n",
       " 'ssn': '796-98-1810',\n",
       " 'username': 'inixon',\n",
       " 'website': ['http://www.holland-long.com/',\n",
       "  'http://www.hampton.com/',\n",
       "  'http://www.harper.com/']}"
      ]
     },
     "execution_count": 13,
     "metadata": {},
     "output_type": "execute_result"
    }
   ],
   "source": [
    "fake"
   ]
  }
 ],
 "metadata": {
  "kernelspec": {
   "display_name": "Python 3",
   "language": "python",
   "name": "python3"
  },
  "language_info": {
   "codemirror_mode": {
    "name": "ipython",
    "version": 3
   },
   "file_extension": ".py",
   "mimetype": "text/x-python",
   "name": "python",
   "nbconvert_exporter": "python",
   "pygments_lexer": "ipython3",
   "version": "3.4.3"
  }
 },
 "nbformat": 4,
 "nbformat_minor": 0
}
