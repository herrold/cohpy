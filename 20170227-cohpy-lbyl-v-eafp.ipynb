{
 "cells": [
  {
   "cell_type": "markdown",
   "metadata": {},
   "source": [
    "In some other languages,\n",
    "one can not recover from an error,\n",
    "or it is difficult to recover from an error,\n",
    "so one tests input before doing something that could provoke the error.\n",
    "This technique is called **Look Before You Leap** (LBYL)"
   ]
  },
  {
   "cell_type": "markdown",
   "metadata": {},
   "source": [
    "For example, in a C program,\n",
    "one must avoid trying to calculate the square root of a negative number."
   ]
  },
  {
   "cell_type": "code",
   "execution_count": 1,
   "metadata": {
    "collapsed": true
   },
   "outputs": [],
   "source": [
    "numbers = '''\n",
    "2\n",
    "1\n",
    "0\n",
    "-1\n",
    "-2\n",
    "'''\n",
    "with open('numbers', 'w') as f:\n",
    "    f.write(numbers)"
   ]
  },
  {
   "cell_type": "code",
   "execution_count": 2,
   "metadata": {
    "collapsed": false
   },
   "outputs": [
    {
     "name": "stdout",
     "output_type": "stream",
     "text": [
      "cc     foo.c   -o foo\r\n"
     ]
    }
   ],
   "source": [
    "c_program_source_code = r'''\n",
    "#include <stdlib.h>\n",
    "#include <stdio.h>\n",
    "\n",
    "int foo(int x)\n",
    "{\n",
    "    return 10 / x;\n",
    "}\n",
    "\n",
    "int main(int argc, char *argv[])\n",
    "{\n",
    "    int x;\n",
    "    int y;\n",
    "    \n",
    "    while (scanf(\"%d\", &x) == 1) {\n",
    "        y = foo(x);\n",
    "        printf(\"foo(%d) --> %d\\n\", x, y);\n",
    "    }        \n",
    "}\n",
    "'''\n",
    "\n",
    "with open('foo.c', 'w') as f:\n",
    "    f.write(c_program_source_code)\n",
    "\n",
    "!make foo"
   ]
  },
  {
   "cell_type": "code",
   "execution_count": 3,
   "metadata": {
    "collapsed": false,
    "scrolled": false
   },
   "outputs": [
    {
     "name": "stdout",
     "output_type": "stream",
     "text": [
      "foo(2) --> 5\n",
      "foo(1) --> 10\n",
      "Floating point exception (core dumped)\n"
     ]
    }
   ],
   "source": [
    "!./foo <numbers"
   ]
  },
  {
   "cell_type": "code",
   "execution_count": 4,
   "metadata": {
    "collapsed": false
   },
   "outputs": [
    {
     "name": "stdout",
     "output_type": "stream",
     "text": [
      "foo(2) --> 5\n",
      "foo(1) --> 10\n"
     ]
    },
    {
     "ename": "ZeroDivisionError",
     "evalue": "integer division or modulo by zero",
     "output_type": "error",
     "traceback": [
      "\u001b[0;31m---------------------------------------------------------------------------\u001b[0m",
      "\u001b[0;31mZeroDivisionError\u001b[0m                         Traceback (most recent call last)",
      "\u001b[0;32m<ipython-input-4-37f3ee05d4c9>\u001b[0m in \u001b[0;36m<module>\u001b[0;34m()\u001b[0m\n\u001b[1;32m      8\u001b[0m         \u001b[0mprint\u001b[0m\u001b[0;34m(\u001b[0m\u001b[0;34m\"foo(%d) --> %d\"\u001b[0m \u001b[0;34m%\u001b[0m \u001b[0;34m(\u001b[0m\u001b[0mx\u001b[0m\u001b[0;34m,\u001b[0m \u001b[0my\u001b[0m\u001b[0;34m)\u001b[0m\u001b[0;34m)\u001b[0m\u001b[0;34m\u001b[0m\u001b[0m\n\u001b[1;32m      9\u001b[0m \u001b[0;34m\u001b[0m\u001b[0m\n\u001b[0;32m---> 10\u001b[0;31m \u001b[0mmain\u001b[0m\u001b[0;34m(\u001b[0m\u001b[0mnumbers\u001b[0m\u001b[0;34m.\u001b[0m\u001b[0msplit\u001b[0m\u001b[0;34m(\u001b[0m\u001b[0;34m)\u001b[0m\u001b[0;34m)\u001b[0m\u001b[0;34m\u001b[0m\u001b[0m\n\u001b[0m",
      "\u001b[0;32m<ipython-input-4-37f3ee05d4c9>\u001b[0m in \u001b[0;36mmain\u001b[0;34m(lines)\u001b[0m\n\u001b[1;32m      5\u001b[0m     \u001b[0;32mfor\u001b[0m \u001b[0mline\u001b[0m \u001b[0;32min\u001b[0m \u001b[0mlines\u001b[0m\u001b[0;34m:\u001b[0m\u001b[0;34m\u001b[0m\u001b[0m\n\u001b[1;32m      6\u001b[0m         \u001b[0mx\u001b[0m \u001b[0;34m=\u001b[0m \u001b[0mint\u001b[0m\u001b[0;34m(\u001b[0m\u001b[0mline\u001b[0m\u001b[0;34m)\u001b[0m\u001b[0;34m\u001b[0m\u001b[0m\n\u001b[0;32m----> 7\u001b[0;31m         \u001b[0my\u001b[0m \u001b[0;34m=\u001b[0m \u001b[0mfoo\u001b[0m\u001b[0;34m(\u001b[0m\u001b[0mx\u001b[0m\u001b[0;34m)\u001b[0m\u001b[0;34m\u001b[0m\u001b[0m\n\u001b[0m\u001b[1;32m      8\u001b[0m         \u001b[0mprint\u001b[0m\u001b[0;34m(\u001b[0m\u001b[0;34m\"foo(%d) --> %d\"\u001b[0m \u001b[0;34m%\u001b[0m \u001b[0;34m(\u001b[0m\u001b[0mx\u001b[0m\u001b[0;34m,\u001b[0m \u001b[0my\u001b[0m\u001b[0;34m)\u001b[0m\u001b[0;34m)\u001b[0m\u001b[0;34m\u001b[0m\u001b[0m\n\u001b[1;32m      9\u001b[0m \u001b[0;34m\u001b[0m\u001b[0m\n",
      "\u001b[0;32m<ipython-input-4-37f3ee05d4c9>\u001b[0m in \u001b[0;36mfoo\u001b[0;34m(x)\u001b[0m\n\u001b[1;32m      1\u001b[0m \u001b[0;32mdef\u001b[0m \u001b[0mfoo\u001b[0m\u001b[0;34m(\u001b[0m\u001b[0mx\u001b[0m\u001b[0;34m)\u001b[0m\u001b[0;34m:\u001b[0m\u001b[0;34m\u001b[0m\u001b[0m\n\u001b[0;32m----> 2\u001b[0;31m     \u001b[0;32mreturn\u001b[0m \u001b[0;36m10\u001b[0m \u001b[0;34m//\u001b[0m \u001b[0mx\u001b[0m\u001b[0;34m\u001b[0m\u001b[0m\n\u001b[0m\u001b[1;32m      3\u001b[0m \u001b[0;34m\u001b[0m\u001b[0m\n\u001b[1;32m      4\u001b[0m \u001b[0;32mdef\u001b[0m \u001b[0mmain\u001b[0m\u001b[0;34m(\u001b[0m\u001b[0mlines\u001b[0m\u001b[0;34m)\u001b[0m\u001b[0;34m:\u001b[0m\u001b[0;34m\u001b[0m\u001b[0m\n\u001b[1;32m      5\u001b[0m     \u001b[0;32mfor\u001b[0m \u001b[0mline\u001b[0m \u001b[0;32min\u001b[0m \u001b[0mlines\u001b[0m\u001b[0;34m:\u001b[0m\u001b[0;34m\u001b[0m\u001b[0m\n",
      "\u001b[0;31mZeroDivisionError\u001b[0m: integer division or modulo by zero"
     ]
    }
   ],
   "source": [
    "def foo(x):\n",
    "    return 10 // x\n",
    "\n",
    "def main(lines):\n",
    "    for line in lines:\n",
    "        x = int(line)\n",
    "        y = foo(x)\n",
    "        print(\"foo(%d) --> %d\" % (x, y))\n",
    "        \n",
    "main(numbers.split())"
   ]
  },
  {
   "cell_type": "code",
   "execution_count": 5,
   "metadata": {
    "collapsed": false
   },
   "outputs": [
    {
     "name": "stdout",
     "output_type": "stream",
     "text": [
      "cc     foo.c   -o foo\r\n"
     ]
    }
   ],
   "source": [
    "c_program_source_code = r'''\n",
    "#include <stdlib.h>\n",
    "#include <stdio.h>\n",
    "\n",
    "int foo(int x)\n",
    "{\n",
    "    if (x == 0)\n",
    "        return 0;\n",
    "    else\n",
    "        return 10 / x;\n",
    "}\n",
    "\n",
    "int main(int argc, char *argv[])\n",
    "{\n",
    "    int x;\n",
    "    int y;\n",
    "    \n",
    "    while (scanf(\"%d\", &x) == 1) {\n",
    "        y = foo(x);\n",
    "        printf(\"foo(%d) --> %d\\n\", x, y);\n",
    "    }        \n",
    "}\n",
    "'''\n",
    "\n",
    "with open('foo.c', 'w') as f:\n",
    "    f.write(c_program_source_code)\n",
    "\n",
    "!make foo"
   ]
  },
  {
   "cell_type": "code",
   "execution_count": 6,
   "metadata": {
    "collapsed": false,
    "scrolled": false
   },
   "outputs": [
    {
     "name": "stdout",
     "output_type": "stream",
     "text": [
      "foo(2) --> 5\r\n",
      "foo(1) --> 10\r\n",
      "foo(0) --> 0\r\n",
      "foo(-1) --> -10\r\n",
      "foo(-2) --> -5\r\n"
     ]
    }
   ],
   "source": [
    "!./foo <numbers"
   ]
  },
  {
   "cell_type": "markdown",
   "metadata": {},
   "source": [
    "One can use the same LBYL technique in Python."
   ]
  },
  {
   "cell_type": "code",
   "execution_count": 7,
   "metadata": {
    "collapsed": false
   },
   "outputs": [
    {
     "name": "stdout",
     "output_type": "stream",
     "text": [
      "foo(2) --> 5\n",
      "foo(1) --> 10\n",
      "foo(0) --> 0\n",
      "foo(-1) --> -10\n",
      "foo(-2) --> -5\n"
     ]
    }
   ],
   "source": [
    "def foo(x):\n",
    "    if x == 0:\n",
    "        return 0\n",
    "    else :\n",
    "        return 10 // x\n",
    "\n",
    "def main(lines):\n",
    "    for line in lines:\n",
    "        x = int(line)\n",
    "        y = foo(x)\n",
    "        print(\"foo(%d) --> %d\" % (x, y))\n",
    "        \n",
    "main(numbers.split())"
   ]
  },
  {
   "cell_type": "markdown",
   "metadata": {},
   "source": [
    "Another technique is to just try stuff,\n",
    "and if it blows up, do something else.\n",
    "\n",
    "This technique is called **Easier to Ask Forgiveness than Permission** (EAFP).\n",
    "\n",
    "Python makes it very easy to do something else\n",
    "when something blows up."
   ]
  },
  {
   "cell_type": "code",
   "execution_count": 8,
   "metadata": {
    "collapsed": false
   },
   "outputs": [
    {
     "name": "stdout",
     "output_type": "stream",
     "text": [
      "foo(2) --> 5\n",
      "foo(1) --> 10\n",
      "foo(0) --> 0\n",
      "foo(-1) --> -10\n",
      "foo(-2) --> -5\n"
     ]
    }
   ],
   "source": [
    "def foo(x):\n",
    "    try:\n",
    "        y = 10 // x\n",
    "    except ZeroDivisionError:\n",
    "        y = 0\n",
    "    return y\n",
    "\n",
    "def main(lines):\n",
    "    for line in lines:\n",
    "        x = int(line)\n",
    "        y = foo(x)\n",
    "        print(\"foo(%d) --> %d\" % (x, y))\n",
    "        \n",
    "main(numbers.split())"
   ]
  },
  {
   "cell_type": "markdown",
   "metadata": {},
   "source": [
    "For that simple example,\n",
    "EAFP does not have much if any benefit over LBYL.\n",
    "For that simple example,\n",
    "there is not much benefit  in the size or readability of the code.\n",
    "However, for more complicated problems,\n",
    "EAFP lets one write much simpler and readable code.\n",
    "\n",
    "For example,\n",
    "determining if a string can be converted to a float is complicated,\n",
    "so just trying to convert it to a float,\n",
    "and if it blows up,\n",
    "do something else."
   ]
  },
  {
   "cell_type": "markdown",
   "metadata": {},
   "source": [
    "Show how to convert to float with LBYL.\n",
    "\n",
    "try regex code\n",
    "    nan\n",
    "    inf\n",
    "    <sign><digits>.<digits><[eE][+-]<digits>\n",
    "    \n",
    "disallow nan and inf\n",
    "    where is exponent limit for exponent?\n",
    "    do regex, then convert,\n",
    "    then test for inf\n",
    "    1.79769e308\n",
    "    \n",
    "def mogrify(s):\n",
    "    try:\n",
    "        x = float(s)\n",
    "    except ValueError:\n",
    "        x = float('nan')\n",
    "    return x"
   ]
  },
  {
   "cell_type": "code",
   "execution_count": null,
   "metadata": {
    "collapsed": false
   },
   "outputs": [],
   "source": [
    "def mogrify(types, s):\n",
    "    '''Converts s to the first type in types that works.'''\n",
    "    for type_ in types:\n",
    "        try:\n",
    "            x = type_(s)\n",
    "        except:\n",
    "            continue\n",
    "        break\n",
    "            \n",
    "    return x"
   ]
  },
  {
   "cell_type": "code",
   "execution_count": null,
   "metadata": {
    "collapsed": true
   },
   "outputs": [],
   "source": [
    "types = (int, float, str)\n",
    "input_strings = (\n",
    "    '-1234',\n",
    "    '-1234.',\n",
    "    '-1234.nana',\n",
    "    #'nan',\n",
    ")"
   ]
  },
  {
   "cell_type": "code",
   "execution_count": null,
   "metadata": {
    "collapsed": false
   },
   "outputs": [],
   "source": [
    "for s in input_strings:\n",
    "    x = mogrify(types, s)\n",
    "    print('%r -> %r (%s)' % (s, x, x.__class__.__name__))"
   ]
  },
  {
   "cell_type": "markdown",
   "metadata": {},
   "source": [
    "That works, but is bad.\n",
    "\n",
    "One should not have naked excepts.\n",
    "\n",
    "One should specify exactly which exceptions one is going to catch.\n",
    "I often do that by just provoking the error\n",
    "and seeing what it complains about\n",
    "instead of RTFM."
   ]
  },
  {
   "cell_type": "markdown",
   "metadata": {},
   "source": [
    "Naked excepts are bad.\n",
    "\n",
    "Often provoke the error with known bad input\n",
    "just to see what error is provoked,\n",
    "then paste that error into the except statement."
   ]
  },
  {
   "cell_type": "code",
   "execution_count": null,
   "metadata": {
    "collapsed": false
   },
   "outputs": [],
   "source": [
    "int('-1234.')"
   ]
  },
  {
   "cell_type": "code",
   "execution_count": null,
   "metadata": {
    "collapsed": false
   },
   "outputs": [],
   "source": [
    "def mogrify(types, s):\n",
    "    '''Converts s to the first type in types that works.'''\n",
    "    for type_ in types:\n",
    "        try:\n",
    "            x = type_(s)\n",
    "        except ValueError:\n",
    "            continue\n",
    "        break\n",
    "            \n",
    "    return x"
   ]
  },
  {
   "cell_type": "code",
   "execution_count": null,
   "metadata": {
    "collapsed": false
   },
   "outputs": [],
   "source": [
    "for s in input_strings:\n",
    "    x = mogrify(types, s)\n",
    "    print('%r -> %r (%s)' % (s, x, x.__class__.__name__))"
   ]
  }
 ],
 "metadata": {
  "kernelspec": {
   "display_name": "Python 3",
   "language": "python",
   "name": "python3"
  },
  "language_info": {
   "codemirror_mode": {
    "name": "ipython",
    "version": 3
   },
   "file_extension": ".py",
   "mimetype": "text/x-python",
   "name": "python",
   "nbconvert_exporter": "python",
   "pygments_lexer": "ipython3",
   "version": "3.6.0"
  }
 },
 "nbformat": 4,
 "nbformat_minor": 0
}
