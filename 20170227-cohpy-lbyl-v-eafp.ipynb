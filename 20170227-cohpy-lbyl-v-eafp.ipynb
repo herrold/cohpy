{
 "cells": [
  {
   "cell_type": "markdown",
   "metadata": {},
   "source": [
    "# LBYL versus EAFP"
   ]
  },
  {
   "cell_type": "markdown",
   "metadata": {},
   "source": [
    "---\n",
    "In some other languages,\n",
    "one can not recover from an error,\n",
    "or it is difficult to recover from an error,\n",
    "so one tests input before doing something that could provoke the error.\n",
    "This technique is called **Look Before You Leap** (LBYL)"
   ]
  },
  {
   "cell_type": "markdown",
   "metadata": {},
   "source": [
    "For example, in a C program, one must avoid dividing by zero.\n",
    "\n",
    "Below is a C program that divides by numbers read from a file. When it gets the zero, it crashes."
   ]
  },
  {
   "cell_type": "code",
   "execution_count": 1,
   "metadata": {
    "collapsed": true
   },
   "outputs": [],
   "source": [
    "numbers = '''\n",
    "2\n",
    "1\n",
    "0\n",
    "-1\n",
    "-2\n",
    "'''\n",
    "with open('numbers', 'w') as f:\n",
    "    f.write(numbers)"
   ]
  },
  {
   "cell_type": "code",
   "execution_count": 2,
   "metadata": {
    "collapsed": false
   },
   "outputs": [
    {
     "name": "stdout",
     "output_type": "stream",
     "text": [
      "cc     foo.c   -o foo\r\n"
     ]
    }
   ],
   "source": [
    "c_program_source_code = r'''\n",
    "#include <stdlib.h>\n",
    "#include <stdio.h>\n",
    "\n",
    "int foo(int x)\n",
    "{\n",
    "    return 10 / x;\n",
    "}\n",
    "\n",
    "int main(int argc, char *argv[])\n",
    "{\n",
    "    int x;\n",
    "    int y;\n",
    "    \n",
    "    while (scanf(\"%d\", &x) == 1) {\n",
    "        y = foo(x);\n",
    "        printf(\"foo(%d) --> %d\\n\", x, y);\n",
    "    }        \n",
    "}\n",
    "'''\n",
    "\n",
    "with open('foo.c', 'w') as f:\n",
    "    f.write(c_program_source_code)\n",
    "\n",
    "!make foo"
   ]
  },
  {
   "cell_type": "code",
   "execution_count": 3,
   "metadata": {
    "collapsed": false,
    "scrolled": false
   },
   "outputs": [
    {
     "name": "stdout",
     "output_type": "stream",
     "text": [
      "foo(2) --> 5\n",
      "foo(1) --> 10\n",
      "Floating point exception (core dumped)\n"
     ]
    }
   ],
   "source": [
    "!./foo <numbers"
   ]
  },
  {
   "cell_type": "markdown",
   "metadata": {},
   "source": [
    "Python is similarly vulnerable."
   ]
  },
  {
   "cell_type": "code",
   "execution_count": 4,
   "metadata": {
    "collapsed": false
   },
   "outputs": [
    {
     "name": "stdout",
     "output_type": "stream",
     "text": [
      "foo(2) --> 5\n",
      "foo(1) --> 10\n"
     ]
    },
    {
     "ename": "ZeroDivisionError",
     "evalue": "integer division or modulo by zero",
     "output_type": "error",
     "traceback": [
      "\u001b[0;31m---------------------------------------------------------------------------\u001b[0m",
      "\u001b[0;31mZeroDivisionError\u001b[0m                         Traceback (most recent call last)",
      "\u001b[0;32m<ipython-input-4-d114275eb14b>\u001b[0m in \u001b[0;36m<module>\u001b[0;34m()\u001b[0m\n\u001b[1;32m      8\u001b[0m         \u001b[0mprint\u001b[0m\u001b[0;34m(\u001b[0m\u001b[0;34m\"foo(%d) --> %d\"\u001b[0m \u001b[0;34m%\u001b[0m \u001b[0;34m(\u001b[0m\u001b[0mx\u001b[0m\u001b[0;34m,\u001b[0m \u001b[0my\u001b[0m\u001b[0;34m)\u001b[0m\u001b[0;34m)\u001b[0m\u001b[0;34m\u001b[0m\u001b[0m\n\u001b[1;32m      9\u001b[0m \u001b[0;34m\u001b[0m\u001b[0m\n\u001b[0;32m---> 10\u001b[0;31m \u001b[0mmain\u001b[0m\u001b[0;34m(\u001b[0m\u001b[0mopen\u001b[0m\u001b[0;34m(\u001b[0m\u001b[0;34m'numbers'\u001b[0m\u001b[0;34m)\u001b[0m\u001b[0;34m.\u001b[0m\u001b[0mread\u001b[0m\u001b[0;34m(\u001b[0m\u001b[0;34m)\u001b[0m\u001b[0;34m.\u001b[0m\u001b[0msplit\u001b[0m\u001b[0;34m(\u001b[0m\u001b[0;34m)\u001b[0m\u001b[0;34m)\u001b[0m\u001b[0;34m\u001b[0m\u001b[0m\n\u001b[0m",
      "\u001b[0;32m<ipython-input-4-d114275eb14b>\u001b[0m in \u001b[0;36mmain\u001b[0;34m(lines)\u001b[0m\n\u001b[1;32m      5\u001b[0m     \u001b[0;32mfor\u001b[0m \u001b[0mline\u001b[0m \u001b[0;32min\u001b[0m \u001b[0mlines\u001b[0m\u001b[0;34m:\u001b[0m\u001b[0;34m\u001b[0m\u001b[0m\n\u001b[1;32m      6\u001b[0m         \u001b[0mx\u001b[0m \u001b[0;34m=\u001b[0m \u001b[0mint\u001b[0m\u001b[0;34m(\u001b[0m\u001b[0mline\u001b[0m\u001b[0;34m)\u001b[0m\u001b[0;34m\u001b[0m\u001b[0m\n\u001b[0;32m----> 7\u001b[0;31m         \u001b[0my\u001b[0m \u001b[0;34m=\u001b[0m \u001b[0mfoo\u001b[0m\u001b[0;34m(\u001b[0m\u001b[0mx\u001b[0m\u001b[0;34m)\u001b[0m\u001b[0;34m\u001b[0m\u001b[0m\n\u001b[0m\u001b[1;32m      8\u001b[0m         \u001b[0mprint\u001b[0m\u001b[0;34m(\u001b[0m\u001b[0;34m\"foo(%d) --> %d\"\u001b[0m \u001b[0;34m%\u001b[0m \u001b[0;34m(\u001b[0m\u001b[0mx\u001b[0m\u001b[0;34m,\u001b[0m \u001b[0my\u001b[0m\u001b[0;34m)\u001b[0m\u001b[0;34m)\u001b[0m\u001b[0;34m\u001b[0m\u001b[0m\n\u001b[1;32m      9\u001b[0m \u001b[0;34m\u001b[0m\u001b[0m\n",
      "\u001b[0;32m<ipython-input-4-d114275eb14b>\u001b[0m in \u001b[0;36mfoo\u001b[0;34m(x)\u001b[0m\n\u001b[1;32m      1\u001b[0m \u001b[0;32mdef\u001b[0m \u001b[0mfoo\u001b[0m\u001b[0;34m(\u001b[0m\u001b[0mx\u001b[0m\u001b[0;34m)\u001b[0m\u001b[0;34m:\u001b[0m\u001b[0;34m\u001b[0m\u001b[0m\n\u001b[0;32m----> 2\u001b[0;31m     \u001b[0;32mreturn\u001b[0m \u001b[0;36m10\u001b[0m \u001b[0;34m//\u001b[0m \u001b[0mx\u001b[0m\u001b[0;34m\u001b[0m\u001b[0m\n\u001b[0m\u001b[1;32m      3\u001b[0m \u001b[0;34m\u001b[0m\u001b[0m\n\u001b[1;32m      4\u001b[0m \u001b[0;32mdef\u001b[0m \u001b[0mmain\u001b[0m\u001b[0;34m(\u001b[0m\u001b[0mlines\u001b[0m\u001b[0;34m)\u001b[0m\u001b[0;34m:\u001b[0m\u001b[0;34m\u001b[0m\u001b[0m\n\u001b[1;32m      5\u001b[0m     \u001b[0;32mfor\u001b[0m \u001b[0mline\u001b[0m \u001b[0;32min\u001b[0m \u001b[0mlines\u001b[0m\u001b[0;34m:\u001b[0m\u001b[0;34m\u001b[0m\u001b[0m\n",
      "\u001b[0;31mZeroDivisionError\u001b[0m: integer division or modulo by zero"
     ]
    }
   ],
   "source": [
    "def foo(x):\n",
    "    return 10 // x\n",
    "\n",
    "def main(lines):\n",
    "    for line in lines:\n",
    "        x = int(line)\n",
    "        y = foo(x)\n",
    "        print(\"foo(%d) --> %d\" % (x, y))\n",
    "        \n",
    "main(open('numbers').read().split())"
   ]
  },
  {
   "cell_type": "markdown",
   "metadata": {},
   "source": [
    "So one checks before dividing as shown below."
   ]
  },
  {
   "cell_type": "code",
   "execution_count": 5,
   "metadata": {
    "collapsed": false
   },
   "outputs": [
    {
     "name": "stdout",
     "output_type": "stream",
     "text": [
      "cc     foo.c   -o foo\r\n"
     ]
    }
   ],
   "source": [
    "c_program_source_code = r'''\n",
    "#include <stdlib.h>\n",
    "#include <stdio.h>\n",
    "\n",
    "int foo(int x)\n",
    "{\n",
    "    if (x == 0)\n",
    "        return 0;\n",
    "    else\n",
    "        return 10 / x;\n",
    "}\n",
    "\n",
    "int main(int argc, char *argv[])\n",
    "{\n",
    "    int x;\n",
    "    int y;\n",
    "    \n",
    "    while (scanf(\"%d\", &x) == 1) {\n",
    "        y = foo(x);\n",
    "        printf(\"foo(%d) --> %d\\n\", x, y);\n",
    "    }        \n",
    "}\n",
    "'''\n",
    "\n",
    "with open('foo.c', 'w') as f:\n",
    "    f.write(c_program_source_code)\n",
    "\n",
    "!make foo"
   ]
  },
  {
   "cell_type": "code",
   "execution_count": 6,
   "metadata": {
    "collapsed": false,
    "scrolled": false
   },
   "outputs": [
    {
     "name": "stdout",
     "output_type": "stream",
     "text": [
      "foo(2) --> 5\r\n",
      "foo(1) --> 10\r\n",
      "foo(0) --> 0\r\n",
      "foo(-1) --> -10\r\n",
      "foo(-2) --> -5\r\n"
     ]
    }
   ],
   "source": [
    "!./foo <numbers"
   ]
  },
  {
   "cell_type": "markdown",
   "metadata": {},
   "source": [
    "One can use the same LBYL technique in Python."
   ]
  },
  {
   "cell_type": "code",
   "execution_count": 7,
   "metadata": {
    "collapsed": false
   },
   "outputs": [
    {
     "name": "stdout",
     "output_type": "stream",
     "text": [
      "foo(2) --> 5\n",
      "foo(1) --> 10\n",
      "foo(0) --> 0\n",
      "foo(-1) --> -10\n",
      "foo(-2) --> -5\n"
     ]
    }
   ],
   "source": [
    "def foo(x):\n",
    "    if x == 0:\n",
    "        return 0\n",
    "    else:\n",
    "        return 10 // x\n",
    "\n",
    "def main(lines):\n",
    "    for line in lines:\n",
    "        x = int(line)\n",
    "        y = foo(x)\n",
    "        print(\"foo(%d) --> %d\" % (x, y))\n",
    "        \n",
    "main(open('numbers').read().split())"
   ]
  },
  {
   "cell_type": "markdown",
   "metadata": {},
   "source": [
    "Another technique is to just try stuff,\n",
    "and if it blows up, do something else.\n",
    "\n",
    "This technique is called **Easier to Ask Forgiveness than Permission** (EAFP).\n",
    "\n",
    "Python makes it very easy to do something else\n",
    "when something blows up."
   ]
  },
  {
   "cell_type": "code",
   "execution_count": 8,
   "metadata": {
    "collapsed": false
   },
   "outputs": [
    {
     "name": "stdout",
     "output_type": "stream",
     "text": [
      "foo(2) --> 5\n",
      "foo(1) --> 10\n",
      "foo(0) --> 0\n",
      "foo(-1) --> -10\n",
      "foo(-2) --> -5\n"
     ]
    }
   ],
   "source": [
    "def foo(x):\n",
    "    try:\n",
    "        y = 10 // x\n",
    "    except ZeroDivisionError:\n",
    "        y = 0\n",
    "    return y\n",
    "\n",
    "def main(lines):\n",
    "    for line in lines:\n",
    "        x = int(line)\n",
    "        y = foo(x)\n",
    "        print(\"foo(%d) --> %d\" % (x, y))\n",
    "        \n",
    "main(numbers.split())"
   ]
  },
  {
   "cell_type": "markdown",
   "metadata": {},
   "source": [
    "For that simple example,\n",
    "EAFP does not have much if any benefit over LBYL.\n",
    "For that simple example,\n",
    "there is not much benefit in the size or readability of the code.\n",
    "However, for more complicated problems,\n",
    "EAFP lets one write much simpler and readable code.\n",
    "\n",
    "We will use the example of determining if a string is a valid float for Python.\n",
    "\n",
    "See\n",
    "[2.4.6. Floating point literals](https://docs.python.org/3/reference/lexical_analysis.html#floating-point-literals)\n",
    "for what constitutes a valid float.\n",
    "\n",
    "    floatnumber   ::=  pointfloat | exponentfloat\n",
    "    pointfloat    ::=  [digitpart] fraction | digitpart \".\"\n",
    "    exponentfloat ::=  (digitpart | pointfloat) exponent\n",
    "    digitpart     ::=  digit ([\"_\"] digit)*\n",
    "    fraction      ::=  \".\" digitpart\n",
    "    exponent      ::=  (\"e\" | \"E\") [\"+\" | \"-\"] digitpart\n",
    "\n",
    "Some code for that follows."
   ]
  },
  {
   "cell_type": "code",
   "execution_count": 9,
   "metadata": {
    "collapsed": true
   },
   "outputs": [],
   "source": [
    "import re\n",
    "\n",
    "def is_float(s, debug=False):\n",
    "    digit = f'([0-9])'\n",
    "    digitpart = f'({digit}(_?{digit})*)'                           # digit ([\"_\"] digit)*\n",
    "    fraction = f'([.]{digitpart})'                                 # \".\" digitpart\n",
    "    pointfloat = f'(({digitpart}?{fraction}) | ({digitpart}[.]))'  # [digitpart] fraction | digitpart \".\"\n",
    "    exponent = f'([eE][-+]?{digitpart})'                           # (\"e\" | \"E\") [\"+\" | \"-\"] digitpart\n",
    "    exponentfloat = f'(({digitpart} | {pointfloat}) {exponent})'   # (digitpart | pointfloat) exponent\n",
    "    floatnumber = f'^({pointfloat} | {exponentfloat})$'            # pointfloat | exponentfloat\n",
    "    floatnumber = f'^[-+]?({pointfloat} | {exponentfloat} | {digitpart})$'  # allow signs and ints\n",
    "    \n",
    "    if debug:\n",
    "        res = (\n",
    "            digit,\n",
    "            digitpart,\n",
    "            fraction,\n",
    "            pointfloat,\n",
    "            exponent,\n",
    "            exponentfloat,\n",
    "            floatnumber,\n",
    "        )\n",
    "        for s in res:\n",
    "            print(repr(s))\n",
    "            # print(str(s))\n",
    "            \n",
    "    float_pattern = re.compile(floatnumber, re.VERBOSE)\n",
    "\n",
    "    return re.match(float_pattern, s)"
   ]
  },
  {
   "cell_type": "code",
   "execution_count": 10,
   "metadata": {
    "collapsed": true
   },
   "outputs": [],
   "source": [
    "floats = '''\n",
    "    2\n",
    "    0\n",
    "    -1\n",
    "    +17.\n",
    "    .\n",
    "    -.17\n",
    "    17e-3\n",
    "    -19.e-3\n",
    "    hello\n",
    "'''.split()"
   ]
  },
  {
   "cell_type": "code",
   "execution_count": 11,
   "metadata": {
    "collapsed": false
   },
   "outputs": [
    {
     "name": "stdout",
     "output_type": "stream",
     "text": [
      "'([0-9])'\n",
      "'(([0-9])(_?([0-9]))*)'\n",
      "'([.](([0-9])(_?([0-9]))*))'\n",
      "'(((([0-9])(_?([0-9]))*)?([.](([0-9])(_?([0-9]))*))) | ((([0-9])(_?([0-9]))*)[.]))'\n",
      "'([eE][-+]?(([0-9])(_?([0-9]))*))'\n",
      "'(((([0-9])(_?([0-9]))*) | (((([0-9])(_?([0-9]))*)?([.](([0-9])(_?([0-9]))*))) | ((([0-9])(_?([0-9]))*)[.]))) ([eE][-+]?(([0-9])(_?([0-9]))*)))'\n",
      "'^[-+]?((((([0-9])(_?([0-9]))*)?([.](([0-9])(_?([0-9]))*))) | ((([0-9])(_?([0-9]))*)[.])) | (((([0-9])(_?([0-9]))*) | (((([0-9])(_?([0-9]))*)?([.](([0-9])(_?([0-9]))*))) | ((([0-9])(_?([0-9]))*)[.]))) ([eE][-+]?(([0-9])(_?([0-9]))*))) | (([0-9])(_?([0-9]))*))$'\n",
      "'2' -> True\n",
      "'0' -> True\n",
      "'-1' -> True\n",
      "'+17.' -> True\n",
      "'.' -> False\n",
      "'-.17' -> True\n",
      "'17e-3' -> True\n",
      "'-19.e-3' -> True\n",
      "'hello' -> False\n"
     ]
    }
   ],
   "source": [
    "if True:\n",
    "    _ = is_float('', debug=True)\n",
    "\n",
    "    for s in floats:\n",
    "        print(f'{s!r} -> {bool(is_float(s))}')"
   ]
  },
  {
   "cell_type": "code",
   "execution_count": 12,
   "metadata": {
    "collapsed": false
   },
   "outputs": [
    {
     "name": "stdout",
     "output_type": "stream",
     "text": [
      "total is 17.828\n"
     ]
    }
   ],
   "source": [
    "import re\n",
    "\n",
    "def is_float(s, debug=False):\n",
    "    digit = f'([0-9])'\n",
    "    digitpart = f'({digit}(_?{digit})*)'                           # digit ([\"_\"] digit)*\n",
    "    fraction = f'([.]{digitpart})'                                 # \".\" digitpart\n",
    "    pointfloat = f'(({digitpart}?{fraction}) | ({digitpart}[.]))'  # [digitpart] fraction | digitpart \".\"\n",
    "    exponent = f'([eE][-+]?{digitpart})'                           # (\"e\" | \"E\") [\"+\" | \"-\"] digitpart\n",
    "    exponentfloat = f'(({digitpart} | {pointfloat}) {exponent})'   # (digitpart | pointfloat) exponent\n",
    "    floatnumber = f'^({pointfloat} | {exponentfloat})$'            # pointfloat | exponentfloat\n",
    "    floatnumber = f'^[-+]?({pointfloat} | {exponentfloat} | {digitpart})$'  # allow signs and ints\n",
    "    \n",
    "    float_pattern = re.compile(floatnumber, re.VERBOSE)\n",
    "\n",
    "    return re.match(float_pattern, s)\n",
    "    \n",
    "def safe_float(s, default=0.):\n",
    "    if is_float(s):\n",
    "        return float(s)\n",
    "    else:\n",
    "        return default\n",
    "\n",
    "def main(lines):\n",
    "    total = sum(safe_float(line) for line in lines)\n",
    "    print(f'total is {total}')\n",
    "        \n",
    "main(floats)"
   ]
  },
  {
   "cell_type": "markdown",
   "metadata": {},
   "source": [
    "Now we try EAFP technique below."
   ]
  },
  {
   "cell_type": "code",
   "execution_count": 13,
   "metadata": {
    "collapsed": false
   },
   "outputs": [
    {
     "name": "stdout",
     "output_type": "stream",
     "text": [
      "total is 17.828\n"
     ]
    }
   ],
   "source": [
    "def safe_float(s, default=0.):\n",
    "    try:\n",
    "        x = float(s)\n",
    "    except ValueError:\n",
    "        x = default\n",
    "    return x\n",
    "\n",
    "def main(lines):\n",
    "    total = sum(safe_float(line) for line in lines)\n",
    "    print(f'total is {total}')\n",
    "        \n",
    "main(floats)"
   ]
  },
  {
   "cell_type": "markdown",
   "metadata": {},
   "source": [
    "The EAFP code is much much simpler.\n",
    "\n",
    "The LBYL version was very complicated.\n",
    "If there was a bug in the LBYL version, how would you find it?\n",
    "If you fixed it, how much confidence would you have that your fix is correct?\n",
    "How hard would it be to have test cases that covered all the edge cases?\n",
    "\n",
    "# EAFP makes code easier to read, simpler, and more reliable.\n",
    "\n",
    "# This is what makes try/except one of Python's superpowers!!!"
   ]
  },
  {
   "cell_type": "markdown",
   "metadata": {},
   "source": [
    "---"
   ]
  },
  {
   "cell_type": "markdown",
   "metadata": {},
   "source": [
    "should:\n",
    "\n",
    "- always specify at least one exception\n",
    "- put as little as possible in the try clause\n",
    "\n",
    "Because the 20170227-except-*.py programs can lock up Jupyter notebook,\n",
    "run them outside of the notebook."
   ]
  },
  {
   "cell_type": "code",
   "execution_count": 14,
   "metadata": {
    "collapsed": false,
    "scrolled": false
   },
   "outputs": [
    {
     "name": "stdout",
     "output_type": "stream",
     "text": [
      "###############################################################################\n",
      "-rwxrwxr-x 1 cohpy cohpy 879 Feb 25 19:09 20170227-except-0-bare.py\n",
      "\n",
      "#!/usr/bin/env python3\n",
      "\n",
      "'''This program has two try/except sins:\n",
      "1. too much stuff in try: clause\n",
      "2. bare except\n",
      "See https://www.python.org/dev/peps/pep-0008/#programming-recommendations.\n",
      "\n",
      "Because of the bare except, one can not get out of the program by typing ^C.\n",
      "\n",
      "For iter(partial(input, prompt), sentinel) idiom,\n",
      "see https://mail.python.org/pipermail/centraloh/2016-July/002895.html\n",
      "and http://nbviewer.jupyter.org/github/james-prior/cohpy/blob/master/20160708-dojo-user-input-loop-with-iter-partial-input-prompt-sentinel.ipynb\n",
      ".\n",
      "'''\n",
      "\n",
      "from functools import partial\n",
      "\n",
      "prompt = 'Please enter an integer: '\n",
      "while True:\n",
      "    try:\n",
      "        for i in map(int, iter(partial(input, prompt), None)):\n",
      "            print(f'Got {i}. That is a valid integer.')\n",
      "    except: # This catches all exceptions, including KeyboardInterrupt.\n",
      "        print('ERROR: That was not an integer. Try again.')\n",
      "\n",
      "###############################################################################\n",
      "-rwxrwxr-x 1 cohpy cohpy 629 Feb 25 18:40 20170227-except-1-valueerror.py\n",
      "\n",
      "#!/usr/bin/env python3\n",
      "\n",
      "'''This program has one try/except sin:\n",
      "1. too much stuff in try: clause\n",
      "See https://www.python.org/dev/peps/pep-0008/#programming-recommendations.\n",
      "\n",
      "Because the except is not bare and does not specify KeyboardInterrupt,\n",
      "one can get out of the program by typing ^C,\n",
      "which spews diagnostic stuff when quitting.\n",
      "'''\n",
      "\n",
      "from functools import partial\n",
      "\n",
      "prompt = 'Please enter an integer: '\n",
      "while True:\n",
      "    try:\n",
      "        for i in map(int, iter(partial(input, prompt), None)):\n",
      "            print(f'Got {i}. That is a valid integer.')\n",
      "    except ValueError:\n",
      "        print('ERROR: That was not an integer. Try again.')\n",
      "\n",
      "###############################################################################\n",
      "-rwxrwxr-x 1 cohpy cohpy 689 Feb 25 18:28 20170227-except-2-valueerror-keyboard.py\n",
      "\n",
      "#!/usr/bin/env python3\n",
      "\n",
      "'''This program has one try/except sin:\n",
      "1. too much stuff in try: clause\n",
      "See https://www.python.org/dev/peps/pep-0008/#programming-recommendations.\n",
      "\n",
      "Because KeyboardInterrupt exception is explicitly caught,\n",
      "one can get out of the program by typing ^C,\n",
      "and gracefully exit without spewing diagnostics.\n",
      "'''\n",
      "\n",
      "from functools import partial\n",
      "\n",
      "prompt = 'Please enter an integer: '\n",
      "while True:\n",
      "    try:\n",
      "        for i in map(int, iter(partial(input, prompt), None)):\n",
      "            print(f'Got {i}. That is a valid integer.')\n",
      "    except ValueError:\n",
      "        print('ERROR: That was not an integer. Try again.')\n",
      "    except KeyboardInterrupt:\n",
      "        print('Byebye')\n",
      "        break\n",
      "\n",
      "###############################################################################\n",
      "-rwxrwxr-x 1 cohpy cohpy 574 Feb 25 18:42 20170227-except-3-valueerror-min-try.py\n",
      "\n",
      "#!/usr/bin/env python3\n",
      "\n",
      "'''This program has no try/except sins.\n",
      "\n",
      "Because the except is not bare and does not specify KeyboardInterrupt,\n",
      "one can get out of the program by typing ^C,\n",
      "which spews diagnostic stuff when quitting.\n",
      "'''\n",
      "\n",
      "from functools import partial\n",
      "\n",
      "prompt = 'Please enter an integer: '\n",
      "for s in iter(partial(input, prompt), None):\n",
      "    try:\n",
      "        # This try clause has minimal code. That is good!\n",
      "        i = int(s)\n",
      "    except ValueError:\n",
      "        print('ERROR: That was not an integer. Try again.')\n",
      "    else:\n",
      "        print(f'Got {i}. That is a valid integer.')\n",
      "\n",
      "###############################################################################\n",
      "-rwxrwxr-x 1 cohpy cohpy 691 Feb 25 18:44 20170227-except-4-valueerror-keyboard.py\n",
      "\n",
      "#!/usr/bin/env python3\n",
      "\n",
      "'''This program has no try/except sins.\n",
      "\n",
      "Because KeyboardInterrupt exception is explicitly caught,\n",
      "one can get out of the program by typing ^C,\n",
      "and gracefully exit without spewing diagnostics.\n",
      "'''\n",
      "\n",
      "from functools import partial\n",
      "\n",
      "prompt = 'Please enter an integer: '\n",
      "while True:\n",
      "    try:\n",
      "        # This try clause has minimal code. That is good!\n",
      "        s = input(prompt)\n",
      "    except KeyboardInterrupt:\n",
      "        print()\n",
      "        break\n",
      "    \n",
      "    try:\n",
      "        # This try clause has minimal code. That is good!\n",
      "        i = int(s)\n",
      "    except ValueError:\n",
      "        print('ERROR: That was not an integer. Try again.')\n",
      "    else:\n",
      "        print(f'Got {i}. That is a valid integer.')\n",
      "\n",
      "###############################################################################\n",
      "-rwxrwxr-x 1 cohpy cohpy 872 Feb 25 19:06 20170227-except-5-valueerror-keyboard.py\n",
      "\n",
      "#!/usr/bin/env python3\n",
      "\n",
      "'''This program has no try/except sins.\n",
      "\n",
      "Refactored to put each try/except block in a separate function.\n",
      "\n",
      "Because KeyboardInterrupt exception is explicitly caught,\n",
      "one can get out of the program by typing ^C,\n",
      "and gracefully exit without spewing diagnostics.\n",
      "'''\n",
      "\n",
      "from functools import partial\n",
      "\n",
      "def get_input(prompt):\n",
      "    try:\n",
      "        # This try clause has minimal code. That is good!\n",
      "        s = input(prompt)\n",
      "    except KeyboardInterrupt:\n",
      "        print()\n",
      "        s = None\n",
      "    return s\n",
      "\n",
      "def process_input(s):\n",
      "    try:\n",
      "        # This try clause has minimal code. That is good!\n",
      "        i = int(s)\n",
      "    except ValueError:\n",
      "        print('ERROR: That was not an integer. Try again.')\n",
      "    else:\n",
      "        print(f'Got {i}. That is a valid integer.')\n",
      "\n",
      "prompt = 'Please enter an integer: '\n",
      "for s in iter(partial(get_input, prompt), None):\n",
      "    process_input(s)\n",
      "\n"
     ]
    }
   ],
   "source": [
    "%%script bash\n",
    "for f in 20170227-except-*.py; do\n",
    "    python -c \"print('#'*79)\"\n",
    "    ls -l \"$f\"\n",
    "    echo\n",
    "    cat \"$f\"\n",
    "    echo\n",
    "done"
   ]
  }
 ],
 "metadata": {
  "kernelspec": {
   "display_name": "Python 3",
   "language": "python",
   "name": "python3"
  },
  "language_info": {
   "codemirror_mode": {
    "name": "ipython",
    "version": 3
   },
   "file_extension": ".py",
   "mimetype": "text/x-python",
   "name": "python",
   "nbconvert_exporter": "python",
   "pygments_lexer": "ipython3",
   "version": "3.6.0"
  }
 },
 "nbformat": 4,
 "nbformat_minor": 0
}
