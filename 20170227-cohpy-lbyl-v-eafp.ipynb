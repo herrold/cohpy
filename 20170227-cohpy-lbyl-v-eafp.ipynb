{
 "cells": [
  {
   "cell_type": "markdown",
   "metadata": {},
   "source": [
    "In some other languages,\n",
    "one can not recover from an error,\n",
    "or it is difficult to recover from an error,\n",
    "so one tests input before doing something that could provoke the error.\n",
    "This technique is called **Look Before You Leap** (LBYL)"
   ]
  },
  {
   "cell_type": "markdown",
   "metadata": {},
   "source": [
    "For example, in a C program,\n",
    "one must avoid trying to calculate the square root of a negative number."
   ]
  },
  {
   "cell_type": "code",
   "execution_count": 1,
   "metadata": {
    "collapsed": false
   },
   "outputs": [],
   "source": [
    "_ = '''\n",
    "#import <math.h>\n",
    "...\n",
    "double foo(double x)\n",
    "{\n",
    "    if (x < 0.)\n",
    "        return 0.;\n",
    "    else\n",
    "        return sqrt(x);\n",
    "}\n",
    "'''"
   ]
  },
  {
   "cell_type": "markdown",
   "metadata": {},
   "source": [
    "One can use the same LBYL technique in Python."
   ]
  },
  {
   "cell_type": "code",
   "execution_count": 7,
   "metadata": {
    "collapsed": false
   },
   "outputs": [],
   "source": [
    "from math import sqrt\n",
    "\n",
    "def foo(x):\n",
    "    if x < 0.:\n",
    "        return float('nan')\n",
    "    else:\n",
    "        return sqrt(x)"
   ]
  },
  {
   "cell_type": "code",
   "execution_count": 8,
   "metadata": {
    "collapsed": false
   },
   "outputs": [
    {
     "data": {
      "text/plain": [
       "3.0"
      ]
     },
     "execution_count": 8,
     "metadata": {},
     "output_type": "execute_result"
    }
   ],
   "source": [
    "foo(9)"
   ]
  },
  {
   "cell_type": "code",
   "execution_count": 9,
   "metadata": {
    "collapsed": false
   },
   "outputs": [
    {
     "data": {
      "text/plain": [
       "nan"
      ]
     },
     "execution_count": 9,
     "metadata": {},
     "output_type": "execute_result"
    }
   ],
   "source": [
    "foo(-3.14)"
   ]
  },
  {
   "cell_type": "markdown",
   "metadata": {},
   "source": [
    "Another technique is to just try stuff,\n",
    "and if it blows up, do something else.\n",
    "\n",
    "This technique is called **Easier to Ask Forgiveness than Permission** (EAFP).\n",
    "\n",
    "Python makes it very easy to do something else\n",
    "when something blows up."
   ]
  },
  {
   "cell_type": "code",
   "execution_count": 10,
   "metadata": {
    "collapsed": false
   },
   "outputs": [],
   "source": [
    "from math import sqrt\n",
    "\n",
    "def foo(x):\n",
    "    try:\n",
    "        y = sqrt(x)\n",
    "    except ValueError:\n",
    "        y = float('nan')\n",
    "    return y"
   ]
  },
  {
   "cell_type": "markdown",
   "metadata": {},
   "source": [
    "For that simple example,\n",
    "EAFP does not have much if any benefit over LBYL.\n",
    "For that simple example,\n",
    "there is not much benefit  in the size or readability of the code.\n",
    "However, for more complicated problems,\n",
    "EAFP lets one write much simpler and readable code.\n",
    "\n",
    "For example,\n",
    "determining if a string can be converted to a float is complicated,\n",
    "so just trying to convert it to a float,\n",
    "and if it blows up,\n",
    "do something else."
   ]
  },
  {
   "cell_type": "markdown",
   "metadata": {},
   "source": [
    "Show how to convert to float with LBYL.\n",
    "\n",
    "try regex code\n",
    "    nan\n",
    "    inf\n",
    "    <sign><digits>.<digits><[eE][+-]<digits>\n",
    "    \n",
    "disallow nan and inf\n",
    "    where is exponent limit for exponent?\n",
    "    do regex, then convert,\n",
    "    then test for inf\n",
    "    1.79769e308\n",
    "    \n",
    "def mogrify(s):\n",
    "    try:\n",
    "        x = float(s)\n",
    "    except ValueError:\n",
    "        x = float('nan')\n",
    "    return x"
   ]
  },
  {
   "cell_type": "code",
   "execution_count": 6,
   "metadata": {
    "collapsed": false
   },
   "outputs": [],
   "source": [
    "def mogrify(types, s):\n",
    "    '''Converts s to the first type in types that works.'''\n",
    "    for type_ in types:\n",
    "        try:\n",
    "            x = type_(s)\n",
    "        except:\n",
    "            continue\n",
    "        break\n",
    "            \n",
    "    return x"
   ]
  },
  {
   "cell_type": "code",
   "execution_count": 7,
   "metadata": {
    "collapsed": true
   },
   "outputs": [],
   "source": [
    "types = (int, float, str)\n",
    "input_strings = (\n",
    "    '-1234',\n",
    "    '-1234.',\n",
    "    '-1234.nana',\n",
    "    #'nan',\n",
    ")"
   ]
  },
  {
   "cell_type": "code",
   "execution_count": 8,
   "metadata": {
    "collapsed": false
   },
   "outputs": [
    {
     "name": "stdout",
     "output_type": "stream",
     "text": [
      "'-1234' -> -1234 (int)\n",
      "'-1234.' -> -1234.0 (float)\n",
      "'-1234.nana' -> '-1234.nana' (str)\n"
     ]
    }
   ],
   "source": [
    "for s in input_strings:\n",
    "    x = mogrify(types, s)\n",
    "    print('%r -> %r (%s)' % (s, x, x.__class__.__name__))"
   ]
  },
  {
   "cell_type": "markdown",
   "metadata": {},
   "source": [
    "That works, but is bad.\n",
    "\n",
    "One should not have naked excepts.\n",
    "\n",
    "One should specify exactly which exceptions one is going to catch.\n",
    "I often do that by just provoking the error\n",
    "and seeing what it complains about\n",
    "instead of RTFM."
   ]
  },
  {
   "cell_type": "markdown",
   "metadata": {},
   "source": [
    "Naked excepts are bad.\n",
    "\n",
    "Often provoke the error with known bad input\n",
    "just to see what error is provoked,\n",
    "then paste that error into the except statement."
   ]
  },
  {
   "cell_type": "code",
   "execution_count": 9,
   "metadata": {
    "collapsed": false
   },
   "outputs": [
    {
     "ename": "ValueError",
     "evalue": "invalid literal for int() with base 10: '-1234.'",
     "output_type": "error",
     "traceback": [
      "\u001b[1;31m---------------------------------------------------------------------------\u001b[0m",
      "\u001b[1;31mValueError\u001b[0m                                Traceback (most recent call last)",
      "\u001b[1;32m<ipython-input-9-b1958e8c5cc6>\u001b[0m in \u001b[0;36m<module>\u001b[1;34m()\u001b[0m\n\u001b[1;32m----> 1\u001b[1;33m \u001b[0mint\u001b[0m\u001b[1;33m(\u001b[0m\u001b[1;34m'-1234.'\u001b[0m\u001b[1;33m)\u001b[0m\u001b[1;33m\u001b[0m\u001b[0m\n\u001b[0m",
      "\u001b[1;31mValueError\u001b[0m: invalid literal for int() with base 10: '-1234.'"
     ]
    }
   ],
   "source": [
    "int('-1234.')"
   ]
  },
  {
   "cell_type": "code",
   "execution_count": 10,
   "metadata": {
    "collapsed": false
   },
   "outputs": [],
   "source": [
    "def mogrify(types, s):\n",
    "    '''Converts s to the first type in types that works.'''\n",
    "    for type_ in types:\n",
    "        try:\n",
    "            x = type_(s)\n",
    "        except ValueError:\n",
    "            continue\n",
    "        break\n",
    "            \n",
    "    return x"
   ]
  },
  {
   "cell_type": "code",
   "execution_count": 11,
   "metadata": {
    "collapsed": false
   },
   "outputs": [
    {
     "name": "stdout",
     "output_type": "stream",
     "text": [
      "'-1234' -> -1234 (int)\n",
      "'-1234.' -> -1234.0 (float)\n",
      "'-1234.nana' -> '-1234.nana' (str)\n"
     ]
    }
   ],
   "source": [
    "for s in input_strings:\n",
    "    x = mogrify(types, s)\n",
    "    print('%r -> %r (%s)' % (s, x, x.__class__.__name__))"
   ]
  }
 ],
 "metadata": {
  "kernelspec": {
   "display_name": "Python 3",
   "language": "python",
   "name": "python3"
  },
  "language_info": {
   "codemirror_mode": {
    "name": "ipython",
    "version": 3
   },
   "file_extension": ".py",
   "mimetype": "text/x-python",
   "name": "python",
   "nbconvert_exporter": "python",
   "pygments_lexer": "ipython3",
   "version": "3.5.2"
  }
 },
 "nbformat": 4,
 "nbformat_minor": 0
}
