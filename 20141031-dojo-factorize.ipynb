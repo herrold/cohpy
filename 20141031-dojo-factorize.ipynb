{
 "cells": [
  {
   "cell_type": "code",
   "execution_count": 1,
   "metadata": {
    "collapsed": false
   },
   "outputs": [],
   "source": [
    "def factorize(x):\n",
    "    if x <= 1 or divmod(x, 1)[1] != 0:\n",
    "        raise ValueError\n",
    "    factors = []\n",
    "    f = 2\n",
    "    while f * f <= x:\n",
    "        if x % f == 0:\n",
    "            factors.append(f)\n",
    "            x //= f\n",
    "        else:\n",
    "            f += 1\n",
    "    if x > 1:\n",
    "        factors.append(x)\n",
    "    return factors"
   ]
  },
  {
   "cell_type": "code",
   "execution_count": 2,
   "metadata": {
    "collapsed": false
   },
   "outputs": [
    {
     "data": {
      "text/plain": [
       "[2, 2, 13]"
      ]
     },
     "execution_count": 2,
     "metadata": {},
     "output_type": "execute_result"
    }
   ],
   "source": [
    "n = 52\n",
    "factorize(n)"
   ]
  },
  {
   "cell_type": "code",
   "execution_count": 3,
   "metadata": {
    "collapsed": true
   },
   "outputs": [],
   "source": [
    "known_good_output = factorize(n)"
   ]
  },
  {
   "cell_type": "code",
   "execution_count": 4,
   "metadata": {
    "collapsed": false
   },
   "outputs": [],
   "source": [
    "def largest_factor(x):\n",
    "    return factorize(x)[-1]"
   ]
  },
  {
   "cell_type": "code",
   "execution_count": 5,
   "metadata": {
    "collapsed": false
   },
   "outputs": [
    {
     "data": {
      "text/plain": [
       "13"
      ]
     },
     "execution_count": 5,
     "metadata": {},
     "output_type": "execute_result"
    }
   ],
   "source": [
    "largest_factor(n)"
   ]
  },
  {
   "cell_type": "code",
   "execution_count": 6,
   "metadata": {
    "collapsed": false
   },
   "outputs": [
    {
     "data": {
      "text/plain": [
       "101"
      ]
     },
     "execution_count": 6,
     "metadata": {},
     "output_type": "execute_result"
    }
   ],
   "source": [
    "largest_factor(int('1'*4))"
   ]
  },
  {
   "cell_type": "code",
   "execution_count": 7,
   "metadata": {
    "collapsed": false
   },
   "outputs": [],
   "source": [
    "def test_largest_factor_52():\n",
    "    assert(largest_factor(52) == 13)"
   ]
  },
  {
   "cell_type": "code",
   "execution_count": 8,
   "metadata": {
    "collapsed": false
   },
   "outputs": [
    {
     "name": "stdout",
     "output_type": "stream",
     "text": [
      "The slowest run took 6.63 times longer than the fastest. This could mean that an intermediate result is being cached \n",
      "100000 loops, best of 3: 2.12 µs per loop\n"
     ]
    }
   ],
   "source": [
    "n = 52\n",
    "%timeit factorize(n)"
   ]
  },
  {
   "cell_type": "code",
   "execution_count": 9,
   "metadata": {
    "collapsed": false
   },
   "outputs": [],
   "source": [
    "def factorize(x):\n",
    "    if x <= 1 or divmod(x, 1)[1] != 0:\n",
    "        raise ValueError\n",
    "    factors = []\n",
    "    f = 2\n",
    "    while f * f <= x:\n",
    "        if x % f == 0:\n",
    "            factors.append(f)\n",
    "            x //= f\n",
    "        else:\n",
    "            if f > 2:\n",
    "                f += 2\n",
    "            else:\n",
    "                f = 3\n",
    "    if x > 1:\n",
    "        factors.append(x)\n",
    "    return factors"
   ]
  },
  {
   "cell_type": "code",
   "execution_count": 10,
   "metadata": {
    "collapsed": false
   },
   "outputs": [
    {
     "name": "stdout",
     "output_type": "stream",
     "text": [
      "100000 loops, best of 3: 2.15 µs per loop\n"
     ]
    }
   ],
   "source": [
    "n = 52\n",
    "assert known_good_output == factorize(n)\n",
    "%timeit factorize(n)"
   ]
  },
  {
   "cell_type": "code",
   "execution_count": 11,
   "metadata": {
    "collapsed": false
   },
   "outputs": [
    {
     "data": {
      "text/plain": [
       "(0.25, 0.75, 0)"
      ]
     },
     "execution_count": 11,
     "metadata": {},
     "output_type": "execute_result"
    }
   ],
   "source": [
    "1.25 % 1, -1.25 % 1, 2 % 1"
   ]
  },
  {
   "cell_type": "code",
   "execution_count": 12,
   "metadata": {
    "collapsed": false
   },
   "outputs": [],
   "source": [
    "import math\n",
    "\n",
    "def foo(n):\n",
    "    %timeit int(n) != n\n",
    "    %timeit n % 1 != 0\n",
    "    %timeit math.modf(n)[0] != 0\n",
    "    %timeit divmod(n, 1)[1] != 0\n",
    "    %timeit n != math.trunc(n)\n",
    "    %timeit n != math.floor(n)\n",
    "    %timeit n != math.ceil(n)"
   ]
  },
  {
   "cell_type": "code",
   "execution_count": 13,
   "metadata": {
    "collapsed": false
   },
   "outputs": [
    {
     "name": "stdout",
     "output_type": "stream",
     "text": [
      "The slowest run took 37.36 times longer than the fastest. This could mean that an intermediate result is being cached \n",
      "1000000 loops, best of 3: 211 ns per loop\n",
      "The slowest run took 54.40 times longer than the fastest. This could mean that an intermediate result is being cached \n",
      "10000000 loops, best of 3: 92 ns per loop\n",
      "The slowest run took 24.29 times longer than the fastest. This could mean that an intermediate result is being cached \n",
      "1000000 loops, best of 3: 324 ns per loop\n",
      "The slowest run took 23.97 times longer than the fastest. This could mean that an intermediate result is being cached \n",
      "1000000 loops, best of 3: 298 ns per loop\n",
      "The slowest run took 24.52 times longer than the fastest. This could mean that an intermediate result is being cached \n",
      "1000000 loops, best of 3: 292 ns per loop\n",
      "The slowest run took 30.24 times longer than the fastest. This could mean that an intermediate result is being cached \n",
      "1000000 loops, best of 3: 229 ns per loop\n",
      "The slowest run took 68.74 times longer than the fastest. This could mean that an intermediate result is being cached \n",
      "1000000 loops, best of 3: 232 ns per loop\n"
     ]
    }
   ],
   "source": [
    "foo(1.5)"
   ]
  },
  {
   "cell_type": "code",
   "execution_count": 14,
   "metadata": {
    "collapsed": false
   },
   "outputs": [
    {
     "name": "stdout",
     "output_type": "stream",
     "text": [
      "The slowest run took 23.66 times longer than the fastest. This could mean that an intermediate result is being cached \n",
      "1000000 loops, best of 3: 212 ns per loop\n",
      "The slowest run took 45.33 times longer than the fastest. This could mean that an intermediate result is being cached \n",
      "10000000 loops, best of 3: 89.4 ns per loop\n",
      "The slowest run took 25.27 times longer than the fastest. This could mean that an intermediate result is being cached \n",
      "1000000 loops, best of 3: 321 ns per loop\n",
      "The slowest run took 23.80 times longer than the fastest. This could mean that an intermediate result is being cached \n",
      "1000000 loops, best of 3: 301 ns per loop\n",
      "The slowest run took 23.95 times longer than the fastest. This could mean that an intermediate result is being cached \n",
      "1000000 loops, best of 3: 289 ns per loop\n",
      "The slowest run took 34.29 times longer than the fastest. This could mean that an intermediate result is being cached \n",
      "1000000 loops, best of 3: 229 ns per loop\n",
      "The slowest run took 34.20 times longer than the fastest. This could mean that an intermediate result is being cached \n",
      "1000000 loops, best of 3: 230 ns per loop\n"
     ]
    }
   ],
   "source": [
    "foo(1234)"
   ]
  },
  {
   "cell_type": "markdown",
   "metadata": {},
   "source": [
    "Of the above, n != int(n) is the most readable.\n",
    "It's not terribly slow, so it is used below."
   ]
  },
  {
   "cell_type": "code",
   "execution_count": 15,
   "metadata": {
    "collapsed": false
   },
   "outputs": [],
   "source": [
    "def factorize(x):\n",
    "    if x <= 1 or x != int(x):\n",
    "        raise ValueError\n",
    "    factors = []\n",
    "    f = 2\n",
    "    while f * f <= x:\n",
    "        if x % f == 0:\n",
    "            factors.append(f)\n",
    "            x //= f\n",
    "        else:\n",
    "            if f > 2:\n",
    "                f += 2\n",
    "            else:\n",
    "                f = 3\n",
    "    if x > 1:\n",
    "        factors.append(x)\n",
    "    return factors"
   ]
  },
  {
   "cell_type": "code",
   "execution_count": 16,
   "metadata": {
    "collapsed": false
   },
   "outputs": [
    {
     "name": "stdout",
     "output_type": "stream",
     "text": [
      "1000000 loops, best of 3: 1.96 µs per loop\n"
     ]
    }
   ],
   "source": [
    "n = 52\n",
    "assert known_good_output == factorize(n)\n",
    "%timeit factorize(n)"
   ]
  },
  {
   "cell_type": "code",
   "execution_count": 17,
   "metadata": {
    "collapsed": false
   },
   "outputs": [],
   "source": [
    "def factorize(x):\n",
    "    if x <= 1 or x != int(x):\n",
    "        raise ValueError\n",
    "    factors = []\n",
    "    f = 2\n",
    "    while x > 1:\n",
    "        if x % f == 0:\n",
    "            factors.append(f)\n",
    "            x //= f\n",
    "        else:\n",
    "            f += 1\n",
    "    return factors"
   ]
  },
  {
   "cell_type": "code",
   "execution_count": 18,
   "metadata": {
    "collapsed": false
   },
   "outputs": [
    {
     "name": "stdout",
     "output_type": "stream",
     "text": [
      "100000 loops, best of 3: 2.83 µs per loop\n"
     ]
    }
   ],
   "source": [
    "n = 52\n",
    "assert known_good_output == factorize(n)\n",
    "%timeit factorize(n)"
   ]
  },
  {
   "cell_type": "code",
   "execution_count": 19,
   "metadata": {
    "collapsed": false
   },
   "outputs": [],
   "source": [
    "def factorize(x):\n",
    "    if x <= 1 or x != int(x):\n",
    "        raise ValueError\n",
    "    factors = []\n",
    "    f = 2\n",
    "    while x > 1:\n",
    "        if x % f == 0:\n",
    "            factors.append(f)\n",
    "            x //= f\n",
    "        else:\n",
    "            if f == 2:\n",
    "                f = 3\n",
    "            else:\n",
    "                f += 2\n",
    "    return factors"
   ]
  },
  {
   "cell_type": "code",
   "execution_count": 20,
   "metadata": {
    "collapsed": false
   },
   "outputs": [
    {
     "name": "stdout",
     "output_type": "stream",
     "text": [
      "100000 loops, best of 3: 2.53 µs per loop\n"
     ]
    }
   ],
   "source": [
    "n = 52\n",
    "assert known_good_output == factorize(n)\n",
    "%timeit factorize(n)"
   ]
  },
  {
   "cell_type": "code",
   "execution_count": 21,
   "metadata": {
    "collapsed": false
   },
   "outputs": [],
   "source": [
    "def factorize(x):\n",
    "    if x <= 1 or x != int(x):\n",
    "        raise ValueError\n",
    "    factors = []\n",
    "    f = 2\n",
    "    while x > 1:\n",
    "        while x % f == 0:\n",
    "            factors.append(f)\n",
    "            x //= f\n",
    "        else:\n",
    "            if f == 2:\n",
    "                f = 3\n",
    "            else:\n",
    "                f += 2\n",
    "    return factors"
   ]
  },
  {
   "cell_type": "code",
   "execution_count": 22,
   "metadata": {
    "collapsed": false
   },
   "outputs": [
    {
     "name": "stdout",
     "output_type": "stream",
     "text": [
      "The slowest run took 5.34 times longer than the fastest. This could mean that an intermediate result is being cached \n",
      "100000 loops, best of 3: 2.99 µs per loop\n"
     ]
    }
   ],
   "source": [
    "n = 52\n",
    "assert known_good_output == factorize(n)\n",
    "%timeit factorize(n)"
   ]
  }
 ],
 "metadata": {
  "kernelspec": {
   "display_name": "Python 2",
   "language": "python",
   "name": "python2"
  },
  "language_info": {
   "codemirror_mode": {
    "name": "ipython",
    "version": 2
   },
   "file_extension": ".py",
   "mimetype": "text/x-python",
   "name": "python",
   "nbconvert_exporter": "python",
   "pygments_lexer": "ipython2",
   "version": "2.7.6"
  }
 },
 "nbformat": 4,
 "nbformat_minor": 0
}
