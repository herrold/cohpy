{
 "cells": [
  {
   "cell_type": "markdown",
   "metadata": {},
   "source": [
    "# repr versus str\n",
    "\n",
    "str and repr are similar.\n",
    "They convert arbitrary objects to strings and often return the same string.\n",
    "Here are some objects for which repr and str\n",
    "return exactly the same strings."
   ]
  },
  {
   "cell_type": "code",
   "execution_count": 1,
   "metadata": {
    "collapsed": true
   },
   "outputs": [],
   "source": [
    "things = (\n",
    "    1/3,\n",
    "    .1,\n",
    "    1+2j,\n",
    "    [1, 'hello'],\n",
    "    ('creosote', 3),\n",
    "    {2: 'world'},\n",
    "    {'swallow'},\n",
    "    [1., {\"You're\": (3, '''tr\"'e'''), 1j: 'complexity'}, 17],\n",
    ")"
   ]
  },
  {
   "cell_type": "code",
   "execution_count": 2,
   "metadata": {
    "collapsed": false
   },
   "outputs": [],
   "source": [
    "def show(function, things):\n",
    "    print(function)\n",
    "    for thing in things:\n",
    "        print(function(thing))"
   ]
  },
  {
   "cell_type": "code",
   "execution_count": 3,
   "metadata": {
    "collapsed": false
   },
   "outputs": [
    {
     "name": "stdout",
     "output_type": "stream",
     "text": [
      "<class 'str'>\n",
      "0.3333333333333333\n",
      "0.1\n",
      "(1+2j)\n",
      "[1, 'hello']\n",
      "('creosote', 3)\n",
      "{2: 'world'}\n",
      "{'swallow'}\n",
      "[1.0, {1j: 'complexity', \"You're\": (3, 'tr\"\\'e')}, 17]\n",
      "<built-in function repr>\n",
      "0.3333333333333333\n",
      "0.1\n",
      "(1+2j)\n",
      "[1, 'hello']\n",
      "('creosote', 3)\n",
      "{2: 'world'}\n",
      "{'swallow'}\n",
      "[1.0, {1j: 'complexity', \"You're\": (3, 'tr\"\\'e')}, 17]\n"
     ]
    }
   ],
   "source": [
    "show(str, things)\n",
    "show(repr, things)"
   ]
  },
  {
   "cell_type": "code",
   "execution_count": 4,
   "metadata": {
    "collapsed": true
   },
   "outputs": [],
   "source": [
    "def compare(f1, f2, things):\n",
    "    print(f1, 'versus', f2)\n",
    "    for thing in things:\n",
    "        t1 = f1(thing)\n",
    "        t2 = f2(thing)\n",
    "        if t1 == t2:\n",
    "            print('==', t1)\n",
    "        else:\n",
    "            print('different')\n",
    "            print('    1', len(t1), t1)\n",
    "            print('    2', len(t2), t2)"
   ]
  },
  {
   "cell_type": "code",
   "execution_count": 5,
   "metadata": {
    "collapsed": false
   },
   "outputs": [
    {
     "name": "stdout",
     "output_type": "stream",
     "text": [
      "<class 'str'> versus <built-in function repr>\n",
      "== 0.3333333333333333\n",
      "== 0.1\n",
      "== (1+2j)\n",
      "== [1, 'hello']\n",
      "== ('creosote', 3)\n",
      "== {2: 'world'}\n",
      "== {'swallow'}\n",
      "== [1.0, {1j: 'complexity', \"You're\": (3, 'tr\"\\'e')}, 17]\n"
     ]
    }
   ],
   "source": [
    "compare(str, repr, things)"
   ]
  },
  {
   "cell_type": "markdown",
   "metadata": {},
   "source": [
    "Now to explore where repr and str are different.\n",
    "\n",
    "For strings, str just returns the unmodified input\n",
    "whereas repr makes a string suitable for pasting into source code,\n",
    "including correct quoting,\n",
    "even for strings with quoting characters within them.\n",
    "repr and also makes invisible stuff of strings visible."
   ]
  },
  {
   "cell_type": "code",
   "execution_count": 6,
   "metadata": {
    "collapsed": true
   },
   "outputs": [],
   "source": [
    "things = (\n",
    "    \"\"\"hello\"\"\",\n",
    "    \"\"\"    \"\"\",\n",
    "    \"\"\" \"\"\",\n",
    "    \"\"\"I'm here.\"\"\",\n",
    "    \"\"\"Foo said \"Hello world!\".\"\"\",\n",
    "    \"\"\"I'm saying \"Hello world!\".\"\"\",\n",
    "    \"\"\"\\t \"\"\",\n",
    "    \"\"\"\\001\"\"\",\n",
    "    \"\"\"π\"\"\",\n",
    ")"
   ]
  },
  {
   "cell_type": "code",
   "execution_count": 7,
   "metadata": {
    "collapsed": false,
    "scrolled": true
   },
   "outputs": [
    {
     "name": "stdout",
     "output_type": "stream",
     "text": [
      "<class 'str'>\n",
      "hello\n",
      "    \n",
      " \n",
      "I'm here.\n",
      "Foo said \"Hello world!\".\n",
      "I'm saying \"Hello world!\".\n",
      "\t \n",
      "\u0001\n",
      "π\n"
     ]
    }
   ],
   "source": [
    "show(str, things)"
   ]
  },
  {
   "cell_type": "code",
   "execution_count": 8,
   "metadata": {
    "collapsed": false
   },
   "outputs": [
    {
     "name": "stdout",
     "output_type": "stream",
     "text": [
      "<built-in function repr>\n",
      "'hello'\n",
      "'    '\n",
      "' '\n",
      "\"I'm here.\"\n",
      "'Foo said \"Hello world!\".'\n",
      "'I\\'m saying \"Hello world!\".'\n",
      "'\\t '\n",
      "'\\x01'\n",
      "'π'\n"
     ]
    }
   ],
   "source": [
    "show(repr, things)"
   ]
  },
  {
   "cell_type": "code",
   "execution_count": 9,
   "metadata": {
    "collapsed": false
   },
   "outputs": [
    {
     "name": "stdout",
     "output_type": "stream",
     "text": [
      "<class 'str'> versus <built-in function repr>\n",
      "different\n",
      "    1 5 hello\n",
      "    2 7 'hello'\n",
      "different\n",
      "    1 4     \n",
      "    2 6 '    '\n",
      "different\n",
      "    1 1  \n",
      "    2 3 ' '\n",
      "different\n",
      "    1 9 I'm here.\n",
      "    2 11 \"I'm here.\"\n",
      "different\n",
      "    1 24 Foo said \"Hello world!\".\n",
      "    2 26 'Foo said \"Hello world!\".'\n",
      "different\n",
      "    1 26 I'm saying \"Hello world!\".\n",
      "    2 29 'I\\'m saying \"Hello world!\".'\n",
      "different\n",
      "    1 2 \t \n",
      "    2 5 '\\t '\n",
      "different\n",
      "    1 1 \u0001\n",
      "    2 6 '\\x01'\n",
      "different\n",
      "    1 1 π\n",
      "    2 3 'π'\n"
     ]
    }
   ],
   "source": [
    "compare(str, repr, things)"
   ]
  },
  {
   "cell_type": "markdown",
   "metadata": {},
   "source": [
    "For basic data types,\n",
    "repr makes a string suitable for pasting into source code."
   ]
  },
  {
   "cell_type": "code",
   "execution_count": 10,
   "metadata": {
    "collapsed": false
   },
   "outputs": [
    {
     "name": "stdout",
     "output_type": "stream",
     "text": [
      "I'm saying \"Hello world!\".\n"
     ]
    }
   ],
   "source": [
    "s = 'I\\'m saying \"Hello world!\".'\n",
    "print(s)"
   ]
  },
  {
   "cell_type": "code",
   "execution_count": 11,
   "metadata": {
    "collapsed": false
   },
   "outputs": [
    {
     "name": "stdout",
     "output_type": "stream",
     "text": [
      "I'm saying \"Hello world!\".\n",
      "'I\\'m saying \"Hello world!\".'\n"
     ]
    }
   ],
   "source": [
    "print(str(s))\n",
    "print(repr(s))"
   ]
  },
  {
   "cell_type": "markdown",
   "metadata": {},
   "source": [
    "I often use repr for debugging output to see details.\n",
    "\n",
    "That is my main use of repr."
   ]
  },
  {
   "cell_type": "markdown",
   "metadata": {
    "collapsed": true
   },
   "source": [
    "---\n",
    "\n",
    "# Extra stuff\n",
    "\n",
    "The following arose during the presentation of the above."
   ]
  },
  {
   "cell_type": "markdown",
   "metadata": {},
   "source": [
    "Someone asked how repr handles bytestrings compared to str,\n",
    "so we played with that. It turns out that they are identical."
   ]
  },
  {
   "cell_type": "code",
   "execution_count": 12,
   "metadata": {
    "collapsed": true
   },
   "outputs": [],
   "source": [
    "things = (\n",
    "    b'a \\t\\nbyt\\'\"e string',\n",
    ")"
   ]
  },
  {
   "cell_type": "code",
   "execution_count": 13,
   "metadata": {
    "collapsed": false
   },
   "outputs": [
    {
     "name": "stdout",
     "output_type": "stream",
     "text": [
      "<class 'str'> versus <built-in function repr>\n",
      "== b'a \\t\\nbyt\\'\"e string'\n"
     ]
    }
   ],
   "source": [
    "compare(str, repr, things)"
   ]
  },
  {
   "cell_type": "markdown",
   "metadata": {},
   "source": [
    "Quoting strings with ''' or \"\"\"\n",
    "and how to encode ''' or \"\"\" in a string."
   ]
  },
  {
   "cell_type": "code",
   "execution_count": 14,
   "metadata": {
    "collapsed": true
   },
   "outputs": [],
   "source": [
    "things = (\n",
    "    # string with three '\n",
    "    \"'''\",\n",
    "    \"\"\"'''\"\"\",\n",
    "    # string with three \"\n",
    "    '\"\"\"',\n",
    "    '''\"\"\"''',\n",
    "    # a string with three ' and three \"\n",
    "    \"\"\"'''\"\"\"    '''\"\"\"''',\n",
    "    \"\"\"'''\\\"\\\"\\\"\"\"\",\n",
    "    # multiline string\n",
    "    '''sometext\n",
    "    type some more text\n",
    "    type something different''',\n",
    ")"
   ]
  },
  {
   "cell_type": "code",
   "execution_count": 15,
   "metadata": {
    "collapsed": false
   },
   "outputs": [
    {
     "name": "stdout",
     "output_type": "stream",
     "text": [
      "<class 'str'> versus <built-in function repr>\n",
      "different\n",
      "    1 3 '''\n",
      "    2 5 \"'''\"\n",
      "different\n",
      "    1 3 '''\n",
      "    2 5 \"'''\"\n",
      "different\n",
      "    1 3 \"\"\"\n",
      "    2 5 '\"\"\"'\n",
      "different\n",
      "    1 3 \"\"\"\n",
      "    2 5 '\"\"\"'\n",
      "different\n",
      "    1 6 '''\"\"\"\n",
      "    2 11 '\\'\\'\\'\"\"\"'\n",
      "different\n",
      "    1 6 '''\"\"\"\n",
      "    2 11 '\\'\\'\\'\"\"\"'\n",
      "different\n",
      "    1 61 sometext\n",
      "    type some more text\n",
      "    type something different\n",
      "    2 65 'sometext\\n    type some more text\\n    type something different'\n"
     ]
    }
   ],
   "source": [
    "compare(str, repr, things)"
   ]
  }
 ],
 "metadata": {
  "kernelspec": {
   "display_name": "Python 3",
   "language": "python",
   "name": "python3"
  },
  "language_info": {
   "codemirror_mode": {
    "name": "ipython",
    "version": 3
   },
   "file_extension": ".py",
   "mimetype": "text/x-python",
   "name": "python",
   "nbconvert_exporter": "python",
   "pygments_lexer": "ipython3",
   "version": "3.6.0"
  }
 },
 "nbformat": 4,
 "nbformat_minor": 0
}
