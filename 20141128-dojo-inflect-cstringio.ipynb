{
 "metadata": {
  "name": "dojo-20141128"
 },
 "nbformat": 3,
 "nbformat_minor": 0,
 "worksheets": [
  {
   "cells": [
    {
     "cell_type": "code",
     "collapsed": false,
     "input": [
      "from __future__ import print_function\n",
      "import cStringIO"
     ],
     "language": "python",
     "metadata": {},
     "outputs": [],
     "prompt_number": 1
    },
    {
     "cell_type": "code",
     "collapsed": false,
     "input": [
      "import inflect\n",
      "p = inflect.engine()"
     ],
     "language": "python",
     "metadata": {},
     "outputs": [],
     "prompt_number": 2
    },
    {
     "cell_type": "code",
     "collapsed": false,
     "input": [
      "# This works fine, but I hate typing those numbers.\n",
      "gifts = [\n",
      "    'a partridge in a pear tree',\n",
      "    'two turtle doves',\n",
      "    'three french hens',\n",
      "    ]"
     ],
     "language": "python",
     "metadata": {},
     "outputs": [],
     "prompt_number": 3
    },
    {
     "cell_type": "code",
     "collapsed": false,
     "input": [
      "unnumbered_gifts = [\n",
      "    'partridge in a pear tree',\n",
      "    'turtle doves',\n",
      "    'french hens',\n",
      "    'calling birds',\n",
      "    'gold rings',\n",
      "    'geese-a-laying',\n",
      "    'swans-a-swimming',\n",
      "    'maids-a-milking',\n",
      "    'ladies dancing',\n",
      "    'lords-a-leaping',\n",
      "    'pipers piping',\n",
      "    'drummers drumming',\n",
      "    ]"
     ],
     "language": "python",
     "metadata": {},
     "outputs": [],
     "prompt_number": 4
    },
    {
     "cell_type": "code",
     "collapsed": false,
     "input": [
      "# This works, but the if/else is too complex, too ugly.\n",
      "gifts = [\n",
      "    ' '.join([(p.number_to_words(i) if i > 1 else 'a'), gift])\n",
      "    for i, gift in enumerate(unnumbered_gifts, 1)]\n",
      "gifts"
     ],
     "language": "python",
     "metadata": {},
     "outputs": [
      {
       "output_type": "pyout",
       "prompt_number": 5,
       "text": [
        "['a partridge in a pear tree',\n",
        " 'two turtle doves',\n",
        " 'three french hens',\n",
        " 'four calling birds',\n",
        " 'five gold rings',\n",
        " 'six geese-a-laying',\n",
        " 'seven swans-a-swimming',\n",
        " 'eight maids-a-milking',\n",
        " 'nine ladies dancing',\n",
        " 'ten lords-a-leaping',\n",
        " 'eleven pipers piping',\n",
        " 'twelve drummers drumming']"
       ]
      }
     ],
     "prompt_number": 5
    },
    {
     "cell_type": "code",
     "collapsed": false,
     "input": [
      "# This is more straightforward, handling the idiomatic 'a' separately.\n",
      "gifts = [\n",
      "    p.number_to_words(i) + ' ' + gift\n",
      "    for i, gift in enumerate(unnumbered_gifts, 1)]\n",
      "gifts[0] = gifts[0].replace('one', 'a', 1)\n",
      "gifts"
     ],
     "language": "python",
     "metadata": {},
     "outputs": [
      {
       "output_type": "pyout",
       "prompt_number": 6,
       "text": [
        "['a partridge in a pear tree',\n",
        " 'two turtle doves',\n",
        " 'three french hens',\n",
        " 'four calling birds',\n",
        " 'five gold rings',\n",
        " 'six geese-a-laying',\n",
        " 'seven swans-a-swimming',\n",
        " 'eight maids-a-milking',\n",
        " 'nine ladies dancing',\n",
        " 'ten lords-a-leaping',\n",
        " 'eleven pipers piping',\n",
        " 'twelve drummers drumming']"
       ]
      }
     ],
     "prompt_number": 6
    },
    {
     "cell_type": "code",
     "collapsed": false,
     "input": [
      "def combine(items, separator, last_separator):\n",
      "    terms_before_last = separator.join(items[:-1])\n",
      "    if terms_before_last:\n",
      "        return last_separator.join([terms_before_last, items[-1]])\n",
      "    else:\n",
      "        return items[-1]\n",
      "    \n",
      "if False:\n",
      "    print(combine(['one', 'two', 'three'], '\\n', '\\nand '))\n",
      "    print(combine(['uno', 'dos'], '\\n', '\\nand '))\n",
      "    print(combine(['one'], '\\n', '\\nand '))"
     ],
     "language": "python",
     "metadata": {},
     "outputs": [],
     "prompt_number": 7
    },
    {
     "cell_type": "code",
     "collapsed": false,
     "input": [
      "if True:\n",
      "    gifts = gifts[:3]"
     ],
     "language": "python",
     "metadata": {},
     "outputs": [],
     "prompt_number": 8
    },
    {
     "cell_type": "code",
     "collapsed": false,
     "input": [
      "gifts.reverse()"
     ],
     "language": "python",
     "metadata": {},
     "outputs": [],
     "prompt_number": 9
    },
    {
     "cell_type": "code",
     "collapsed": false,
     "input": [
      "# The 1s in the range argments are a bit awkward.\n",
      "for n in range(1, len(gifts)+1):\n",
      "    nth = p.number_to_words(p.ordinal(n))\n",
      "    print('On the %s day of Christmas, my true love sent to me' % nth)\n",
      "    print(combine(gifts[-n:], '\\n', '\\nand ') + '.')\n",
      "    print()"
     ],
     "language": "python",
     "metadata": {},
     "outputs": [
      {
       "output_type": "stream",
       "stream": "stdout",
       "text": [
        "On the first day of Christmas, my true love sent to me\n",
        "a partridge in a pear tree.\n",
        "\n",
        "On the second day of Christmas, my true love sent to me\n",
        "two turtle doves\n",
        "and a partridge in a pear tree.\n",
        "\n",
        "On the third day of Christmas, my true love sent to me\n",
        "three french hens\n",
        "two turtle doves\n",
        "and a partridge in a pear tree.\n",
        "\n"
       ]
      }
     ],
     "prompt_number": 10
    },
    {
     "cell_type": "code",
     "collapsed": false,
     "input": [
      "# The n += 1 is straightforward now, but the range(len()) is awkward.\n",
      "for n in range(len(gifts)):\n",
      "    n += 1\n",
      "    nth = p.number_to_words(p.ordinal(n))\n",
      "    print('On the %s day of Christmas, my true love sent to me' % nth)\n",
      "    print(combine(gifts[-n:], '\\n', '\\nand ') + '.')\n",
      "    print()"
     ],
     "language": "python",
     "metadata": {},
     "outputs": [
      {
       "output_type": "stream",
       "stream": "stdout",
       "text": [
        "On the first day of Christmas, my true love sent to me\n",
        "a partridge in a pear tree.\n",
        "\n",
        "On the second day of Christmas, my true love sent to me\n",
        "two turtle doves\n",
        "and a partridge in a pear tree.\n",
        "\n",
        "On the third day of Christmas, my true love sent to me\n",
        "three french hens\n",
        "two turtle doves\n",
        "and a partridge in a pear tree.\n",
        "\n"
       ]
      }
     ],
     "prompt_number": 11
    },
    {
     "cell_type": "code",
     "collapsed": false,
     "input": [
      "# That I ignore the iterated gift is awkward.\n",
      "# The enumeration is nice.\n",
      "for n, dont_care in enumerate(gifts, 1):\n",
      "    nth = p.number_to_words(p.ordinal(n))\n",
      "    print('On the %s day of Christmas, my true love sent to me' % nth)\n",
      "    print(combine(gifts[-n:], '\\n', '\\nand ') + '.')\n",
      "    print()"
     ],
     "language": "python",
     "metadata": {},
     "outputs": [
      {
       "output_type": "stream",
       "stream": "stdout",
       "text": [
        "On the first day of Christmas, my true love sent to me\n",
        "a partridge in a pear tree.\n",
        "\n",
        "On the second day of Christmas, my true love sent to me\n",
        "two turtle doves\n",
        "and a partridge in a pear tree.\n",
        "\n",
        "On the third day of Christmas, my true love sent to me\n",
        "three french hens\n",
        "two turtle doves\n",
        "and a partridge in a pear tree.\n",
        "\n"
       ]
      }
     ],
     "prompt_number": 12
    },
    {
     "cell_type": "code",
     "collapsed": false,
     "input": [
      "# For TDD, avoid I/O in function.\n",
      "def make_lyrics():\n",
      "    output = cStringIO.StringIO()\n",
      "    for n, dont_care in enumerate(gifts, 1):\n",
      "        nth = p.number_to_words(p.ordinal(n))\n",
      "        print('On the %s day of Christmas, my true love sent to me' % nth, file=output)\n",
      "        print(combine(gifts[-n:], '\\n', '\\nand ') + '.', file=output)\n",
      "        print(file=output)\n",
      "    return output.getvalue()"
     ],
     "language": "python",
     "metadata": {},
     "outputs": [],
     "prompt_number": 13
    },
    {
     "cell_type": "code",
     "collapsed": false,
     "input": [
      "# For TDD, avoid I/O in function.\n",
      "def make_lyrics():\n",
      "    lyrics = []\n",
      "    for n, dont_care in enumerate(gifts, 1):\n",
      "        nth = p.number_to_words(p.ordinal(n))\n",
      "        lyrics.extend([\n",
      "            'On the %s day of Christmas, my true love sent to me' % nth,\n",
      "            combine(gifts[-n:], '\\n', '\\nand ') + '.',\n",
      "            '',\n",
      "            ])\n",
      "    return '\\n'.join(lyrics)"
     ],
     "language": "python",
     "metadata": {},
     "outputs": [],
     "prompt_number": 14
    },
    {
     "cell_type": "code",
     "collapsed": false,
     "input": [
      "print(make_lyrics())"
     ],
     "language": "python",
     "metadata": {},
     "outputs": [
      {
       "output_type": "stream",
       "stream": "stdout",
       "text": [
        "On the first day of Christmas, my true love sent to me\n",
        "a partridge in a pear tree.\n",
        "\n",
        "On the second day of Christmas, my true love sent to me\n",
        "two turtle doves\n",
        "and a partridge in a pear tree.\n",
        "\n",
        "On the third day of Christmas, my true love sent to me\n",
        "three french hens\n",
        "two turtle doves\n",
        "and a partridge in a pear tree.\n",
        "\n"
       ]
      }
     ],
     "prompt_number": 15
    },
    {
     "cell_type": "code",
     "collapsed": false,
     "input": [
      "with open('12doc.lyrics', 'w') as file:\n",
      "    file.write(make_lyrics())\n",
      "!! espeak <12doc.lyrics 2>/dev/null"
     ],
     "language": "python",
     "metadata": {},
     "outputs": [
      {
       "output_type": "pyout",
       "prompt_number": 16,
       "text": [
        "[]"
       ]
      }
     ],
     "prompt_number": 16
    }
   ],
   "metadata": {}
  }
 ]
}