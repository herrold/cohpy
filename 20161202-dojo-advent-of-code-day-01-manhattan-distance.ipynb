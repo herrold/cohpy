{
 "cells": [
  {
   "cell_type": "markdown",
   "metadata": {},
   "source": [
    "[Advent Of Code](http://adventofcode.com/) [2016](http://adventofcode.com/2016/) [Day 1: No Time for a Taxicab](http://adventofcode.com/2016/day/1)\n",
    "\n",
    "Cell #1 has decent, straightforward, readable code.\n",
    "Cell #4 is more readable, but requires understanding of complex numbers.\n",
    "After cell #4, it descends into obfuscations."
   ]
  },
  {
   "cell_type": "code",
   "execution_count": 1,
   "metadata": {
    "collapsed": false
   },
   "outputs": [
    {
     "name": "stdout",
     "output_type": "stream",
     "text": [
      "You are 44 blocks away \n"
     ]
    }
   ],
   "source": [
    "#!/usr/bin/env python3\n",
    "\n",
    "'First, a very straightforward readable solution.'\n",
    "  \n",
    "from math import sin, cos, radians\n",
    "\n",
    "deflection_of_turn = {  # Unit is one degree clockwise.\n",
    "    'r': +90,\n",
    "    'l': -90,\n",
    "}\n",
    "\n",
    "NORTH = 0.\n",
    "\n",
    "def get_manhattan_distance(*points):\n",
    "    return sum(\n",
    "        abs(coordinate1 - coordinate2)\n",
    "        for coordinate1, coordinate2 in zip(*points))\n",
    "\n",
    "def main(\n",
    "    moves=None,\n",
    "    azimuth=None,  # Unit is 1 degree clockwise. 0 is North.\n",
    "    location=None,  # [east, north] Unit is 1 block for each coordinate.\n",
    "):\n",
    "    starting_location = location\n",
    "    for move in moves.split(','):\n",
    "        # print(repr(move))\n",
    "        turn, *distance_chars = move.strip()\n",
    "        distance = float(''.join(distance_chars))\n",
    "        azimuth += deflection_of_turn[turn.lower()]\n",
    "\n",
    "        location = tuple(\n",
    "            coordinate + distance * func(radians(azimuth))\n",
    "            for coordinate, func in zip(location, (sin, cos)))\n",
    "        # print(repr((turn, azimuth, distance, location)))\n",
    "\n",
    "    print(\"You are {distance} blocks away \".format(\n",
    "        distance=round(get_manhattan_distance(location, starting_location))))\n",
    "\n",
    "moves = '''\n",
    "R4, R5, L5, L5, L3, R2, R3, R2, L1, R5, R1, L5, R2, L2, L4, R3,\n",
    "L1, R4, L5, R4, R3, L5, L3, R4, R2, L5, L5, R2, R3, R5, R4, R2,\n",
    "R1, L1, L5, L2, L3, L4, L5, L4, L5, L1, R3, R4, R5, R3, L5, L4,\n",
    "L3, L1, L4, R2, R5, R5, R4, L2, L4, R3, R1, L2, R5, L5, R1, R1,\n",
    "L1, L5, L5, L2, L1, R5, R2, L4, L1, R4, R3, L3, R1, R5, L1, L4,\n",
    "R2, L3, R5, R3, R1, L3'''\n",
    "    \n",
    "if __name__ == '__main__': \n",
    "    main(moves=moves, azimuth=NORTH, location=(0., .0))"
   ]
  },
  {
   "cell_type": "code",
   "execution_count": 2,
   "metadata": {
    "collapsed": true
   },
   "outputs": [],
   "source": [
    "import cmath\n",
    "from math import radians"
   ]
  },
  {
   "cell_type": "code",
   "execution_count": 3,
   "metadata": {
    "collapsed": false
   },
   "outputs": [
    {
     "data": {
      "text/plain": [
       "(8.660254037844387+4.999999999999999j)"
      ]
     },
     "execution_count": 3,
     "metadata": {},
     "output_type": "execute_result"
    }
   ],
   "source": [
    "cmath.rect(10., radians(30))"
   ]
  },
  {
   "cell_type": "code",
   "execution_count": 4,
   "metadata": {
    "collapsed": false
   },
   "outputs": [
    {
     "name": "stdout",
     "output_type": "stream",
     "text": [
      "You are 44 blocks away \n"
     ]
    }
   ],
   "source": [
    "#!/usr/bin/env python3\n",
    "\n",
    "'''Use complex numbers to simplify code.\n",
    "The location calculation is particularly nice.'''\n",
    "  \n",
    "from math import radians\n",
    "import cmath\n",
    "\n",
    "deflection_of_turn = {  # Unit is one degree clockwise.\n",
    "    'r': +90,\n",
    "    'l': -90,\n",
    "}\n",
    "\n",
    "NORTH = 0.\n",
    "\n",
    "def get_manhattan_distance(point1, point2):\n",
    "    d = point2 - point1\n",
    "    return sum(map(abs, (d.real, d.imag)))\n",
    "\n",
    "def main(\n",
    "    moves=None,\n",
    "    azimuth=None,  # Unit is 1 degree clockwise. 0 is North.\n",
    "    location=None,  # north + east j Unit is 1 block.\n",
    "):\n",
    "    starting_location = location\n",
    "    for move in moves.split(','):\n",
    "        # print(repr(move))\n",
    "        turn, *distance_chars = move.strip()\n",
    "        distance = float(''.join(distance_chars))\n",
    "        azimuth += deflection_of_turn[turn.lower()]\n",
    "        location += cmath.rect(distance, radians(azimuth))\n",
    "        # print(repr((turn, azimuth, distance, location)))\n",
    "\n",
    "    print(\"You are {distance} blocks away \".format(\n",
    "        distance=round(get_manhattan_distance(location, starting_location))))\n",
    "\n",
    "moves = '''\n",
    "R4, R5, L5, L5, L3, R2, R3, R2, L1, R5, R1, L5, R2, L2, L4, R3,\n",
    "L1, R4, L5, R4, R3, L5, L3, R4, R2, L5, L5, R2, R3, R5, R4, R2,\n",
    "R1, L1, L5, L2, L3, L4, L5, L4, L5, L1, R3, R4, R5, R3, L5, L4,\n",
    "L3, L1, L4, R2, R5, R5, R4, L2, L4, R3, R1, L2, R5, L5, R1, R1,\n",
    "L1, L5, L5, L2, L1, R5, R2, L4, L1, R4, R3, L3, R1, R5, L1, L4,\n",
    "R2, L3, R5, R3, R1, L3'''\n",
    "    \n",
    "if __name__ == '__main__': \n",
    "    main(moves=moves, azimuth=NORTH, location=0.+0.j)"
   ]
  },
  {
   "cell_type": "code",
   "execution_count": 5,
   "metadata": {
    "collapsed": false
   },
   "outputs": [
    {
     "name": "stdout",
     "output_type": "stream",
     "text": [
      "You are 44 blocks away \n"
     ]
    }
   ],
   "source": [
    "#!/usr/bin/env python3\n",
    "\n",
    "'''Use functional approach to obfuscate the code.\n",
    "Look ma, no for loops.'''\n",
    "  \n",
    "from math import radians\n",
    "import cmath\n",
    "from itertools import accumulate, starmap\n",
    "\n",
    "NORTH = 0.\n",
    "\n",
    "def get_manhattan_distance(point1, point2):\n",
    "    d = point2 - point1\n",
    "    return sum(map(abs, (d.real, d.imag)))\n",
    "\n",
    "def deflection(move):\n",
    "    deflection_of_turn = {  # Unit is one degree clockwise.\n",
    "        'r': +90,\n",
    "        'l': -90,\n",
    "    }\n",
    "\n",
    "    turn, *_ = move.strip()[0]\n",
    "    return deflection_of_turn[turn.lower()]\n",
    "\n",
    "def distance(move):\n",
    "    _, *distance_chars = move.strip()\n",
    "    return float(''.join(distance_chars))\n",
    "\n",
    "def main(\n",
    "    moves=None,\n",
    "    azimuth=None,  # Unit is 1 degree clockwise. 0 is North.\n",
    "    location=None,  # north + east j Unit is 1 block.\n",
    "):\n",
    "    starting_location = location\n",
    "    \n",
    "    moves = [move.strip() for move in moves.split(',')]\n",
    "    location += sum(\n",
    "        starmap(cmath.rect,\n",
    "            zip(\n",
    "                map(distance, moves),\n",
    "                map(radians, accumulate(map(deflection, moves))))))\n",
    "\n",
    "    print(\"You are {distance} blocks away \".format(\n",
    "        distance=round(get_manhattan_distance(location, starting_location))))\n",
    "\n",
    "moves = '''\n",
    "R4, R5, L5, L5, L3, R2, R3, R2, L1, R5, R1, L5, R2, L2, L4, R3,\n",
    "L1, R4, L5, R4, R3, L5, L3, R4, R2, L5, L5, R2, R3, R5, R4, R2,\n",
    "R1, L1, L5, L2, L3, L4, L5, L4, L5, L1, R3, R4, R5, R3, L5, L4,\n",
    "L3, L1, L4, R2, R5, R5, R4, L2, L4, R3, R1, L2, R5, L5, R1, R1,\n",
    "L1, L5, L5, L2, L1, R5, R2, L4, L1, R4, R3, L3, R1, R5, L1, L4,\n",
    "R2, L3, R5, R3, R1, L3'''\n",
    "    \n",
    "if __name__ == '__main__': \n",
    "    main(moves=moves, azimuth=NORTH, location=0.+0.j)"
   ]
  },
  {
   "cell_type": "code",
   "execution_count": 6,
   "metadata": {
    "collapsed": false
   },
   "outputs": [
    {
     "name": "stdout",
     "output_type": "stream",
     "text": [
      "You are 44 blocks away \n"
     ]
    }
   ],
   "source": [
    "#!/usr/bin/env python3\n",
    "\n",
    "'Use lambdas for more obfuscation.'\n",
    "  \n",
    "from math import radians\n",
    "import cmath\n",
    "from itertools import accumulate, starmap\n",
    "\n",
    "NORTH = 0.\n",
    "\n",
    "def get_manhattan_distance(point1, point2):\n",
    "    d = point2 - point1\n",
    "    return sum(map(abs, (d.real, d.imag)))\n",
    "\n",
    "\n",
    "deflection_of_turn = dict(map(\n",
    "    lambda x: (x[0].lower()[:1], x[1]),\n",
    "    zip(\n",
    "        ('Right', 'Left'),\n",
    "        (+90, -90)  # Unit is one degree clockwise.\n",
    "    )\n",
    "))\n",
    "\n",
    "def main(\n",
    "    moves=None,\n",
    "    azimuth=None,  # Unit is 1 degree clockwise. 0 is North.\n",
    "    location=None,  # north + east j Unit is 1 block.\n",
    "):\n",
    "    starting_location = location\n",
    "    \n",
    "    moves = [move.strip() for move in moves.split(',')]\n",
    "    location += sum(starmap(\n",
    "        cmath.rect,\n",
    "        zip(\n",
    "            map(lambda move: float(''.join(move.strip()[1:])), moves),\n",
    "            map(\n",
    "                radians,\n",
    "                accumulate(map(\n",
    "                    lambda move: deflection_of_turn[move.strip()[:1].lower()],\n",
    "                    moves))))))\n",
    "\n",
    "    print(\"You are {distance} blocks away \".format(\n",
    "        distance=round(get_manhattan_distance(location, starting_location))))\n",
    "\n",
    "moves = '''\n",
    "R4, R5, L5, L5, L3, R2, R3, R2, L1, R5, R1, L5, R2, L2, L4, R3,\n",
    "L1, R4, L5, R4, R3, L5, L3, R4, R2, L5, L5, R2, R3, R5, R4, R2,\n",
    "R1, L1, L5, L2, L3, L4, L5, L4, L5, L1, R3, R4, R5, R3, L5, L4,\n",
    "L3, L1, L4, R2, R5, R5, R4, L2, L4, R3, R1, L2, R5, L5, R1, R1,\n",
    "L1, L5, L5, L2, L1, R5, R2, L4, L1, R4, R3, L3, R1, R5, L1, L4,\n",
    "R2, L3, R5, R3, R1, L3'''\n",
    "    \n",
    "if __name__ == '__main__': \n",
    "    main(moves=moves, azimuth=NORTH, location=0.+0.j)"
   ]
  }
 ],
 "metadata": {
  "kernelspec": {
   "display_name": "Python 3",
   "language": "python",
   "name": "python3"
  },
  "language_info": {
   "codemirror_mode": {
    "name": "ipython",
    "version": 3
   },
   "file_extension": ".py",
   "mimetype": "text/x-python",
   "name": "python",
   "nbconvert_exporter": "python",
   "pygments_lexer": "ipython3",
   "version": "3.4.3"
  }
 },
 "nbformat": 4,
 "nbformat_minor": 0
}
