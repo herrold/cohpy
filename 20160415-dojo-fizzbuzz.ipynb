{
 "cells": [
  {
   "cell_type": "markdown",
   "metadata": {},
   "source": [
    "This is an example of some simple code for beginners to explore, to see how there are multiple ways to do something, and discuss what is better or worse about various solutions.\n",
    "\n",
    "This task comes from Jeff Atwood's article\n",
    "[FizzBuzz: the Programmer's Stairway to Heaven](http://blog.codinghorror.com/fizzbuzz-the-programmers-stairway-to-heaven/).\n",
    "It will be interesting if some beginner\n",
    "is asked to do FizzBuzz during an interview after exploring this."
   ]
  },
  {
   "cell_type": "code",
   "execution_count": 1,
   "metadata": {
    "collapsed": false
   },
   "outputs": [
    {
     "name": "stdout",
     "output_type": "stream",
     "text": [
      "1\n",
      "2\n",
      "Fizz\n",
      "4\n",
      "Buzz\n",
      "Fizz\n",
      "7\n",
      "8\n",
      "Fizz\n",
      "Buzz\n",
      "11\n",
      "Fizz\n",
      "13\n",
      "14\n",
      "FizzBuzz\n",
      "16\n",
      "17\n",
      "Fizz\n",
      "19\n",
      "Buzz\n"
     ]
    }
   ],
   "source": [
    "# First code\n",
    "# This code works, but the flag variable is terribly ugly.\n",
    "# Also, the end='' argument in the print functions is ugly.\n",
    "# Also, there are many print functions. Fewer would be prettier.\n",
    "\n",
    "def fizzbuzz(n):\n",
    "    for i in range(1, n + 1):\n",
    "        is_a_multiple = False\n",
    "        if i % 3 == 0:\n",
    "            print('Fizz', end='')\n",
    "            is_a_multiple = True\n",
    "        if i % 5 == 0:\n",
    "            print('Buzz', end='')\n",
    "            is_a_multiple = True\n",
    "        if is_a_multiple:\n",
    "            print()\n",
    "        else:\n",
    "            print(i)\n",
    "            \n",
    "# The range is limited for ease of development.\n",
    "# Needed to include 3 * 5 in that range.\n",
    "\n",
    "n = 20\n",
    "fizzbuzz(n)"
   ]
  },
  {
   "cell_type": "code",
   "execution_count": 2,
   "metadata": {
    "collapsed": false
   },
   "outputs": [
    {
     "name": "stdout",
     "output_type": "stream",
     "text": [
      "1\n",
      "2\n",
      "Fizz\n",
      "4\n",
      "Buzz\n",
      "Fizz\n",
      "7\n",
      "8\n",
      "Fizz\n",
      "Buzz\n",
      "11\n",
      "Fizz\n",
      "13\n",
      "14\n",
      "FizzBuzz\n",
      "16\n",
      "17\n",
      "Fizz\n",
      "19\n",
      "Buzz\n"
     ]
    }
   ],
   "source": [
    "# Simplified much.\n",
    "# The ugly flag variable is gone,\n",
    "# replaced by a list, which accretes 'Fizz', 'Buzz', and str(i) as needed.\n",
    "# There is only one print function and it is at the end.\n",
    "\n",
    "def fizzbuzz(n):\n",
    "    for i in range(1, n + 1):\n",
    "        s = []\n",
    "        if i % 3 == 0:\n",
    "            s.append('Fizz')\n",
    "        if i % 5 == 0:\n",
    "            s.append('Buzz')\n",
    "        if not s:\n",
    "            s.append(str(i))\n",
    "        print(''.join(s))\n",
    "        \n",
    "n = 20\n",
    "fizzbuzz(n)"
   ]
  },
  {
   "cell_type": "code",
   "execution_count": 3,
   "metadata": {
    "collapsed": false
   },
   "outputs": [
    {
     "name": "stdout",
     "output_type": "stream",
     "text": [
      "1\n",
      "2\n",
      "Fizz\n",
      "4\n",
      "Buzz\n",
      "Fizz\n",
      "7\n",
      "8\n",
      "Fizz\n",
      "Buzz\n",
      "11\n",
      "Fizz\n",
      "13\n",
      "14\n",
      "FizzBuzz\n",
      "16\n",
      "17\n",
      "Fizz\n",
      "19\n",
      "Buzz\n"
     ]
    }
   ],
   "source": [
    "# This plays with directly printing the number,\n",
    "# instead of appending str(i) to s.\n",
    "# I prefer the single print of the earlier cell.\n",
    "\n",
    "def fizzbuzz(n):\n",
    "    for i in range(1, n + 1):\n",
    "        s = []\n",
    "        if i % 3 == 0:\n",
    "            s.append('Fizz')\n",
    "        if i % 5 == 0:\n",
    "            s.append('Buzz')\n",
    "        if not s:\n",
    "            print(i)\n",
    "        else:\n",
    "            print(''.join(s))\n",
    "            \n",
    "n = 20\n",
    "fizzbuzz(n)"
   ]
  },
  {
   "cell_type": "code",
   "execution_count": 4,
   "metadata": {
    "collapsed": false
   },
   "outputs": [
    {
     "name": "stdout",
     "output_type": "stream",
     "text": [
      "1\n",
      "2\n",
      "Fizz\n",
      "4\n",
      "Buzz\n",
      "Fizz\n",
      "7\n",
      "8\n",
      "Fizz\n",
      "Buzz\n",
      "11\n",
      "Fizz\n",
      "13\n",
      "14\n",
      "FizzBuzz\n",
      "16\n",
      "17\n",
      "Fizz\n",
      "19\n",
      "Buzz\n"
     ]
    }
   ],
   "source": [
    "# Make the function, a pure function.\n",
    "# That is:\n",
    "#     The function has no I/O.\n",
    "#     The function's return value depends only in the input value.\n",
    "# A drawback is that it requires much RAM for large n.\n",
    "\n",
    "def fizzbuzz(n):\n",
    "    t = []\n",
    "    for i in range(1, n + 1):\n",
    "        s = []\n",
    "        if i % 3 == 0:\n",
    "            s.append('Fizz')\n",
    "        if i % 5 == 0:\n",
    "            s.append('Buzz')\n",
    "        if not s:\n",
    "            s.append(str(i))\n",
    "        t.append(''.join(s))\n",
    "    return '\\n'.join(t)\n",
    "\n",
    "n = 20\n",
    "print(fizzbuzz(n))"
   ]
  },
  {
   "cell_type": "code",
   "execution_count": 5,
   "metadata": {
    "collapsed": false
   },
   "outputs": [
    {
     "name": "stdout",
     "output_type": "stream",
     "text": [
      "1\n",
      "2\n",
      "Fizz\n",
      "4\n",
      "Buzz\n",
      "Fizz\n",
      "7\n",
      "8\n",
      "Fizz\n",
      "Buzz\n",
      "11\n",
      "Fizz\n",
      "13\n",
      "14\n",
      "FizzBuzz\n",
      "16\n",
      "17\n",
      "Fizz\n",
      "19\n",
      "Buzz\n"
     ]
    }
   ],
   "source": [
    "# Give s and t meaningful names.\n",
    "\n",
    "def fizzbuzz(n):\n",
    "    lines = []\n",
    "    for i in range(1, n + 1):\n",
    "        terms = []\n",
    "        if i % 3 == 0:\n",
    "            terms.append('Fizz')\n",
    "        if i % 5 == 0:\n",
    "            terms.append('Buzz')\n",
    "        if not terms:\n",
    "            terms.append(str(i))\n",
    "        lines.append(''.join(terms))\n",
    "    return '\\n'.join(lines)\n",
    "\n",
    "n = 20\n",
    "print(fizzbuzz(n))"
   ]
  },
  {
   "cell_type": "code",
   "execution_count": 6,
   "metadata": {
    "collapsed": false
   },
   "outputs": [
    {
     "name": "stdout",
     "output_type": "stream",
     "text": [
      "1\n",
      "2\n",
      "Fizz\n",
      "4\n",
      "Buzz\n",
      "Fizz\n",
      "7\n",
      "8\n",
      "Fizz\n",
      "Buzz\n",
      "11\n",
      "Fizz\n",
      "13\n",
      "14\n",
      "FizzBuzz\n",
      "16\n",
      "17\n",
      "Fizz\n",
      "19\n",
      "Buzz\n"
     ]
    }
   ],
   "source": [
    "# Should lines have a new line for each line?\n",
    "# Let's try it.\n",
    "# It works, but the code got a little uglier, so I am against this code.\n",
    "\n",
    "def fizzbuzz(n):\n",
    "    lines = []\n",
    "    for i in range(1, n + 1):\n",
    "        terms = []\n",
    "        if i % 3 == 0:\n",
    "            terms.append('Fizz')\n",
    "        if i % 5 == 0:\n",
    "            terms.append('Buzz')\n",
    "        if not terms:\n",
    "            terms.append(str(i))\n",
    "        terms.append('\\n')\n",
    "        lines.append(''.join(terms))\n",
    "    return ''.join(lines)\n",
    "\n",
    "n = 20\n",
    "print(fizzbuzz(n), end='')"
   ]
  },
  {
   "cell_type": "code",
   "execution_count": 7,
   "metadata": {
    "collapsed": false
   },
   "outputs": [
    {
     "name": "stdout",
     "output_type": "stream",
     "text": [
      "1\n",
      "2\n",
      "Fizz\n",
      "4\n",
      "Buzz\n",
      "Fizz\n",
      "7\n",
      "8\n",
      "Fizz\n",
      "Buzz\n",
      "11\n",
      "Fizz\n",
      "13\n",
      "14\n",
      "FizzBuzz\n",
      "16\n",
      "17\n",
      "Fizz\n",
      "19\n",
      "Buzz\n"
     ]
    }
   ],
   "source": [
    "# Let's convert an earlier version to a generator.\n",
    "\n",
    "def fizzbuzz(n):\n",
    "    for i in range(1, n + 1):\n",
    "        terms = []\n",
    "        if i % 3 == 0:\n",
    "            terms.append('Fizz')\n",
    "        if i % 5 == 0:\n",
    "            terms.append('Buzz')\n",
    "        if not terms:\n",
    "            terms.append(str(i))\n",
    "        yield ''.join(terms)\n",
    "\n",
    "n = 20\n",
    "for line in fizzbuzz(n):\n",
    "    print(line)"
   ]
  },
  {
   "cell_type": "code",
   "execution_count": 8,
   "metadata": {
    "collapsed": false
   },
   "outputs": [
    {
     "name": "stdout",
     "output_type": "stream",
     "text": [
      "1\n",
      "2\n",
      "Fizz\n",
      "4\n",
      "Buzz\n",
      "Fizz\n",
      "7\n",
      "8\n",
      "Fizz\n",
      "Buzz\n",
      "11\n",
      "Fizz\n",
      "13\n",
      "14\n",
      "FizzBuzz\n",
      "16\n",
      "17\n",
      "Fizz\n",
      "19\n",
      "Buzz\n",
      "Fizz\n",
      "22\n",
      "23\n",
      "Fizz\n",
      "Buzz\n",
      "26\n",
      "Fizz\n",
      "28\n",
      "29\n",
      "FizzBuzz\n",
      "31\n",
      "32\n",
      "Fizz\n",
      "34\n",
      "Buzz\n",
      "Fizz\n",
      "37\n",
      "38\n",
      "Fizz\n",
      "Buzz\n",
      "41\n",
      "Fizz\n",
      "43\n",
      "44\n",
      "FizzBuzz\n",
      "46\n",
      "47\n",
      "Fizz\n",
      "49\n",
      "Buzz\n",
      "Fizz\n",
      "52\n",
      "53\n",
      "Fizz\n",
      "Buzz\n",
      "56\n",
      "Fizz\n",
      "58\n",
      "59\n",
      "FizzBuzz\n",
      "61\n",
      "62\n",
      "Fizz\n",
      "64\n",
      "Buzz\n",
      "Fizz\n",
      "67\n",
      "68\n",
      "Fizz\n",
      "Buzz\n",
      "71\n",
      "Fizz\n",
      "73\n",
      "74\n",
      "FizzBuzz\n",
      "76\n",
      "77\n",
      "Fizz\n",
      "79\n",
      "Buzz\n",
      "Fizz\n",
      "82\n",
      "83\n",
      "Fizz\n",
      "Buzz\n",
      "86\n",
      "Fizz\n",
      "88\n",
      "89\n",
      "FizzBuzz\n",
      "91\n",
      "92\n",
      "Fizz\n",
      "94\n",
      "Buzz\n",
      "Fizz\n",
      "97\n",
      "98\n",
      "Fizz\n",
      "Buzz\n"
     ]
    }
   ],
   "source": [
    "# I can not think of more improvements,\n",
    "# so run it for n specified by Jeff Atwood.\n",
    "\n",
    "def fizzbuzz(n):\n",
    "    lines = []\n",
    "    for i in range(1, n + 1):\n",
    "        terms = []\n",
    "        if i % 3 == 0:\n",
    "            terms.append('Fizz')\n",
    "        if i % 5 == 0:\n",
    "            terms.append('Buzz')\n",
    "        if not terms:\n",
    "            terms.append(str(i))\n",
    "        lines.append(''.join(terms))\n",
    "    return '\\n'.join(lines)\n",
    "\n",
    "n = 100\n",
    "print(fizzbuzz(n))"
   ]
  }
 ],
 "metadata": {
  "kernelspec": {
   "display_name": "Python 3",
   "language": "python",
   "name": "python3"
  },
  "language_info": {
   "codemirror_mode": {
    "name": "ipython",
    "version": 3
   },
   "file_extension": ".py",
   "mimetype": "text/x-python",
   "name": "python",
   "nbconvert_exporter": "python",
   "pygments_lexer": "ipython3",
   "version": "3.4.3"
  }
 },
 "nbformat": 4,
 "nbformat_minor": 0
}
